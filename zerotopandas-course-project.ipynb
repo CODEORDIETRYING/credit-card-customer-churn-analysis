{
 "cells": [
  {
   "cell_type": "markdown",
   "metadata": {
    "id": "fkwOqSsGKG7g"
   },
   "source": [
    "# Credit Card Customer Churn Analysis and Prediction\n",
    "\n",
    "In simple terms 'Customer Churn' is the fraction of customers that stopped using your company's product or service during a certain period of time. The churn rate is an important metric companies use to know how they stand as regards customer retention. The churn rate is calculated by dividing the number of customers a company lost during a specific time period - say a month, by the number of customers at the beginning of the time frame. \n",
    "\n",
    "In this project, I ran exploratory data analysis on the given data set to visualize and get a sense of the general trends in product usage and customer demographics. Also, I wrote a predictive model to help accurately determine what data points are critical to customer churn and profer solutions on how the business can reduce churn and ultimately card renewals.\n",
    "\n",
    "Hope you enjoy going through this, half as much as I enjoyed working on it.\n",
    "\n",
    "The data set was gotten from Kaggle and the credit card company details remain undisclosed. This project was part of the final project delivery for the ZeroToPandas course by Jovian. [Data Analysis with Python: Zero to Pandas](zerotopandas.com), and what you've learned from it."
   ]
  },
  {
   "cell_type": "markdown",
   "metadata": {
    "id": "M9VmhffzKG7l"
   },
   "source": [
    "### How to run the code\n",
    "\n",
    "This is an executable [*Jupyter notebook*](https://jupyter.org) hosted on [Jovian.ml](https://www.jovian.ml), a platform for sharing data science projects. You can run and experiment with the code in a couple of ways: *using free online resources* (recommended) or *on your own computer*.\n",
    "\n",
    "#### Option 1: Running using free online resources (1-click, recommended)\n",
    "\n",
    "The easiest way to start executing this notebook is to click the \"Run\" button at the top of this page, and select \"Run on Binder\". This will run the notebook on [mybinder.org](https://mybinder.org), a free online service for running Jupyter notebooks. You can also select \"Run on Colab\" or \"Run on Kaggle\".\n",
    "\n",
    "\n",
    "#### Option 2: Running on your computer locally\n",
    "\n",
    "1. Install Conda by [following these instructions](https://conda.io/projects/conda/en/latest/user-guide/install/index.html). Add Conda binaries to your system `PATH`, so you can use the `conda` command on your terminal.\n",
    "\n",
    "2. Create a Conda environment and install the required libraries by running these commands on the terminal:\n",
    "\n",
    "```\n",
    "conda create -n zerotopandas -y python=3.8 \n",
    "conda activate zerotopandas\n",
    "pip install jovian jupyter numpy pandas matplotlib seaborn opendatasets --upgrade\n",
    "```\n",
    "\n",
    "3. Press the \"Clone\" button above to copy the command for downloading the notebook, and run it on the terminal. This will create a new directory and download the notebook. The command will look something like this:\n",
    "\n",
    "```\n",
    "jovian clone notebook-owner/notebook-id\n",
    "```\n",
    "\n",
    "\n",
    "\n",
    "4. Enter the newly created directory using `cd directory-name` and start the Jupyter notebook.\n",
    "\n",
    "```\n",
    "jupyter notebook\n",
    "```\n",
    "\n",
    "You can now access Jupyter's web interface by clicking the link that shows up on the terminal or by visiting http://localhost:8888 on your browser. Click on the notebook file (it has a `.ipynb` extension) to open it.\n"
   ]
  },
  {
   "cell_type": "markdown",
   "metadata": {
    "id": "rI56DXWBKG7q"
   },
   "source": [
    "## Downloading the Dataset\n",
    "\n",
    "The data set used for this project was downloaded from Kaggle using the [`opendatasets`](https://github.com/JovianML/opendatasets#opendatasets) python library. If you would like to also get this dataset into your jupyter notebook and run analyses of your own, kindly follow these steps:\n",
    "\n",
    "**1.** Install and import the opendatasets library as shown below. <br>\n",
    "**2.** Signup/login to your Kaggle account. Click on the profile image at the top right corner of the page. Click on account and navigate to \"Create New API Token\". <br>\n",
    "**3.** Once you click on \"Create New API Token\", a Kaggle.json file would be downloaded.  <br>\n",
    "**4.** After the file is downloaded, it has to be stored on the jupyter directory. To do this, open up jupyter (locally or on your browser), click on File >> Open. Once the directory opens up, click on \"Upload\" to import the Kaggle.json file. <br>\n",
    "**5.** Copy the web link to the dataset you want to download on Kaggle. <br>\n",
    "**6.** Pass the copied link as an argument in the opendatasets.download() method to download and extract the dataset. <br>\n",
    "**7.** When ruinning `opendatasets.download()`, you would be prompted to input your Kaggle username and key. This can be found by opening the .json file just uploaded to the jupyter directory. <br>\n",
    "**8.** You are all set!"
   ]
  },
  {
   "cell_type": "code",
   "execution_count": null,
   "metadata": {
    "id": "yHudUD-0KG75"
   },
   "outputs": [],
   "source": [
    "!pip install jovian opendatasets --upgrade --quiet"
   ]
  },
  {
   "cell_type": "markdown",
   "metadata": {
    "id": "LPXxcu3cKG7-"
   },
   "source": [
    "Let's begin by downloading the data, and listing the files within the dataset."
   ]
  },
  {
   "cell_type": "code",
   "execution_count": null,
   "metadata": {
    "id": "avSIy7yGKG8D"
   },
   "outputs": [],
   "source": [
    "dataset_url = 'https://www.kaggle.com/sakshigoyal7/credit-card-customers' "
   ]
  },
  {
   "cell_type": "code",
   "execution_count": null,
   "metadata": {
    "colab": {
     "base_uri": "https://localhost:8080/"
    },
    "executionInfo": {
     "elapsed": 22,
     "status": "ok",
     "timestamp": 1645185492319,
     "user": {
      "displayName": "Solomon Ayanlakin",
      "photoUrl": "https://lh3.googleusercontent.com/a-/AOh14GiB_fxjvTIkhmNkjjvXiK_Bt-vZ7xIOpwCETDy55w=s64",
      "userId": "03035833066819512937"
     },
     "user_tz": -60
    },
    "id": "_UAapcYqKG8I",
    "outputId": "9885695c-3673-4210-f1cf-d492a792480d"
   },
   "outputs": [
    {
     "name": "stdout",
     "output_type": "stream",
     "text": [
      "Skipping, found downloaded files in \"./credit-card-customers\" (use force=True to force download)\n"
     ]
    }
   ],
   "source": [
    "import opendatasets as od\n",
    "od.download(dataset_url)"
   ]
  },
  {
   "cell_type": "markdown",
   "metadata": {
    "id": "uNr9Y1CrKG8Q"
   },
   "source": [
    "The dataset has been downloaded and extracted."
   ]
  },
  {
   "cell_type": "code",
   "execution_count": null,
   "metadata": {
    "id": "ZhsvyVnPKG8T"
   },
   "outputs": [],
   "source": [
    "data_dir = './credit-card-customers'"
   ]
  },
  {
   "cell_type": "code",
   "execution_count": null,
   "metadata": {
    "colab": {
     "base_uri": "https://localhost:8080/"
    },
    "executionInfo": {
     "elapsed": 20,
     "status": "ok",
     "timestamp": 1645185492321,
     "user": {
      "displayName": "Solomon Ayanlakin",
      "photoUrl": "https://lh3.googleusercontent.com/a-/AOh14GiB_fxjvTIkhmNkjjvXiK_Bt-vZ7xIOpwCETDy55w=s64",
      "userId": "03035833066819512937"
     },
     "user_tz": -60
    },
    "id": "YDos7aEaKG8Y",
    "outputId": "2d27413b-c8f3-441a-becb-36b6ce42a7fc"
   },
   "outputs": [
    {
     "data": {
      "text/plain": [
       "['BankChurners.csv']"
      ]
     },
     "execution_count": 118,
     "metadata": {},
     "output_type": "execute_result"
    }
   ],
   "source": [
    "import os\n",
    "os.listdir(data_dir)"
   ]
  },
  {
   "cell_type": "markdown",
   "metadata": {
    "id": "2qDwmYIUKG8b"
   },
   "source": [
    "Let us save and upload our work to Jovian before continuing."
   ]
  },
  {
   "cell_type": "code",
   "execution_count": null,
   "metadata": {
    "id": "Jh0cwtm9KG8d"
   },
   "outputs": [],
   "source": [
    "project_name = \"credit-card-churn-analysis\" "
   ]
  },
  {
   "cell_type": "code",
   "execution_count": null,
   "metadata": {
    "id": "8GBGH75DKG8g"
   },
   "outputs": [],
   "source": [
    "!pip install jovian --upgrade -q"
   ]
  },
  {
   "cell_type": "code",
   "execution_count": null,
   "metadata": {
    "id": "ceg1m2qSKG8j"
   },
   "outputs": [],
   "source": [
    "import jovian"
   ]
  },
  {
   "cell_type": "code",
   "execution_count": null,
   "metadata": {
    "colab": {
     "base_uri": "https://localhost:8080/",
     "height": 105
    },
    "executionInfo": {
     "elapsed": 1442,
     "status": "ok",
     "timestamp": 1645185497333,
     "user": {
      "displayName": "Solomon Ayanlakin",
      "photoUrl": "https://lh3.googleusercontent.com/a-/AOh14GiB_fxjvTIkhmNkjjvXiK_Bt-vZ7xIOpwCETDy55w=s64",
      "userId": "03035833066819512937"
     },
     "user_tz": -60
    },
    "id": "XRU9_JY3KG8l",
    "outputId": "96630fac-2d6c-4730-d472-1ee313b0162a"
   },
   "outputs": [
    {
     "name": "stdout",
     "output_type": "stream",
     "text": [
      "[jovian] Detected Colab notebook...\u001b[0m\n",
      "[jovian] Uploading colab notebook to Jovian...\u001b[0m\n"
     ]
    },
    {
     "name": "stderr",
     "output_type": "stream",
     "text": [
      "\u001b[31m[jovian] Error: Looks like the notebook is missing output cells, please save the notebook and try jovian.commit again.\u001b[0m\n"
     ]
    },
    {
     "name": "stdout",
     "output_type": "stream",
     "text": [
      "Committed successfully! https://jovian.ai/solomon-ayanlakin/credit-card-churn-analysis\n"
     ]
    },
    {
     "data": {
      "application/vnd.google.colaboratory.intrinsic+json": {
       "type": "string"
      },
      "text/plain": [
       "'https://jovian.ai/solomon-ayanlakin/credit-card-churn-analysis'"
      ]
     },
     "execution_count": 122,
     "metadata": {},
     "output_type": "execute_result"
    }
   ],
   "source": [
    "jovian.commit(project=project_name)"
   ]
  },
  {
   "cell_type": "markdown",
   "metadata": {
    "id": "sVShEK0uKG8o"
   },
   "source": [
    "## Data Preparation and Cleaning\n",
    "\n",
    "Importing the pandas as pd and loading the data set into a data frame. I also made use of some pandas methods to have a wholistic view on the dataset. \n",
    "\n"
   ]
  },
  {
   "cell_type": "code",
   "execution_count": null,
   "metadata": {
    "colab": {
     "base_uri": "https://localhost:8080/"
    },
    "executionInfo": {
     "elapsed": 82,
     "status": "ok",
     "timestamp": 1645185497335,
     "user": {
      "displayName": "Solomon Ayanlakin",
      "photoUrl": "https://lh3.googleusercontent.com/a-/AOh14GiB_fxjvTIkhmNkjjvXiK_Bt-vZ7xIOpwCETDy55w=s64",
      "userId": "03035833066819512937"
     },
     "user_tz": -60
    },
    "id": "_XyDy746KG8s",
    "outputId": "b7507a9d-bd8a-4c96-8cd6-a305bd79ec2e"
   },
   "outputs": [
    {
     "name": "stdout",
     "output_type": "stream",
     "text": [
      "Using matplotlib backend: agg\n",
      "Populating the interactive namespace from numpy and matplotlib\n"
     ]
    }
   ],
   "source": [
    "%pylab\n",
    "import pandas as pd"
   ]
  },
  {
   "cell_type": "code",
   "execution_count": null,
   "metadata": {
    "id": "aQLU3V2aKG8t"
   },
   "outputs": [],
   "source": [
    "bank_churn_df = pd.read_csv(data_dir + '/BankChurners.csv')"
   ]
  },
  {
   "cell_type": "markdown",
   "metadata": {
    "id": "N1gvhEnBPuPZ"
   },
   "source": [
    "Displaying the first 5 rows of the dataset using `.head()` method and formatting the display using `.style.set_properties()`. This allows us set the background color, font size, font color and more for the output."
   ]
  },
  {
   "cell_type": "code",
   "execution_count": null,
   "metadata": {
    "colab": {
     "base_uri": "https://localhost:8080/",
     "height": 226
    },
    "executionInfo": {
     "elapsed": 85,
     "status": "ok",
     "timestamp": 1645185497343,
     "user": {
      "displayName": "Solomon Ayanlakin",
      "photoUrl": "https://lh3.googleusercontent.com/a-/AOh14GiB_fxjvTIkhmNkjjvXiK_Bt-vZ7xIOpwCETDy55w=s64",
      "userId": "03035833066819512937"
     },
     "user_tz": -60
    },
    "id": "StGsZQrEPnXA",
    "outputId": "120816d0-9c74-4375-cc28-7e0e9b916d13"
   },
   "outputs": [
    {
     "data": {
      "text/html": [
       "<style type=\"text/css\">\n",
       "#T_a97ea_row0_col0, #T_a97ea_row0_col1, #T_a97ea_row0_col2, #T_a97ea_row0_col3, #T_a97ea_row0_col4, #T_a97ea_row0_col5, #T_a97ea_row0_col6, #T_a97ea_row0_col7, #T_a97ea_row0_col8, #T_a97ea_row0_col9, #T_a97ea_row0_col10, #T_a97ea_row0_col11, #T_a97ea_row0_col12, #T_a97ea_row0_col13, #T_a97ea_row0_col14, #T_a97ea_row0_col15, #T_a97ea_row0_col16, #T_a97ea_row0_col17, #T_a97ea_row0_col18, #T_a97ea_row0_col19, #T_a97ea_row0_col20, #T_a97ea_row0_col21, #T_a97ea_row0_col22, #T_a97ea_row1_col0, #T_a97ea_row1_col1, #T_a97ea_row1_col2, #T_a97ea_row1_col3, #T_a97ea_row1_col4, #T_a97ea_row1_col5, #T_a97ea_row1_col6, #T_a97ea_row1_col7, #T_a97ea_row1_col8, #T_a97ea_row1_col9, #T_a97ea_row1_col10, #T_a97ea_row1_col11, #T_a97ea_row1_col12, #T_a97ea_row1_col13, #T_a97ea_row1_col14, #T_a97ea_row1_col15, #T_a97ea_row1_col16, #T_a97ea_row1_col17, #T_a97ea_row1_col18, #T_a97ea_row1_col19, #T_a97ea_row1_col20, #T_a97ea_row1_col21, #T_a97ea_row1_col22, #T_a97ea_row2_col0, #T_a97ea_row2_col1, #T_a97ea_row2_col2, #T_a97ea_row2_col3, #T_a97ea_row2_col4, #T_a97ea_row2_col5, #T_a97ea_row2_col6, #T_a97ea_row2_col7, #T_a97ea_row2_col8, #T_a97ea_row2_col9, #T_a97ea_row2_col10, #T_a97ea_row2_col11, #T_a97ea_row2_col12, #T_a97ea_row2_col13, #T_a97ea_row2_col14, #T_a97ea_row2_col15, #T_a97ea_row2_col16, #T_a97ea_row2_col17, #T_a97ea_row2_col18, #T_a97ea_row2_col19, #T_a97ea_row2_col20, #T_a97ea_row2_col21, #T_a97ea_row2_col22, #T_a97ea_row3_col0, #T_a97ea_row3_col1, #T_a97ea_row3_col2, #T_a97ea_row3_col3, #T_a97ea_row3_col4, #T_a97ea_row3_col5, #T_a97ea_row3_col6, #T_a97ea_row3_col7, #T_a97ea_row3_col8, #T_a97ea_row3_col9, #T_a97ea_row3_col10, #T_a97ea_row3_col11, #T_a97ea_row3_col12, #T_a97ea_row3_col13, #T_a97ea_row3_col14, #T_a97ea_row3_col15, #T_a97ea_row3_col16, #T_a97ea_row3_col17, #T_a97ea_row3_col18, #T_a97ea_row3_col19, #T_a97ea_row3_col20, #T_a97ea_row3_col21, #T_a97ea_row3_col22, #T_a97ea_row4_col0, #T_a97ea_row4_col1, #T_a97ea_row4_col2, #T_a97ea_row4_col3, #T_a97ea_row4_col4, #T_a97ea_row4_col5, #T_a97ea_row4_col6, #T_a97ea_row4_col7, #T_a97ea_row4_col8, #T_a97ea_row4_col9, #T_a97ea_row4_col10, #T_a97ea_row4_col11, #T_a97ea_row4_col12, #T_a97ea_row4_col13, #T_a97ea_row4_col14, #T_a97ea_row4_col15, #T_a97ea_row4_col16, #T_a97ea_row4_col17, #T_a97ea_row4_col18, #T_a97ea_row4_col19, #T_a97ea_row4_col20, #T_a97ea_row4_col21, #T_a97ea_row4_col22 {\n",
       "  background-color: black;\n",
       "  color: white;\n",
       "  border-color: white;\n",
       "  font-size: 10pt;\n",
       "  width: 250;\n",
       "}\n",
       "</style>\n",
       "<table id=\"T_a97ea_\" class=\"dataframe\">\n",
       "  <thead>\n",
       "    <tr>\n",
       "      <th class=\"blank level0\" >&nbsp;</th>\n",
       "      <th class=\"col_heading level0 col0\" >CLIENTNUM</th>\n",
       "      <th class=\"col_heading level0 col1\" >Attrition_Flag</th>\n",
       "      <th class=\"col_heading level0 col2\" >Customer_Age</th>\n",
       "      <th class=\"col_heading level0 col3\" >Gender</th>\n",
       "      <th class=\"col_heading level0 col4\" >Dependent_count</th>\n",
       "      <th class=\"col_heading level0 col5\" >Education_Level</th>\n",
       "      <th class=\"col_heading level0 col6\" >Marital_Status</th>\n",
       "      <th class=\"col_heading level0 col7\" >Income_Category</th>\n",
       "      <th class=\"col_heading level0 col8\" >Card_Category</th>\n",
       "      <th class=\"col_heading level0 col9\" >Months_on_book</th>\n",
       "      <th class=\"col_heading level0 col10\" >Total_Relationship_Count</th>\n",
       "      <th class=\"col_heading level0 col11\" >Months_Inactive_12_mon</th>\n",
       "      <th class=\"col_heading level0 col12\" >Contacts_Count_12_mon</th>\n",
       "      <th class=\"col_heading level0 col13\" >Credit_Limit</th>\n",
       "      <th class=\"col_heading level0 col14\" >Total_Revolving_Bal</th>\n",
       "      <th class=\"col_heading level0 col15\" >Avg_Open_To_Buy</th>\n",
       "      <th class=\"col_heading level0 col16\" >Total_Amt_Chng_Q4_Q1</th>\n",
       "      <th class=\"col_heading level0 col17\" >Total_Trans_Amt</th>\n",
       "      <th class=\"col_heading level0 col18\" >Total_Trans_Ct</th>\n",
       "      <th class=\"col_heading level0 col19\" >Total_Ct_Chng_Q4_Q1</th>\n",
       "      <th class=\"col_heading level0 col20\" >Avg_Utilization_Ratio</th>\n",
       "      <th class=\"col_heading level0 col21\" >Naive_Bayes_Classifier_Attrition_Flag_Card_Category_Contacts_Count_12_mon_Dependent_count_Education_Level_Months_Inactive_12_mon_1</th>\n",
       "      <th class=\"col_heading level0 col22\" >Naive_Bayes_Classifier_Attrition_Flag_Card_Category_Contacts_Count_12_mon_Dependent_count_Education_Level_Months_Inactive_12_mon_2</th>\n",
       "    </tr>\n",
       "  </thead>\n",
       "  <tbody>\n",
       "    <tr>\n",
       "      <th id=\"T_a97ea_level0_row0\" class=\"row_heading level0 row0\" >0</th>\n",
       "      <td id=\"T_a97ea_row0_col0\" class=\"data row0 col0\" >768805383</td>\n",
       "      <td id=\"T_a97ea_row0_col1\" class=\"data row0 col1\" >Existing Customer</td>\n",
       "      <td id=\"T_a97ea_row0_col2\" class=\"data row0 col2\" >45</td>\n",
       "      <td id=\"T_a97ea_row0_col3\" class=\"data row0 col3\" >M</td>\n",
       "      <td id=\"T_a97ea_row0_col4\" class=\"data row0 col4\" >3</td>\n",
       "      <td id=\"T_a97ea_row0_col5\" class=\"data row0 col5\" >High School</td>\n",
       "      <td id=\"T_a97ea_row0_col6\" class=\"data row0 col6\" >Married</td>\n",
       "      <td id=\"T_a97ea_row0_col7\" class=\"data row0 col7\" >$60K - $80K</td>\n",
       "      <td id=\"T_a97ea_row0_col8\" class=\"data row0 col8\" >Blue</td>\n",
       "      <td id=\"T_a97ea_row0_col9\" class=\"data row0 col9\" >39</td>\n",
       "      <td id=\"T_a97ea_row0_col10\" class=\"data row0 col10\" >5</td>\n",
       "      <td id=\"T_a97ea_row0_col11\" class=\"data row0 col11\" >1</td>\n",
       "      <td id=\"T_a97ea_row0_col12\" class=\"data row0 col12\" >3</td>\n",
       "      <td id=\"T_a97ea_row0_col13\" class=\"data row0 col13\" >12691.000000</td>\n",
       "      <td id=\"T_a97ea_row0_col14\" class=\"data row0 col14\" >777</td>\n",
       "      <td id=\"T_a97ea_row0_col15\" class=\"data row0 col15\" >11914.000000</td>\n",
       "      <td id=\"T_a97ea_row0_col16\" class=\"data row0 col16\" >1.335000</td>\n",
       "      <td id=\"T_a97ea_row0_col17\" class=\"data row0 col17\" >1144</td>\n",
       "      <td id=\"T_a97ea_row0_col18\" class=\"data row0 col18\" >42</td>\n",
       "      <td id=\"T_a97ea_row0_col19\" class=\"data row0 col19\" >1.625000</td>\n",
       "      <td id=\"T_a97ea_row0_col20\" class=\"data row0 col20\" >0.061000</td>\n",
       "      <td id=\"T_a97ea_row0_col21\" class=\"data row0 col21\" >0.000093</td>\n",
       "      <td id=\"T_a97ea_row0_col22\" class=\"data row0 col22\" >0.999910</td>\n",
       "    </tr>\n",
       "    <tr>\n",
       "      <th id=\"T_a97ea_level0_row1\" class=\"row_heading level0 row1\" >1</th>\n",
       "      <td id=\"T_a97ea_row1_col0\" class=\"data row1 col0\" >818770008</td>\n",
       "      <td id=\"T_a97ea_row1_col1\" class=\"data row1 col1\" >Existing Customer</td>\n",
       "      <td id=\"T_a97ea_row1_col2\" class=\"data row1 col2\" >49</td>\n",
       "      <td id=\"T_a97ea_row1_col3\" class=\"data row1 col3\" >F</td>\n",
       "      <td id=\"T_a97ea_row1_col4\" class=\"data row1 col4\" >5</td>\n",
       "      <td id=\"T_a97ea_row1_col5\" class=\"data row1 col5\" >Graduate</td>\n",
       "      <td id=\"T_a97ea_row1_col6\" class=\"data row1 col6\" >Single</td>\n",
       "      <td id=\"T_a97ea_row1_col7\" class=\"data row1 col7\" >Less than $40K</td>\n",
       "      <td id=\"T_a97ea_row1_col8\" class=\"data row1 col8\" >Blue</td>\n",
       "      <td id=\"T_a97ea_row1_col9\" class=\"data row1 col9\" >44</td>\n",
       "      <td id=\"T_a97ea_row1_col10\" class=\"data row1 col10\" >6</td>\n",
       "      <td id=\"T_a97ea_row1_col11\" class=\"data row1 col11\" >1</td>\n",
       "      <td id=\"T_a97ea_row1_col12\" class=\"data row1 col12\" >2</td>\n",
       "      <td id=\"T_a97ea_row1_col13\" class=\"data row1 col13\" >8256.000000</td>\n",
       "      <td id=\"T_a97ea_row1_col14\" class=\"data row1 col14\" >864</td>\n",
       "      <td id=\"T_a97ea_row1_col15\" class=\"data row1 col15\" >7392.000000</td>\n",
       "      <td id=\"T_a97ea_row1_col16\" class=\"data row1 col16\" >1.541000</td>\n",
       "      <td id=\"T_a97ea_row1_col17\" class=\"data row1 col17\" >1291</td>\n",
       "      <td id=\"T_a97ea_row1_col18\" class=\"data row1 col18\" >33</td>\n",
       "      <td id=\"T_a97ea_row1_col19\" class=\"data row1 col19\" >3.714000</td>\n",
       "      <td id=\"T_a97ea_row1_col20\" class=\"data row1 col20\" >0.105000</td>\n",
       "      <td id=\"T_a97ea_row1_col21\" class=\"data row1 col21\" >0.000057</td>\n",
       "      <td id=\"T_a97ea_row1_col22\" class=\"data row1 col22\" >0.999940</td>\n",
       "    </tr>\n",
       "    <tr>\n",
       "      <th id=\"T_a97ea_level0_row2\" class=\"row_heading level0 row2\" >2</th>\n",
       "      <td id=\"T_a97ea_row2_col0\" class=\"data row2 col0\" >713982108</td>\n",
       "      <td id=\"T_a97ea_row2_col1\" class=\"data row2 col1\" >Existing Customer</td>\n",
       "      <td id=\"T_a97ea_row2_col2\" class=\"data row2 col2\" >51</td>\n",
       "      <td id=\"T_a97ea_row2_col3\" class=\"data row2 col3\" >M</td>\n",
       "      <td id=\"T_a97ea_row2_col4\" class=\"data row2 col4\" >3</td>\n",
       "      <td id=\"T_a97ea_row2_col5\" class=\"data row2 col5\" >Graduate</td>\n",
       "      <td id=\"T_a97ea_row2_col6\" class=\"data row2 col6\" >Married</td>\n",
       "      <td id=\"T_a97ea_row2_col7\" class=\"data row2 col7\" >$80K - $120K</td>\n",
       "      <td id=\"T_a97ea_row2_col8\" class=\"data row2 col8\" >Blue</td>\n",
       "      <td id=\"T_a97ea_row2_col9\" class=\"data row2 col9\" >36</td>\n",
       "      <td id=\"T_a97ea_row2_col10\" class=\"data row2 col10\" >4</td>\n",
       "      <td id=\"T_a97ea_row2_col11\" class=\"data row2 col11\" >1</td>\n",
       "      <td id=\"T_a97ea_row2_col12\" class=\"data row2 col12\" >0</td>\n",
       "      <td id=\"T_a97ea_row2_col13\" class=\"data row2 col13\" >3418.000000</td>\n",
       "      <td id=\"T_a97ea_row2_col14\" class=\"data row2 col14\" >0</td>\n",
       "      <td id=\"T_a97ea_row2_col15\" class=\"data row2 col15\" >3418.000000</td>\n",
       "      <td id=\"T_a97ea_row2_col16\" class=\"data row2 col16\" >2.594000</td>\n",
       "      <td id=\"T_a97ea_row2_col17\" class=\"data row2 col17\" >1887</td>\n",
       "      <td id=\"T_a97ea_row2_col18\" class=\"data row2 col18\" >20</td>\n",
       "      <td id=\"T_a97ea_row2_col19\" class=\"data row2 col19\" >2.333000</td>\n",
       "      <td id=\"T_a97ea_row2_col20\" class=\"data row2 col20\" >0.000000</td>\n",
       "      <td id=\"T_a97ea_row2_col21\" class=\"data row2 col21\" >0.000021</td>\n",
       "      <td id=\"T_a97ea_row2_col22\" class=\"data row2 col22\" >0.999980</td>\n",
       "    </tr>\n",
       "    <tr>\n",
       "      <th id=\"T_a97ea_level0_row3\" class=\"row_heading level0 row3\" >3</th>\n",
       "      <td id=\"T_a97ea_row3_col0\" class=\"data row3 col0\" >769911858</td>\n",
       "      <td id=\"T_a97ea_row3_col1\" class=\"data row3 col1\" >Existing Customer</td>\n",
       "      <td id=\"T_a97ea_row3_col2\" class=\"data row3 col2\" >40</td>\n",
       "      <td id=\"T_a97ea_row3_col3\" class=\"data row3 col3\" >F</td>\n",
       "      <td id=\"T_a97ea_row3_col4\" class=\"data row3 col4\" >4</td>\n",
       "      <td id=\"T_a97ea_row3_col5\" class=\"data row3 col5\" >High School</td>\n",
       "      <td id=\"T_a97ea_row3_col6\" class=\"data row3 col6\" >Unknown</td>\n",
       "      <td id=\"T_a97ea_row3_col7\" class=\"data row3 col7\" >Less than $40K</td>\n",
       "      <td id=\"T_a97ea_row3_col8\" class=\"data row3 col8\" >Blue</td>\n",
       "      <td id=\"T_a97ea_row3_col9\" class=\"data row3 col9\" >34</td>\n",
       "      <td id=\"T_a97ea_row3_col10\" class=\"data row3 col10\" >3</td>\n",
       "      <td id=\"T_a97ea_row3_col11\" class=\"data row3 col11\" >4</td>\n",
       "      <td id=\"T_a97ea_row3_col12\" class=\"data row3 col12\" >1</td>\n",
       "      <td id=\"T_a97ea_row3_col13\" class=\"data row3 col13\" >3313.000000</td>\n",
       "      <td id=\"T_a97ea_row3_col14\" class=\"data row3 col14\" >2517</td>\n",
       "      <td id=\"T_a97ea_row3_col15\" class=\"data row3 col15\" >796.000000</td>\n",
       "      <td id=\"T_a97ea_row3_col16\" class=\"data row3 col16\" >1.405000</td>\n",
       "      <td id=\"T_a97ea_row3_col17\" class=\"data row3 col17\" >1171</td>\n",
       "      <td id=\"T_a97ea_row3_col18\" class=\"data row3 col18\" >20</td>\n",
       "      <td id=\"T_a97ea_row3_col19\" class=\"data row3 col19\" >2.333000</td>\n",
       "      <td id=\"T_a97ea_row3_col20\" class=\"data row3 col20\" >0.760000</td>\n",
       "      <td id=\"T_a97ea_row3_col21\" class=\"data row3 col21\" >0.000134</td>\n",
       "      <td id=\"T_a97ea_row3_col22\" class=\"data row3 col22\" >0.999870</td>\n",
       "    </tr>\n",
       "    <tr>\n",
       "      <th id=\"T_a97ea_level0_row4\" class=\"row_heading level0 row4\" >4</th>\n",
       "      <td id=\"T_a97ea_row4_col0\" class=\"data row4 col0\" >709106358</td>\n",
       "      <td id=\"T_a97ea_row4_col1\" class=\"data row4 col1\" >Existing Customer</td>\n",
       "      <td id=\"T_a97ea_row4_col2\" class=\"data row4 col2\" >40</td>\n",
       "      <td id=\"T_a97ea_row4_col3\" class=\"data row4 col3\" >M</td>\n",
       "      <td id=\"T_a97ea_row4_col4\" class=\"data row4 col4\" >3</td>\n",
       "      <td id=\"T_a97ea_row4_col5\" class=\"data row4 col5\" >Uneducated</td>\n",
       "      <td id=\"T_a97ea_row4_col6\" class=\"data row4 col6\" >Married</td>\n",
       "      <td id=\"T_a97ea_row4_col7\" class=\"data row4 col7\" >$60K - $80K</td>\n",
       "      <td id=\"T_a97ea_row4_col8\" class=\"data row4 col8\" >Blue</td>\n",
       "      <td id=\"T_a97ea_row4_col9\" class=\"data row4 col9\" >21</td>\n",
       "      <td id=\"T_a97ea_row4_col10\" class=\"data row4 col10\" >5</td>\n",
       "      <td id=\"T_a97ea_row4_col11\" class=\"data row4 col11\" >1</td>\n",
       "      <td id=\"T_a97ea_row4_col12\" class=\"data row4 col12\" >0</td>\n",
       "      <td id=\"T_a97ea_row4_col13\" class=\"data row4 col13\" >4716.000000</td>\n",
       "      <td id=\"T_a97ea_row4_col14\" class=\"data row4 col14\" >0</td>\n",
       "      <td id=\"T_a97ea_row4_col15\" class=\"data row4 col15\" >4716.000000</td>\n",
       "      <td id=\"T_a97ea_row4_col16\" class=\"data row4 col16\" >2.175000</td>\n",
       "      <td id=\"T_a97ea_row4_col17\" class=\"data row4 col17\" >816</td>\n",
       "      <td id=\"T_a97ea_row4_col18\" class=\"data row4 col18\" >28</td>\n",
       "      <td id=\"T_a97ea_row4_col19\" class=\"data row4 col19\" >2.500000</td>\n",
       "      <td id=\"T_a97ea_row4_col20\" class=\"data row4 col20\" >0.000000</td>\n",
       "      <td id=\"T_a97ea_row4_col21\" class=\"data row4 col21\" >0.000022</td>\n",
       "      <td id=\"T_a97ea_row4_col22\" class=\"data row4 col22\" >0.999980</td>\n",
       "    </tr>\n",
       "  </tbody>\n",
       "</table>\n"
      ],
      "text/plain": [
       "<pandas.io.formats.style.Styler at 0x7f4481b09fd0>"
      ]
     },
     "execution_count": 125,
     "metadata": {},
     "output_type": "execute_result"
    }
   ],
   "source": [
    "bank_churn_df.head().style.set_properties(**{\"background-color\": \"black\",\"color\": \"white\", \"border-color\": \"white\",\"font-size\":\"10pt\",'width': 250})"
   ]
  },
  {
   "cell_type": "code",
   "execution_count": null,
   "metadata": {
    "colab": {
     "base_uri": "https://localhost:8080/",
     "height": 661
    },
    "executionInfo": {
     "elapsed": 85,
     "status": "ok",
     "timestamp": 1645185497345,
     "user": {
      "displayName": "Solomon Ayanlakin",
      "photoUrl": "https://lh3.googleusercontent.com/a-/AOh14GiB_fxjvTIkhmNkjjvXiK_Bt-vZ7xIOpwCETDy55w=s64",
      "userId": "03035833066819512937"
     },
     "user_tz": -60
    },
    "id": "U1CJXxmlB_Cw",
    "outputId": "3f25a95c-7be0-4c51-ef90-e283e3a82991"
   },
   "outputs": [
    {
     "data": {
      "text/html": [
       "\n",
       "  <div id=\"df-b9f7dbb4-678c-45ed-94a0-62706a3dfb6e\">\n",
       "    <div class=\"colab-df-container\">\n",
       "      <div>\n",
       "<style scoped>\n",
       "    .dataframe tbody tr th:only-of-type {\n",
       "        vertical-align: middle;\n",
       "    }\n",
       "\n",
       "    .dataframe tbody tr th {\n",
       "        vertical-align: top;\n",
       "    }\n",
       "\n",
       "    .dataframe thead th {\n",
       "        text-align: right;\n",
       "    }\n",
       "</style>\n",
       "<table border=\"1\" class=\"dataframe\">\n",
       "  <thead>\n",
       "    <tr style=\"text-align: right;\">\n",
       "      <th></th>\n",
       "      <th>CLIENTNUM</th>\n",
       "      <th>Attrition_Flag</th>\n",
       "      <th>Customer_Age</th>\n",
       "      <th>Gender</th>\n",
       "      <th>Dependent_count</th>\n",
       "      <th>Education_Level</th>\n",
       "      <th>Marital_Status</th>\n",
       "      <th>Income_Category</th>\n",
       "      <th>Card_Category</th>\n",
       "      <th>Months_on_book</th>\n",
       "      <th>Total_Relationship_Count</th>\n",
       "      <th>Months_Inactive_12_mon</th>\n",
       "      <th>Contacts_Count_12_mon</th>\n",
       "      <th>Credit_Limit</th>\n",
       "      <th>Total_Revolving_Bal</th>\n",
       "      <th>Avg_Open_To_Buy</th>\n",
       "      <th>Total_Amt_Chng_Q4_Q1</th>\n",
       "      <th>Total_Trans_Amt</th>\n",
       "      <th>Total_Trans_Ct</th>\n",
       "      <th>Total_Ct_Chng_Q4_Q1</th>\n",
       "      <th>Avg_Utilization_Ratio</th>\n",
       "      <th>Naive_Bayes_Classifier_Attrition_Flag_Card_Category_Contacts_Count_12_mon_Dependent_count_Education_Level_Months_Inactive_12_mon_1</th>\n",
       "      <th>Naive_Bayes_Classifier_Attrition_Flag_Card_Category_Contacts_Count_12_mon_Dependent_count_Education_Level_Months_Inactive_12_mon_2</th>\n",
       "    </tr>\n",
       "  </thead>\n",
       "  <tbody>\n",
       "    <tr>\n",
       "      <th>0</th>\n",
       "      <td>768805383</td>\n",
       "      <td>Existing Customer</td>\n",
       "      <td>45</td>\n",
       "      <td>M</td>\n",
       "      <td>3</td>\n",
       "      <td>High School</td>\n",
       "      <td>Married</td>\n",
       "      <td>$60K - $80K</td>\n",
       "      <td>Blue</td>\n",
       "      <td>39</td>\n",
       "      <td>5</td>\n",
       "      <td>1</td>\n",
       "      <td>3</td>\n",
       "      <td>12691.0</td>\n",
       "      <td>777</td>\n",
       "      <td>11914.0</td>\n",
       "      <td>1.335</td>\n",
       "      <td>1144</td>\n",
       "      <td>42</td>\n",
       "      <td>1.625</td>\n",
       "      <td>0.061</td>\n",
       "      <td>0.000093</td>\n",
       "      <td>0.999910</td>\n",
       "    </tr>\n",
       "    <tr>\n",
       "      <th>1</th>\n",
       "      <td>818770008</td>\n",
       "      <td>Existing Customer</td>\n",
       "      <td>49</td>\n",
       "      <td>F</td>\n",
       "      <td>5</td>\n",
       "      <td>Graduate</td>\n",
       "      <td>Single</td>\n",
       "      <td>Less than $40K</td>\n",
       "      <td>Blue</td>\n",
       "      <td>44</td>\n",
       "      <td>6</td>\n",
       "      <td>1</td>\n",
       "      <td>2</td>\n",
       "      <td>8256.0</td>\n",
       "      <td>864</td>\n",
       "      <td>7392.0</td>\n",
       "      <td>1.541</td>\n",
       "      <td>1291</td>\n",
       "      <td>33</td>\n",
       "      <td>3.714</td>\n",
       "      <td>0.105</td>\n",
       "      <td>0.000057</td>\n",
       "      <td>0.999940</td>\n",
       "    </tr>\n",
       "    <tr>\n",
       "      <th>2</th>\n",
       "      <td>713982108</td>\n",
       "      <td>Existing Customer</td>\n",
       "      <td>51</td>\n",
       "      <td>M</td>\n",
       "      <td>3</td>\n",
       "      <td>Graduate</td>\n",
       "      <td>Married</td>\n",
       "      <td>$80K - $120K</td>\n",
       "      <td>Blue</td>\n",
       "      <td>36</td>\n",
       "      <td>4</td>\n",
       "      <td>1</td>\n",
       "      <td>0</td>\n",
       "      <td>3418.0</td>\n",
       "      <td>0</td>\n",
       "      <td>3418.0</td>\n",
       "      <td>2.594</td>\n",
       "      <td>1887</td>\n",
       "      <td>20</td>\n",
       "      <td>2.333</td>\n",
       "      <td>0.000</td>\n",
       "      <td>0.000021</td>\n",
       "      <td>0.999980</td>\n",
       "    </tr>\n",
       "    <tr>\n",
       "      <th>3</th>\n",
       "      <td>769911858</td>\n",
       "      <td>Existing Customer</td>\n",
       "      <td>40</td>\n",
       "      <td>F</td>\n",
       "      <td>4</td>\n",
       "      <td>High School</td>\n",
       "      <td>Unknown</td>\n",
       "      <td>Less than $40K</td>\n",
       "      <td>Blue</td>\n",
       "      <td>34</td>\n",
       "      <td>3</td>\n",
       "      <td>4</td>\n",
       "      <td>1</td>\n",
       "      <td>3313.0</td>\n",
       "      <td>2517</td>\n",
       "      <td>796.0</td>\n",
       "      <td>1.405</td>\n",
       "      <td>1171</td>\n",
       "      <td>20</td>\n",
       "      <td>2.333</td>\n",
       "      <td>0.760</td>\n",
       "      <td>0.000134</td>\n",
       "      <td>0.999870</td>\n",
       "    </tr>\n",
       "    <tr>\n",
       "      <th>4</th>\n",
       "      <td>709106358</td>\n",
       "      <td>Existing Customer</td>\n",
       "      <td>40</td>\n",
       "      <td>M</td>\n",
       "      <td>3</td>\n",
       "      <td>Uneducated</td>\n",
       "      <td>Married</td>\n",
       "      <td>$60K - $80K</td>\n",
       "      <td>Blue</td>\n",
       "      <td>21</td>\n",
       "      <td>5</td>\n",
       "      <td>1</td>\n",
       "      <td>0</td>\n",
       "      <td>4716.0</td>\n",
       "      <td>0</td>\n",
       "      <td>4716.0</td>\n",
       "      <td>2.175</td>\n",
       "      <td>816</td>\n",
       "      <td>28</td>\n",
       "      <td>2.500</td>\n",
       "      <td>0.000</td>\n",
       "      <td>0.000022</td>\n",
       "      <td>0.999980</td>\n",
       "    </tr>\n",
       "    <tr>\n",
       "      <th>...</th>\n",
       "      <td>...</td>\n",
       "      <td>...</td>\n",
       "      <td>...</td>\n",
       "      <td>...</td>\n",
       "      <td>...</td>\n",
       "      <td>...</td>\n",
       "      <td>...</td>\n",
       "      <td>...</td>\n",
       "      <td>...</td>\n",
       "      <td>...</td>\n",
       "      <td>...</td>\n",
       "      <td>...</td>\n",
       "      <td>...</td>\n",
       "      <td>...</td>\n",
       "      <td>...</td>\n",
       "      <td>...</td>\n",
       "      <td>...</td>\n",
       "      <td>...</td>\n",
       "      <td>...</td>\n",
       "      <td>...</td>\n",
       "      <td>...</td>\n",
       "      <td>...</td>\n",
       "      <td>...</td>\n",
       "    </tr>\n",
       "    <tr>\n",
       "      <th>10122</th>\n",
       "      <td>772366833</td>\n",
       "      <td>Existing Customer</td>\n",
       "      <td>50</td>\n",
       "      <td>M</td>\n",
       "      <td>2</td>\n",
       "      <td>Graduate</td>\n",
       "      <td>Single</td>\n",
       "      <td>$40K - $60K</td>\n",
       "      <td>Blue</td>\n",
       "      <td>40</td>\n",
       "      <td>3</td>\n",
       "      <td>2</td>\n",
       "      <td>3</td>\n",
       "      <td>4003.0</td>\n",
       "      <td>1851</td>\n",
       "      <td>2152.0</td>\n",
       "      <td>0.703</td>\n",
       "      <td>15476</td>\n",
       "      <td>117</td>\n",
       "      <td>0.857</td>\n",
       "      <td>0.462</td>\n",
       "      <td>0.000191</td>\n",
       "      <td>0.999810</td>\n",
       "    </tr>\n",
       "    <tr>\n",
       "      <th>10123</th>\n",
       "      <td>710638233</td>\n",
       "      <td>Attrited Customer</td>\n",
       "      <td>41</td>\n",
       "      <td>M</td>\n",
       "      <td>2</td>\n",
       "      <td>Unknown</td>\n",
       "      <td>Divorced</td>\n",
       "      <td>$40K - $60K</td>\n",
       "      <td>Blue</td>\n",
       "      <td>25</td>\n",
       "      <td>4</td>\n",
       "      <td>2</td>\n",
       "      <td>3</td>\n",
       "      <td>4277.0</td>\n",
       "      <td>2186</td>\n",
       "      <td>2091.0</td>\n",
       "      <td>0.804</td>\n",
       "      <td>8764</td>\n",
       "      <td>69</td>\n",
       "      <td>0.683</td>\n",
       "      <td>0.511</td>\n",
       "      <td>0.995270</td>\n",
       "      <td>0.004729</td>\n",
       "    </tr>\n",
       "    <tr>\n",
       "      <th>10124</th>\n",
       "      <td>716506083</td>\n",
       "      <td>Attrited Customer</td>\n",
       "      <td>44</td>\n",
       "      <td>F</td>\n",
       "      <td>1</td>\n",
       "      <td>High School</td>\n",
       "      <td>Married</td>\n",
       "      <td>Less than $40K</td>\n",
       "      <td>Blue</td>\n",
       "      <td>36</td>\n",
       "      <td>5</td>\n",
       "      <td>3</td>\n",
       "      <td>4</td>\n",
       "      <td>5409.0</td>\n",
       "      <td>0</td>\n",
       "      <td>5409.0</td>\n",
       "      <td>0.819</td>\n",
       "      <td>10291</td>\n",
       "      <td>60</td>\n",
       "      <td>0.818</td>\n",
       "      <td>0.000</td>\n",
       "      <td>0.997880</td>\n",
       "      <td>0.002118</td>\n",
       "    </tr>\n",
       "    <tr>\n",
       "      <th>10125</th>\n",
       "      <td>717406983</td>\n",
       "      <td>Attrited Customer</td>\n",
       "      <td>30</td>\n",
       "      <td>M</td>\n",
       "      <td>2</td>\n",
       "      <td>Graduate</td>\n",
       "      <td>Unknown</td>\n",
       "      <td>$40K - $60K</td>\n",
       "      <td>Blue</td>\n",
       "      <td>36</td>\n",
       "      <td>4</td>\n",
       "      <td>3</td>\n",
       "      <td>3</td>\n",
       "      <td>5281.0</td>\n",
       "      <td>0</td>\n",
       "      <td>5281.0</td>\n",
       "      <td>0.535</td>\n",
       "      <td>8395</td>\n",
       "      <td>62</td>\n",
       "      <td>0.722</td>\n",
       "      <td>0.000</td>\n",
       "      <td>0.996710</td>\n",
       "      <td>0.003294</td>\n",
       "    </tr>\n",
       "    <tr>\n",
       "      <th>10126</th>\n",
       "      <td>714337233</td>\n",
       "      <td>Attrited Customer</td>\n",
       "      <td>43</td>\n",
       "      <td>F</td>\n",
       "      <td>2</td>\n",
       "      <td>Graduate</td>\n",
       "      <td>Married</td>\n",
       "      <td>Less than $40K</td>\n",
       "      <td>Silver</td>\n",
       "      <td>25</td>\n",
       "      <td>6</td>\n",
       "      <td>2</td>\n",
       "      <td>4</td>\n",
       "      <td>10388.0</td>\n",
       "      <td>1961</td>\n",
       "      <td>8427.0</td>\n",
       "      <td>0.703</td>\n",
       "      <td>10294</td>\n",
       "      <td>61</td>\n",
       "      <td>0.649</td>\n",
       "      <td>0.189</td>\n",
       "      <td>0.996620</td>\n",
       "      <td>0.003377</td>\n",
       "    </tr>\n",
       "  </tbody>\n",
       "</table>\n",
       "<p>10127 rows × 23 columns</p>\n",
       "</div>\n",
       "      <button class=\"colab-df-convert\" onclick=\"convertToInteractive('df-b9f7dbb4-678c-45ed-94a0-62706a3dfb6e')\"\n",
       "              title=\"Convert this dataframe to an interactive table.\"\n",
       "              style=\"display:none;\">\n",
       "        \n",
       "  <svg xmlns=\"http://www.w3.org/2000/svg\" height=\"24px\"viewBox=\"0 0 24 24\"\n",
       "       width=\"24px\">\n",
       "    <path d=\"M0 0h24v24H0V0z\" fill=\"none\"/>\n",
       "    <path d=\"M18.56 5.44l.94 2.06.94-2.06 2.06-.94-2.06-.94-.94-2.06-.94 2.06-2.06.94zm-11 1L8.5 8.5l.94-2.06 2.06-.94-2.06-.94L8.5 2.5l-.94 2.06-2.06.94zm10 10l.94 2.06.94-2.06 2.06-.94-2.06-.94-.94-2.06-.94 2.06-2.06.94z\"/><path d=\"M17.41 7.96l-1.37-1.37c-.4-.4-.92-.59-1.43-.59-.52 0-1.04.2-1.43.59L10.3 9.45l-7.72 7.72c-.78.78-.78 2.05 0 2.83L4 21.41c.39.39.9.59 1.41.59.51 0 1.02-.2 1.41-.59l7.78-7.78 2.81-2.81c.8-.78.8-2.07 0-2.86zM5.41 20L4 18.59l7.72-7.72 1.47 1.35L5.41 20z\"/>\n",
       "  </svg>\n",
       "      </button>\n",
       "      \n",
       "  <style>\n",
       "    .colab-df-container {\n",
       "      display:flex;\n",
       "      flex-wrap:wrap;\n",
       "      gap: 12px;\n",
       "    }\n",
       "\n",
       "    .colab-df-convert {\n",
       "      background-color: #E8F0FE;\n",
       "      border: none;\n",
       "      border-radius: 50%;\n",
       "      cursor: pointer;\n",
       "      display: none;\n",
       "      fill: #1967D2;\n",
       "      height: 32px;\n",
       "      padding: 0 0 0 0;\n",
       "      width: 32px;\n",
       "    }\n",
       "\n",
       "    .colab-df-convert:hover {\n",
       "      background-color: #E2EBFA;\n",
       "      box-shadow: 0px 1px 2px rgba(60, 64, 67, 0.3), 0px 1px 3px 1px rgba(60, 64, 67, 0.15);\n",
       "      fill: #174EA6;\n",
       "    }\n",
       "\n",
       "    [theme=dark] .colab-df-convert {\n",
       "      background-color: #3B4455;\n",
       "      fill: #D2E3FC;\n",
       "    }\n",
       "\n",
       "    [theme=dark] .colab-df-convert:hover {\n",
       "      background-color: #434B5C;\n",
       "      box-shadow: 0px 1px 3px 1px rgba(0, 0, 0, 0.15);\n",
       "      filter: drop-shadow(0px 1px 2px rgba(0, 0, 0, 0.3));\n",
       "      fill: #FFFFFF;\n",
       "    }\n",
       "  </style>\n",
       "\n",
       "      <script>\n",
       "        const buttonEl =\n",
       "          document.querySelector('#df-b9f7dbb4-678c-45ed-94a0-62706a3dfb6e button.colab-df-convert');\n",
       "        buttonEl.style.display =\n",
       "          google.colab.kernel.accessAllowed ? 'block' : 'none';\n",
       "\n",
       "        async function convertToInteractive(key) {\n",
       "          const element = document.querySelector('#df-b9f7dbb4-678c-45ed-94a0-62706a3dfb6e');\n",
       "          const dataTable =\n",
       "            await google.colab.kernel.invokeFunction('convertToInteractive',\n",
       "                                                     [key], {});\n",
       "          if (!dataTable) return;\n",
       "\n",
       "          const docLinkHtml = 'Like what you see? Visit the ' +\n",
       "            '<a target=\"_blank\" href=https://colab.research.google.com/notebooks/data_table.ipynb>data table notebook</a>'\n",
       "            + ' to learn more about interactive tables.';\n",
       "          element.innerHTML = '';\n",
       "          dataTable['output_type'] = 'display_data';\n",
       "          await google.colab.output.renderOutput(dataTable, element);\n",
       "          const docLink = document.createElement('div');\n",
       "          docLink.innerHTML = docLinkHtml;\n",
       "          element.appendChild(docLink);\n",
       "        }\n",
       "      </script>\n",
       "    </div>\n",
       "  </div>\n",
       "  "
      ],
      "text/plain": [
       "       CLIENTNUM  ... Naive_Bayes_Classifier_Attrition_Flag_Card_Category_Contacts_Count_12_mon_Dependent_count_Education_Level_Months_Inactive_12_mon_2\n",
       "0      768805383  ...                                           0.999910                                                                                \n",
       "1      818770008  ...                                           0.999940                                                                                \n",
       "2      713982108  ...                                           0.999980                                                                                \n",
       "3      769911858  ...                                           0.999870                                                                                \n",
       "4      709106358  ...                                           0.999980                                                                                \n",
       "...          ...  ...                                                ...                                                                                \n",
       "10122  772366833  ...                                           0.999810                                                                                \n",
       "10123  710638233  ...                                           0.004729                                                                                \n",
       "10124  716506083  ...                                           0.002118                                                                                \n",
       "10125  717406983  ...                                           0.003294                                                                                \n",
       "10126  714337233  ...                                           0.003377                                                                                \n",
       "\n",
       "[10127 rows x 23 columns]"
      ]
     },
     "execution_count": 126,
     "metadata": {},
     "output_type": "execute_result"
    }
   ],
   "source": [
    "bank_churn_df"
   ]
  },
  {
   "cell_type": "code",
   "execution_count": null,
   "metadata": {
    "colab": {
     "base_uri": "https://localhost:8080/"
    },
    "executionInfo": {
     "elapsed": 86,
     "status": "ok",
     "timestamp": 1645185497348,
     "user": {
      "displayName": "Solomon Ayanlakin",
      "photoUrl": "https://lh3.googleusercontent.com/a-/AOh14GiB_fxjvTIkhmNkjjvXiK_Bt-vZ7xIOpwCETDy55w=s64",
      "userId": "03035833066819512937"
     },
     "user_tz": -60
    },
    "id": "OOrz1zKvKG8y",
    "outputId": "a868542f-1904-4bf1-993d-439163ec899b"
   },
   "outputs": [
    {
     "name": "stdout",
     "output_type": "stream",
     "text": [
      "<class 'pandas.core.frame.DataFrame'>\n",
      "RangeIndex: 10127 entries, 0 to 10126\n",
      "Data columns (total 23 columns):\n",
      " #   Column                                                                                                                              Non-Null Count  Dtype  \n",
      "---  ------                                                                                                                              --------------  -----  \n",
      " 0   CLIENTNUM                                                                                                                           10127 non-null  int64  \n",
      " 1   Attrition_Flag                                                                                                                      10127 non-null  object \n",
      " 2   Customer_Age                                                                                                                        10127 non-null  int64  \n",
      " 3   Gender                                                                                                                              10127 non-null  object \n",
      " 4   Dependent_count                                                                                                                     10127 non-null  int64  \n",
      " 5   Education_Level                                                                                                                     10127 non-null  object \n",
      " 6   Marital_Status                                                                                                                      10127 non-null  object \n",
      " 7   Income_Category                                                                                                                     10127 non-null  object \n",
      " 8   Card_Category                                                                                                                       10127 non-null  object \n",
      " 9   Months_on_book                                                                                                                      10127 non-null  int64  \n",
      " 10  Total_Relationship_Count                                                                                                            10127 non-null  int64  \n",
      " 11  Months_Inactive_12_mon                                                                                                              10127 non-null  int64  \n",
      " 12  Contacts_Count_12_mon                                                                                                               10127 non-null  int64  \n",
      " 13  Credit_Limit                                                                                                                        10127 non-null  float64\n",
      " 14  Total_Revolving_Bal                                                                                                                 10127 non-null  int64  \n",
      " 15  Avg_Open_To_Buy                                                                                                                     10127 non-null  float64\n",
      " 16  Total_Amt_Chng_Q4_Q1                                                                                                                10127 non-null  float64\n",
      " 17  Total_Trans_Amt                                                                                                                     10127 non-null  int64  \n",
      " 18  Total_Trans_Ct                                                                                                                      10127 non-null  int64  \n",
      " 19  Total_Ct_Chng_Q4_Q1                                                                                                                 10127 non-null  float64\n",
      " 20  Avg_Utilization_Ratio                                                                                                               10127 non-null  float64\n",
      " 21  Naive_Bayes_Classifier_Attrition_Flag_Card_Category_Contacts_Count_12_mon_Dependent_count_Education_Level_Months_Inactive_12_mon_1  10127 non-null  float64\n",
      " 22  Naive_Bayes_Classifier_Attrition_Flag_Card_Category_Contacts_Count_12_mon_Dependent_count_Education_Level_Months_Inactive_12_mon_2  10127 non-null  float64\n",
      "dtypes: float64(7), int64(10), object(6)\n",
      "memory usage: 1.8+ MB\n"
     ]
    }
   ],
   "source": [
    "# To show a summary of each column: Datatype and non-null column count, we make use of the .info method\n",
    "bank_churn_df.info()"
   ]
  },
  {
   "cell_type": "code",
   "execution_count": null,
   "metadata": {
    "colab": {
     "base_uri": "https://localhost:8080/"
    },
    "executionInfo": {
     "elapsed": 81,
     "status": "ok",
     "timestamp": 1645185497349,
     "user": {
      "displayName": "Solomon Ayanlakin",
      "photoUrl": "https://lh3.googleusercontent.com/a-/AOh14GiB_fxjvTIkhmNkjjvXiK_Bt-vZ7xIOpwCETDy55w=s64",
      "userId": "03035833066819512937"
     },
     "user_tz": -60
    },
    "id": "mgLKzHjYeDOV",
    "outputId": "95a0f941-75e0-4683-a1a1-238b3b70c21f"
   },
   "outputs": [
    {
     "data": {
      "text/plain": [
       "Index(['CLIENTNUM', 'Attrition_Flag', 'Customer_Age', 'Gender',\n",
       "       'Dependent_count', 'Education_Level', 'Marital_Status',\n",
       "       'Income_Category', 'Card_Category', 'Months_on_book',\n",
       "       'Total_Relationship_Count', 'Months_Inactive_12_mon',\n",
       "       'Contacts_Count_12_mon', 'Credit_Limit', 'Total_Revolving_Bal',\n",
       "       'Avg_Open_To_Buy', 'Total_Amt_Chng_Q4_Q1', 'Total_Trans_Amt',\n",
       "       'Total_Trans_Ct', 'Total_Ct_Chng_Q4_Q1', 'Avg_Utilization_Ratio',\n",
       "       'Naive_Bayes_Classifier_Attrition_Flag_Card_Category_Contacts_Count_12_mon_Dependent_count_Education_Level_Months_Inactive_12_mon_1',\n",
       "       'Naive_Bayes_Classifier_Attrition_Flag_Card_Category_Contacts_Count_12_mon_Dependent_count_Education_Level_Months_Inactive_12_mon_2'],\n",
       "      dtype='object')"
      ]
     },
     "execution_count": 128,
     "metadata": {},
     "output_type": "execute_result"
    }
   ],
   "source": [
    "# To have a glance of all the columns \n",
    "bank_churn_df.columns"
   ]
  },
  {
   "cell_type": "code",
   "execution_count": null,
   "metadata": {
    "colab": {
     "base_uri": "https://localhost:8080/",
     "height": 364
    },
    "executionInfo": {
     "elapsed": 77,
     "status": "ok",
     "timestamp": 1645185497352,
     "user": {
      "displayName": "Solomon Ayanlakin",
      "photoUrl": "https://lh3.googleusercontent.com/a-/AOh14GiB_fxjvTIkhmNkjjvXiK_Bt-vZ7xIOpwCETDy55w=s64",
      "userId": "03035833066819512937"
     },
     "user_tz": -60
    },
    "id": "JWM6_aFUKG8z",
    "outputId": "e60dce99-5dc6-4c05-a099-2016fb6d8197"
   },
   "outputs": [
    {
     "data": {
      "text/html": [
       "\n",
       "  <div id=\"df-cddde578-3322-4752-8ce5-975aa6d4dd65\">\n",
       "    <div class=\"colab-df-container\">\n",
       "      <div>\n",
       "<style scoped>\n",
       "    .dataframe tbody tr th:only-of-type {\n",
       "        vertical-align: middle;\n",
       "    }\n",
       "\n",
       "    .dataframe tbody tr th {\n",
       "        vertical-align: top;\n",
       "    }\n",
       "\n",
       "    .dataframe thead th {\n",
       "        text-align: right;\n",
       "    }\n",
       "</style>\n",
       "<table border=\"1\" class=\"dataframe\">\n",
       "  <thead>\n",
       "    <tr style=\"text-align: right;\">\n",
       "      <th></th>\n",
       "      <th>CLIENTNUM</th>\n",
       "      <th>Customer_Age</th>\n",
       "      <th>Dependent_count</th>\n",
       "      <th>Months_on_book</th>\n",
       "      <th>Total_Relationship_Count</th>\n",
       "      <th>Months_Inactive_12_mon</th>\n",
       "      <th>Contacts_Count_12_mon</th>\n",
       "      <th>Credit_Limit</th>\n",
       "      <th>Total_Revolving_Bal</th>\n",
       "      <th>Avg_Open_To_Buy</th>\n",
       "      <th>Total_Amt_Chng_Q4_Q1</th>\n",
       "      <th>Total_Trans_Amt</th>\n",
       "      <th>Total_Trans_Ct</th>\n",
       "      <th>Total_Ct_Chng_Q4_Q1</th>\n",
       "      <th>Avg_Utilization_Ratio</th>\n",
       "      <th>Naive_Bayes_Classifier_Attrition_Flag_Card_Category_Contacts_Count_12_mon_Dependent_count_Education_Level_Months_Inactive_12_mon_1</th>\n",
       "      <th>Naive_Bayes_Classifier_Attrition_Flag_Card_Category_Contacts_Count_12_mon_Dependent_count_Education_Level_Months_Inactive_12_mon_2</th>\n",
       "    </tr>\n",
       "  </thead>\n",
       "  <tbody>\n",
       "    <tr>\n",
       "      <th>count</th>\n",
       "      <td>1.012700e+04</td>\n",
       "      <td>10127.000000</td>\n",
       "      <td>10127.000000</td>\n",
       "      <td>10127.000000</td>\n",
       "      <td>10127.000000</td>\n",
       "      <td>10127.000000</td>\n",
       "      <td>10127.000000</td>\n",
       "      <td>10127.000000</td>\n",
       "      <td>10127.000000</td>\n",
       "      <td>10127.000000</td>\n",
       "      <td>10127.000000</td>\n",
       "      <td>10127.000000</td>\n",
       "      <td>10127.000000</td>\n",
       "      <td>10127.000000</td>\n",
       "      <td>10127.000000</td>\n",
       "      <td>10127.000000</td>\n",
       "      <td>10127.000000</td>\n",
       "    </tr>\n",
       "    <tr>\n",
       "      <th>mean</th>\n",
       "      <td>7.391776e+08</td>\n",
       "      <td>46.325960</td>\n",
       "      <td>2.346203</td>\n",
       "      <td>35.928409</td>\n",
       "      <td>3.812580</td>\n",
       "      <td>2.341167</td>\n",
       "      <td>2.455317</td>\n",
       "      <td>8631.953698</td>\n",
       "      <td>1162.814061</td>\n",
       "      <td>7469.139637</td>\n",
       "      <td>0.759941</td>\n",
       "      <td>4404.086304</td>\n",
       "      <td>64.858695</td>\n",
       "      <td>0.712222</td>\n",
       "      <td>0.274894</td>\n",
       "      <td>0.159997</td>\n",
       "      <td>0.840003</td>\n",
       "    </tr>\n",
       "    <tr>\n",
       "      <th>std</th>\n",
       "      <td>3.690378e+07</td>\n",
       "      <td>8.016814</td>\n",
       "      <td>1.298908</td>\n",
       "      <td>7.986416</td>\n",
       "      <td>1.554408</td>\n",
       "      <td>1.010622</td>\n",
       "      <td>1.106225</td>\n",
       "      <td>9088.776650</td>\n",
       "      <td>814.987335</td>\n",
       "      <td>9090.685324</td>\n",
       "      <td>0.219207</td>\n",
       "      <td>3397.129254</td>\n",
       "      <td>23.472570</td>\n",
       "      <td>0.238086</td>\n",
       "      <td>0.275691</td>\n",
       "      <td>0.365301</td>\n",
       "      <td>0.365301</td>\n",
       "    </tr>\n",
       "    <tr>\n",
       "      <th>min</th>\n",
       "      <td>7.080821e+08</td>\n",
       "      <td>26.000000</td>\n",
       "      <td>0.000000</td>\n",
       "      <td>13.000000</td>\n",
       "      <td>1.000000</td>\n",
       "      <td>0.000000</td>\n",
       "      <td>0.000000</td>\n",
       "      <td>1438.300000</td>\n",
       "      <td>0.000000</td>\n",
       "      <td>3.000000</td>\n",
       "      <td>0.000000</td>\n",
       "      <td>510.000000</td>\n",
       "      <td>10.000000</td>\n",
       "      <td>0.000000</td>\n",
       "      <td>0.000000</td>\n",
       "      <td>0.000008</td>\n",
       "      <td>0.000420</td>\n",
       "    </tr>\n",
       "    <tr>\n",
       "      <th>25%</th>\n",
       "      <td>7.130368e+08</td>\n",
       "      <td>41.000000</td>\n",
       "      <td>1.000000</td>\n",
       "      <td>31.000000</td>\n",
       "      <td>3.000000</td>\n",
       "      <td>2.000000</td>\n",
       "      <td>2.000000</td>\n",
       "      <td>2555.000000</td>\n",
       "      <td>359.000000</td>\n",
       "      <td>1324.500000</td>\n",
       "      <td>0.631000</td>\n",
       "      <td>2155.500000</td>\n",
       "      <td>45.000000</td>\n",
       "      <td>0.582000</td>\n",
       "      <td>0.023000</td>\n",
       "      <td>0.000099</td>\n",
       "      <td>0.999660</td>\n",
       "    </tr>\n",
       "    <tr>\n",
       "      <th>50%</th>\n",
       "      <td>7.179264e+08</td>\n",
       "      <td>46.000000</td>\n",
       "      <td>2.000000</td>\n",
       "      <td>36.000000</td>\n",
       "      <td>4.000000</td>\n",
       "      <td>2.000000</td>\n",
       "      <td>2.000000</td>\n",
       "      <td>4549.000000</td>\n",
       "      <td>1276.000000</td>\n",
       "      <td>3474.000000</td>\n",
       "      <td>0.736000</td>\n",
       "      <td>3899.000000</td>\n",
       "      <td>67.000000</td>\n",
       "      <td>0.702000</td>\n",
       "      <td>0.176000</td>\n",
       "      <td>0.000181</td>\n",
       "      <td>0.999820</td>\n",
       "    </tr>\n",
       "    <tr>\n",
       "      <th>75%</th>\n",
       "      <td>7.731435e+08</td>\n",
       "      <td>52.000000</td>\n",
       "      <td>3.000000</td>\n",
       "      <td>40.000000</td>\n",
       "      <td>5.000000</td>\n",
       "      <td>3.000000</td>\n",
       "      <td>3.000000</td>\n",
       "      <td>11067.500000</td>\n",
       "      <td>1784.000000</td>\n",
       "      <td>9859.000000</td>\n",
       "      <td>0.859000</td>\n",
       "      <td>4741.000000</td>\n",
       "      <td>81.000000</td>\n",
       "      <td>0.818000</td>\n",
       "      <td>0.503000</td>\n",
       "      <td>0.000337</td>\n",
       "      <td>0.999900</td>\n",
       "    </tr>\n",
       "    <tr>\n",
       "      <th>max</th>\n",
       "      <td>8.283431e+08</td>\n",
       "      <td>73.000000</td>\n",
       "      <td>5.000000</td>\n",
       "      <td>56.000000</td>\n",
       "      <td>6.000000</td>\n",
       "      <td>6.000000</td>\n",
       "      <td>6.000000</td>\n",
       "      <td>34516.000000</td>\n",
       "      <td>2517.000000</td>\n",
       "      <td>34516.000000</td>\n",
       "      <td>3.397000</td>\n",
       "      <td>18484.000000</td>\n",
       "      <td>139.000000</td>\n",
       "      <td>3.714000</td>\n",
       "      <td>0.999000</td>\n",
       "      <td>0.999580</td>\n",
       "      <td>0.999990</td>\n",
       "    </tr>\n",
       "  </tbody>\n",
       "</table>\n",
       "</div>\n",
       "      <button class=\"colab-df-convert\" onclick=\"convertToInteractive('df-cddde578-3322-4752-8ce5-975aa6d4dd65')\"\n",
       "              title=\"Convert this dataframe to an interactive table.\"\n",
       "              style=\"display:none;\">\n",
       "        \n",
       "  <svg xmlns=\"http://www.w3.org/2000/svg\" height=\"24px\"viewBox=\"0 0 24 24\"\n",
       "       width=\"24px\">\n",
       "    <path d=\"M0 0h24v24H0V0z\" fill=\"none\"/>\n",
       "    <path d=\"M18.56 5.44l.94 2.06.94-2.06 2.06-.94-2.06-.94-.94-2.06-.94 2.06-2.06.94zm-11 1L8.5 8.5l.94-2.06 2.06-.94-2.06-.94L8.5 2.5l-.94 2.06-2.06.94zm10 10l.94 2.06.94-2.06 2.06-.94-2.06-.94-.94-2.06-.94 2.06-2.06.94z\"/><path d=\"M17.41 7.96l-1.37-1.37c-.4-.4-.92-.59-1.43-.59-.52 0-1.04.2-1.43.59L10.3 9.45l-7.72 7.72c-.78.78-.78 2.05 0 2.83L4 21.41c.39.39.9.59 1.41.59.51 0 1.02-.2 1.41-.59l7.78-7.78 2.81-2.81c.8-.78.8-2.07 0-2.86zM5.41 20L4 18.59l7.72-7.72 1.47 1.35L5.41 20z\"/>\n",
       "  </svg>\n",
       "      </button>\n",
       "      \n",
       "  <style>\n",
       "    .colab-df-container {\n",
       "      display:flex;\n",
       "      flex-wrap:wrap;\n",
       "      gap: 12px;\n",
       "    }\n",
       "\n",
       "    .colab-df-convert {\n",
       "      background-color: #E8F0FE;\n",
       "      border: none;\n",
       "      border-radius: 50%;\n",
       "      cursor: pointer;\n",
       "      display: none;\n",
       "      fill: #1967D2;\n",
       "      height: 32px;\n",
       "      padding: 0 0 0 0;\n",
       "      width: 32px;\n",
       "    }\n",
       "\n",
       "    .colab-df-convert:hover {\n",
       "      background-color: #E2EBFA;\n",
       "      box-shadow: 0px 1px 2px rgba(60, 64, 67, 0.3), 0px 1px 3px 1px rgba(60, 64, 67, 0.15);\n",
       "      fill: #174EA6;\n",
       "    }\n",
       "\n",
       "    [theme=dark] .colab-df-convert {\n",
       "      background-color: #3B4455;\n",
       "      fill: #D2E3FC;\n",
       "    }\n",
       "\n",
       "    [theme=dark] .colab-df-convert:hover {\n",
       "      background-color: #434B5C;\n",
       "      box-shadow: 0px 1px 3px 1px rgba(0, 0, 0, 0.15);\n",
       "      filter: drop-shadow(0px 1px 2px rgba(0, 0, 0, 0.3));\n",
       "      fill: #FFFFFF;\n",
       "    }\n",
       "  </style>\n",
       "\n",
       "      <script>\n",
       "        const buttonEl =\n",
       "          document.querySelector('#df-cddde578-3322-4752-8ce5-975aa6d4dd65 button.colab-df-convert');\n",
       "        buttonEl.style.display =\n",
       "          google.colab.kernel.accessAllowed ? 'block' : 'none';\n",
       "\n",
       "        async function convertToInteractive(key) {\n",
       "          const element = document.querySelector('#df-cddde578-3322-4752-8ce5-975aa6d4dd65');\n",
       "          const dataTable =\n",
       "            await google.colab.kernel.invokeFunction('convertToInteractive',\n",
       "                                                     [key], {});\n",
       "          if (!dataTable) return;\n",
       "\n",
       "          const docLinkHtml = 'Like what you see? Visit the ' +\n",
       "            '<a target=\"_blank\" href=https://colab.research.google.com/notebooks/data_table.ipynb>data table notebook</a>'\n",
       "            + ' to learn more about interactive tables.';\n",
       "          element.innerHTML = '';\n",
       "          dataTable['output_type'] = 'display_data';\n",
       "          await google.colab.output.renderOutput(dataTable, element);\n",
       "          const docLink = document.createElement('div');\n",
       "          docLink.innerHTML = docLinkHtml;\n",
       "          element.appendChild(docLink);\n",
       "        }\n",
       "      </script>\n",
       "    </div>\n",
       "  </div>\n",
       "  "
      ],
      "text/plain": [
       "          CLIENTNUM  ...  Naive_Bayes_Classifier_Attrition_Flag_Card_Category_Contacts_Count_12_mon_Dependent_count_Education_Level_Months_Inactive_12_mon_2\n",
       "count  1.012700e+04  ...                                       10127.000000                                                                                 \n",
       "mean   7.391776e+08  ...                                           0.840003                                                                                 \n",
       "std    3.690378e+07  ...                                           0.365301                                                                                 \n",
       "min    7.080821e+08  ...                                           0.000420                                                                                 \n",
       "25%    7.130368e+08  ...                                           0.999660                                                                                 \n",
       "50%    7.179264e+08  ...                                           0.999820                                                                                 \n",
       "75%    7.731435e+08  ...                                           0.999900                                                                                 \n",
       "max    8.283431e+08  ...                                           0.999990                                                                                 \n",
       "\n",
       "[8 rows x 17 columns]"
      ]
     },
     "execution_count": 129,
     "metadata": {},
     "output_type": "execute_result"
    }
   ],
   "source": [
    "# To get a statistical summary of all columns, we would be making use of the .describe method\n",
    "\n",
    "bank_churn_df.describe()"
   ]
  },
  {
   "cell_type": "code",
   "execution_count": null,
   "metadata": {
    "colab": {
     "base_uri": "https://localhost:8080/",
     "height": 488
    },
    "executionInfo": {
     "elapsed": 76,
     "status": "ok",
     "timestamp": 1645185497353,
     "user": {
      "displayName": "Solomon Ayanlakin",
      "photoUrl": "https://lh3.googleusercontent.com/a-/AOh14GiB_fxjvTIkhmNkjjvXiK_Bt-vZ7xIOpwCETDy55w=s64",
      "userId": "03035833066819512937"
     },
     "user_tz": -60
    },
    "id": "hd3hjT5xRKTy",
    "outputId": "45a5e5fb-abd3-4482-dff7-cab21a2b7c7c"
   },
   "outputs": [
    {
     "data": {
      "text/html": [
       "\n",
       "  <div id=\"df-7936c79c-6e7b-4395-8584-487269d21fbb\">\n",
       "    <div class=\"colab-df-container\">\n",
       "      <div>\n",
       "<style scoped>\n",
       "    .dataframe tbody tr th:only-of-type {\n",
       "        vertical-align: middle;\n",
       "    }\n",
       "\n",
       "    .dataframe tbody tr th {\n",
       "        vertical-align: top;\n",
       "    }\n",
       "\n",
       "    .dataframe thead th {\n",
       "        text-align: right;\n",
       "    }\n",
       "</style>\n",
       "<table border=\"1\" class=\"dataframe\">\n",
       "  <thead>\n",
       "    <tr style=\"text-align: right;\">\n",
       "      <th></th>\n",
       "      <th>CLIENTNUM</th>\n",
       "      <th>Attrition_Flag</th>\n",
       "      <th>Customer_Age</th>\n",
       "      <th>Gender</th>\n",
       "      <th>Dependent_count</th>\n",
       "      <th>Education_Level</th>\n",
       "      <th>Marital_Status</th>\n",
       "      <th>Income_Category</th>\n",
       "      <th>Card_Category</th>\n",
       "      <th>Months_on_book</th>\n",
       "      <th>Total_Relationship_Count</th>\n",
       "      <th>Months_Inactive_12_mon</th>\n",
       "      <th>Contacts_Count_12_mon</th>\n",
       "      <th>Credit_Limit</th>\n",
       "      <th>Total_Revolving_Bal</th>\n",
       "      <th>Avg_Open_To_Buy</th>\n",
       "      <th>Total_Amt_Chng_Q4_Q1</th>\n",
       "      <th>Total_Trans_Amt</th>\n",
       "      <th>Total_Trans_Ct</th>\n",
       "      <th>Total_Ct_Chng_Q4_Q1</th>\n",
       "      <th>Avg_Utilization_Ratio</th>\n",
       "      <th>Naive_Bayes_Classifier_Attrition_Flag_Card_Category_Contacts_Count_12_mon_Dependent_count_Education_Level_Months_Inactive_12_mon_1</th>\n",
       "      <th>Naive_Bayes_Classifier_Attrition_Flag_Card_Category_Contacts_Count_12_mon_Dependent_count_Education_Level_Months_Inactive_12_mon_2</th>\n",
       "    </tr>\n",
       "  </thead>\n",
       "  <tbody>\n",
       "    <tr>\n",
       "      <th>0</th>\n",
       "      <td>False</td>\n",
       "      <td>False</td>\n",
       "      <td>False</td>\n",
       "      <td>False</td>\n",
       "      <td>False</td>\n",
       "      <td>False</td>\n",
       "      <td>False</td>\n",
       "      <td>False</td>\n",
       "      <td>False</td>\n",
       "      <td>False</td>\n",
       "      <td>False</td>\n",
       "      <td>False</td>\n",
       "      <td>False</td>\n",
       "      <td>False</td>\n",
       "      <td>False</td>\n",
       "      <td>False</td>\n",
       "      <td>False</td>\n",
       "      <td>False</td>\n",
       "      <td>False</td>\n",
       "      <td>False</td>\n",
       "      <td>False</td>\n",
       "      <td>False</td>\n",
       "      <td>False</td>\n",
       "    </tr>\n",
       "    <tr>\n",
       "      <th>1</th>\n",
       "      <td>False</td>\n",
       "      <td>False</td>\n",
       "      <td>False</td>\n",
       "      <td>False</td>\n",
       "      <td>False</td>\n",
       "      <td>False</td>\n",
       "      <td>False</td>\n",
       "      <td>False</td>\n",
       "      <td>False</td>\n",
       "      <td>False</td>\n",
       "      <td>False</td>\n",
       "      <td>False</td>\n",
       "      <td>False</td>\n",
       "      <td>False</td>\n",
       "      <td>False</td>\n",
       "      <td>False</td>\n",
       "      <td>False</td>\n",
       "      <td>False</td>\n",
       "      <td>False</td>\n",
       "      <td>False</td>\n",
       "      <td>False</td>\n",
       "      <td>False</td>\n",
       "      <td>False</td>\n",
       "    </tr>\n",
       "    <tr>\n",
       "      <th>2</th>\n",
       "      <td>False</td>\n",
       "      <td>False</td>\n",
       "      <td>False</td>\n",
       "      <td>False</td>\n",
       "      <td>False</td>\n",
       "      <td>False</td>\n",
       "      <td>False</td>\n",
       "      <td>False</td>\n",
       "      <td>False</td>\n",
       "      <td>False</td>\n",
       "      <td>False</td>\n",
       "      <td>False</td>\n",
       "      <td>False</td>\n",
       "      <td>False</td>\n",
       "      <td>False</td>\n",
       "      <td>False</td>\n",
       "      <td>False</td>\n",
       "      <td>False</td>\n",
       "      <td>False</td>\n",
       "      <td>False</td>\n",
       "      <td>False</td>\n",
       "      <td>False</td>\n",
       "      <td>False</td>\n",
       "    </tr>\n",
       "    <tr>\n",
       "      <th>3</th>\n",
       "      <td>False</td>\n",
       "      <td>False</td>\n",
       "      <td>False</td>\n",
       "      <td>False</td>\n",
       "      <td>False</td>\n",
       "      <td>False</td>\n",
       "      <td>False</td>\n",
       "      <td>False</td>\n",
       "      <td>False</td>\n",
       "      <td>False</td>\n",
       "      <td>False</td>\n",
       "      <td>False</td>\n",
       "      <td>False</td>\n",
       "      <td>False</td>\n",
       "      <td>False</td>\n",
       "      <td>False</td>\n",
       "      <td>False</td>\n",
       "      <td>False</td>\n",
       "      <td>False</td>\n",
       "      <td>False</td>\n",
       "      <td>False</td>\n",
       "      <td>False</td>\n",
       "      <td>False</td>\n",
       "    </tr>\n",
       "    <tr>\n",
       "      <th>4</th>\n",
       "      <td>False</td>\n",
       "      <td>False</td>\n",
       "      <td>False</td>\n",
       "      <td>False</td>\n",
       "      <td>False</td>\n",
       "      <td>False</td>\n",
       "      <td>False</td>\n",
       "      <td>False</td>\n",
       "      <td>False</td>\n",
       "      <td>False</td>\n",
       "      <td>False</td>\n",
       "      <td>False</td>\n",
       "      <td>False</td>\n",
       "      <td>False</td>\n",
       "      <td>False</td>\n",
       "      <td>False</td>\n",
       "      <td>False</td>\n",
       "      <td>False</td>\n",
       "      <td>False</td>\n",
       "      <td>False</td>\n",
       "      <td>False</td>\n",
       "      <td>False</td>\n",
       "      <td>False</td>\n",
       "    </tr>\n",
       "    <tr>\n",
       "      <th>...</th>\n",
       "      <td>...</td>\n",
       "      <td>...</td>\n",
       "      <td>...</td>\n",
       "      <td>...</td>\n",
       "      <td>...</td>\n",
       "      <td>...</td>\n",
       "      <td>...</td>\n",
       "      <td>...</td>\n",
       "      <td>...</td>\n",
       "      <td>...</td>\n",
       "      <td>...</td>\n",
       "      <td>...</td>\n",
       "      <td>...</td>\n",
       "      <td>...</td>\n",
       "      <td>...</td>\n",
       "      <td>...</td>\n",
       "      <td>...</td>\n",
       "      <td>...</td>\n",
       "      <td>...</td>\n",
       "      <td>...</td>\n",
       "      <td>...</td>\n",
       "      <td>...</td>\n",
       "      <td>...</td>\n",
       "    </tr>\n",
       "    <tr>\n",
       "      <th>10122</th>\n",
       "      <td>False</td>\n",
       "      <td>False</td>\n",
       "      <td>False</td>\n",
       "      <td>False</td>\n",
       "      <td>False</td>\n",
       "      <td>False</td>\n",
       "      <td>False</td>\n",
       "      <td>False</td>\n",
       "      <td>False</td>\n",
       "      <td>False</td>\n",
       "      <td>False</td>\n",
       "      <td>False</td>\n",
       "      <td>False</td>\n",
       "      <td>False</td>\n",
       "      <td>False</td>\n",
       "      <td>False</td>\n",
       "      <td>False</td>\n",
       "      <td>False</td>\n",
       "      <td>False</td>\n",
       "      <td>False</td>\n",
       "      <td>False</td>\n",
       "      <td>False</td>\n",
       "      <td>False</td>\n",
       "    </tr>\n",
       "    <tr>\n",
       "      <th>10123</th>\n",
       "      <td>False</td>\n",
       "      <td>False</td>\n",
       "      <td>False</td>\n",
       "      <td>False</td>\n",
       "      <td>False</td>\n",
       "      <td>False</td>\n",
       "      <td>False</td>\n",
       "      <td>False</td>\n",
       "      <td>False</td>\n",
       "      <td>False</td>\n",
       "      <td>False</td>\n",
       "      <td>False</td>\n",
       "      <td>False</td>\n",
       "      <td>False</td>\n",
       "      <td>False</td>\n",
       "      <td>False</td>\n",
       "      <td>False</td>\n",
       "      <td>False</td>\n",
       "      <td>False</td>\n",
       "      <td>False</td>\n",
       "      <td>False</td>\n",
       "      <td>False</td>\n",
       "      <td>False</td>\n",
       "    </tr>\n",
       "    <tr>\n",
       "      <th>10124</th>\n",
       "      <td>False</td>\n",
       "      <td>False</td>\n",
       "      <td>False</td>\n",
       "      <td>False</td>\n",
       "      <td>False</td>\n",
       "      <td>False</td>\n",
       "      <td>False</td>\n",
       "      <td>False</td>\n",
       "      <td>False</td>\n",
       "      <td>False</td>\n",
       "      <td>False</td>\n",
       "      <td>False</td>\n",
       "      <td>False</td>\n",
       "      <td>False</td>\n",
       "      <td>False</td>\n",
       "      <td>False</td>\n",
       "      <td>False</td>\n",
       "      <td>False</td>\n",
       "      <td>False</td>\n",
       "      <td>False</td>\n",
       "      <td>False</td>\n",
       "      <td>False</td>\n",
       "      <td>False</td>\n",
       "    </tr>\n",
       "    <tr>\n",
       "      <th>10125</th>\n",
       "      <td>False</td>\n",
       "      <td>False</td>\n",
       "      <td>False</td>\n",
       "      <td>False</td>\n",
       "      <td>False</td>\n",
       "      <td>False</td>\n",
       "      <td>False</td>\n",
       "      <td>False</td>\n",
       "      <td>False</td>\n",
       "      <td>False</td>\n",
       "      <td>False</td>\n",
       "      <td>False</td>\n",
       "      <td>False</td>\n",
       "      <td>False</td>\n",
       "      <td>False</td>\n",
       "      <td>False</td>\n",
       "      <td>False</td>\n",
       "      <td>False</td>\n",
       "      <td>False</td>\n",
       "      <td>False</td>\n",
       "      <td>False</td>\n",
       "      <td>False</td>\n",
       "      <td>False</td>\n",
       "    </tr>\n",
       "    <tr>\n",
       "      <th>10126</th>\n",
       "      <td>False</td>\n",
       "      <td>False</td>\n",
       "      <td>False</td>\n",
       "      <td>False</td>\n",
       "      <td>False</td>\n",
       "      <td>False</td>\n",
       "      <td>False</td>\n",
       "      <td>False</td>\n",
       "      <td>False</td>\n",
       "      <td>False</td>\n",
       "      <td>False</td>\n",
       "      <td>False</td>\n",
       "      <td>False</td>\n",
       "      <td>False</td>\n",
       "      <td>False</td>\n",
       "      <td>False</td>\n",
       "      <td>False</td>\n",
       "      <td>False</td>\n",
       "      <td>False</td>\n",
       "      <td>False</td>\n",
       "      <td>False</td>\n",
       "      <td>False</td>\n",
       "      <td>False</td>\n",
       "    </tr>\n",
       "  </tbody>\n",
       "</table>\n",
       "<p>10127 rows × 23 columns</p>\n",
       "</div>\n",
       "      <button class=\"colab-df-convert\" onclick=\"convertToInteractive('df-7936c79c-6e7b-4395-8584-487269d21fbb')\"\n",
       "              title=\"Convert this dataframe to an interactive table.\"\n",
       "              style=\"display:none;\">\n",
       "        \n",
       "  <svg xmlns=\"http://www.w3.org/2000/svg\" height=\"24px\"viewBox=\"0 0 24 24\"\n",
       "       width=\"24px\">\n",
       "    <path d=\"M0 0h24v24H0V0z\" fill=\"none\"/>\n",
       "    <path d=\"M18.56 5.44l.94 2.06.94-2.06 2.06-.94-2.06-.94-.94-2.06-.94 2.06-2.06.94zm-11 1L8.5 8.5l.94-2.06 2.06-.94-2.06-.94L8.5 2.5l-.94 2.06-2.06.94zm10 10l.94 2.06.94-2.06 2.06-.94-2.06-.94-.94-2.06-.94 2.06-2.06.94z\"/><path d=\"M17.41 7.96l-1.37-1.37c-.4-.4-.92-.59-1.43-.59-.52 0-1.04.2-1.43.59L10.3 9.45l-7.72 7.72c-.78.78-.78 2.05 0 2.83L4 21.41c.39.39.9.59 1.41.59.51 0 1.02-.2 1.41-.59l7.78-7.78 2.81-2.81c.8-.78.8-2.07 0-2.86zM5.41 20L4 18.59l7.72-7.72 1.47 1.35L5.41 20z\"/>\n",
       "  </svg>\n",
       "      </button>\n",
       "      \n",
       "  <style>\n",
       "    .colab-df-container {\n",
       "      display:flex;\n",
       "      flex-wrap:wrap;\n",
       "      gap: 12px;\n",
       "    }\n",
       "\n",
       "    .colab-df-convert {\n",
       "      background-color: #E8F0FE;\n",
       "      border: none;\n",
       "      border-radius: 50%;\n",
       "      cursor: pointer;\n",
       "      display: none;\n",
       "      fill: #1967D2;\n",
       "      height: 32px;\n",
       "      padding: 0 0 0 0;\n",
       "      width: 32px;\n",
       "    }\n",
       "\n",
       "    .colab-df-convert:hover {\n",
       "      background-color: #E2EBFA;\n",
       "      box-shadow: 0px 1px 2px rgba(60, 64, 67, 0.3), 0px 1px 3px 1px rgba(60, 64, 67, 0.15);\n",
       "      fill: #174EA6;\n",
       "    }\n",
       "\n",
       "    [theme=dark] .colab-df-convert {\n",
       "      background-color: #3B4455;\n",
       "      fill: #D2E3FC;\n",
       "    }\n",
       "\n",
       "    [theme=dark] .colab-df-convert:hover {\n",
       "      background-color: #434B5C;\n",
       "      box-shadow: 0px 1px 3px 1px rgba(0, 0, 0, 0.15);\n",
       "      filter: drop-shadow(0px 1px 2px rgba(0, 0, 0, 0.3));\n",
       "      fill: #FFFFFF;\n",
       "    }\n",
       "  </style>\n",
       "\n",
       "      <script>\n",
       "        const buttonEl =\n",
       "          document.querySelector('#df-7936c79c-6e7b-4395-8584-487269d21fbb button.colab-df-convert');\n",
       "        buttonEl.style.display =\n",
       "          google.colab.kernel.accessAllowed ? 'block' : 'none';\n",
       "\n",
       "        async function convertToInteractive(key) {\n",
       "          const element = document.querySelector('#df-7936c79c-6e7b-4395-8584-487269d21fbb');\n",
       "          const dataTable =\n",
       "            await google.colab.kernel.invokeFunction('convertToInteractive',\n",
       "                                                     [key], {});\n",
       "          if (!dataTable) return;\n",
       "\n",
       "          const docLinkHtml = 'Like what you see? Visit the ' +\n",
       "            '<a target=\"_blank\" href=https://colab.research.google.com/notebooks/data_table.ipynb>data table notebook</a>'\n",
       "            + ' to learn more about interactive tables.';\n",
       "          element.innerHTML = '';\n",
       "          dataTable['output_type'] = 'display_data';\n",
       "          await google.colab.output.renderOutput(dataTable, element);\n",
       "          const docLink = document.createElement('div');\n",
       "          docLink.innerHTML = docLinkHtml;\n",
       "          element.appendChild(docLink);\n",
       "        }\n",
       "      </script>\n",
       "    </div>\n",
       "  </div>\n",
       "  "
      ],
      "text/plain": [
       "       CLIENTNUM  ...  Naive_Bayes_Classifier_Attrition_Flag_Card_Category_Contacts_Count_12_mon_Dependent_count_Education_Level_Months_Inactive_12_mon_2\n",
       "0          False  ...                                              False                                                                                 \n",
       "1          False  ...                                              False                                                                                 \n",
       "2          False  ...                                              False                                                                                 \n",
       "3          False  ...                                              False                                                                                 \n",
       "4          False  ...                                              False                                                                                 \n",
       "...          ...  ...                                                ...                                                                                 \n",
       "10122      False  ...                                              False                                                                                 \n",
       "10123      False  ...                                              False                                                                                 \n",
       "10124      False  ...                                              False                                                                                 \n",
       "10125      False  ...                                              False                                                                                 \n",
       "10126      False  ...                                              False                                                                                 \n",
       "\n",
       "[10127 rows x 23 columns]"
      ]
     },
     "execution_count": 130,
     "metadata": {},
     "output_type": "execute_result"
    }
   ],
   "source": [
    "#Checking for missing/null data entries\n",
    "bank_churn_df.isnull() #This returns a boolean for every entry in the dataframe. Displaying True if there is a null entry and False otherwise."
   ]
  },
  {
   "cell_type": "code",
   "execution_count": null,
   "metadata": {
    "colab": {
     "base_uri": "https://localhost:8080/"
    },
    "executionInfo": {
     "elapsed": 76,
     "status": "ok",
     "timestamp": 1645185497355,
     "user": {
      "displayName": "Solomon Ayanlakin",
      "photoUrl": "https://lh3.googleusercontent.com/a-/AOh14GiB_fxjvTIkhmNkjjvXiK_Bt-vZ7xIOpwCETDy55w=s64",
      "userId": "03035833066819512937"
     },
     "user_tz": -60
    },
    "id": "bhGjdqmK80CC",
    "outputId": "a6da65cb-6db2-4afd-c78d-1b86c6492bfa"
   },
   "outputs": [
    {
     "data": {
      "text/plain": [
       "array([False, False, False, False, False, False, False, False, False,\n",
       "       False, False, False, False, False, False, False, False, False,\n",
       "       False, False, False, False, False])"
      ]
     },
     "execution_count": 131,
     "metadata": {},
     "output_type": "execute_result"
    }
   ],
   "source": [
    "#The above entry can be somewhat confusing and null values can be missed. We can however group this search by columns to see if there are any null entries in a column\n",
    "\n",
    "bank_churn_df.columns.isnull() \n",
    "\n",
    "#This returns a arrray of bool values with length equal to the number of columns in the original data frame.\n",
    "\n",
    "# It's easier for me to see if there are any null values in a column this way"
   ]
  },
  {
   "cell_type": "code",
   "execution_count": null,
   "metadata": {
    "colab": {
     "base_uri": "https://localhost:8080/"
    },
    "executionInfo": {
     "elapsed": 72,
     "status": "ok",
     "timestamp": 1645185497357,
     "user": {
      "displayName": "Solomon Ayanlakin",
      "photoUrl": "https://lh3.googleusercontent.com/a-/AOh14GiB_fxjvTIkhmNkjjvXiK_Bt-vZ7xIOpwCETDy55w=s64",
      "userId": "03035833066819512937"
     },
     "user_tz": -60
    },
    "id": "Jo1u_Gpr9nXO",
    "outputId": "42c010b2-4581-4f6c-cf16-3dc5e090edfd"
   },
   "outputs": [
    {
     "data": {
      "text/plain": [
       "CLIENTNUM                                                                                                                             0\n",
       "Contacts_Count_12_mon                                                                                                                 0\n",
       "Naive_Bayes_Classifier_Attrition_Flag_Card_Category_Contacts_Count_12_mon_Dependent_count_Education_Level_Months_Inactive_12_mon_1    0\n",
       "Avg_Utilization_Ratio                                                                                                                 0\n",
       "Total_Ct_Chng_Q4_Q1                                                                                                                   0\n",
       "Total_Trans_Ct                                                                                                                        0\n",
       "Total_Trans_Amt                                                                                                                       0\n",
       "Total_Amt_Chng_Q4_Q1                                                                                                                  0\n",
       "Avg_Open_To_Buy                                                                                                                       0\n",
       "Total_Revolving_Bal                                                                                                                   0\n",
       "Credit_Limit                                                                                                                          0\n",
       "Months_Inactive_12_mon                                                                                                                0\n",
       "Attrition_Flag                                                                                                                        0\n",
       "Total_Relationship_Count                                                                                                              0\n",
       "Months_on_book                                                                                                                        0\n",
       "Card_Category                                                                                                                         0\n",
       "Income_Category                                                                                                                       0\n",
       "Marital_Status                                                                                                                        0\n",
       "Education_Level                                                                                                                       0\n",
       "Dependent_count                                                                                                                       0\n",
       "Gender                                                                                                                                0\n",
       "Customer_Age                                                                                                                          0\n",
       "Naive_Bayes_Classifier_Attrition_Flag_Card_Category_Contacts_Count_12_mon_Dependent_count_Education_Level_Months_Inactive_12_mon_2    0\n",
       "dtype: int64"
      ]
     },
     "execution_count": 132,
     "metadata": {},
     "output_type": "execute_result"
    }
   ],
   "source": [
    "#To count the number of null values in a given column, we can add the .sum() method to our previous code.\n",
    "\n",
    "bank_churn_df[bank_churn_df.columns].isnull().sum().sort_values(ascending = False) \n",
    "\n",
    "#Seeing that there are no missing values, we do not need to make any major cleaning changes to the data frame."
   ]
  },
  {
   "cell_type": "code",
   "execution_count": null,
   "metadata": {
    "colab": {
     "base_uri": "https://localhost:8080/",
     "height": 113
    },
    "executionInfo": {
     "elapsed": 68,
     "status": "ok",
     "timestamp": 1645185497358,
     "user": {
      "displayName": "Solomon Ayanlakin",
      "photoUrl": "https://lh3.googleusercontent.com/a-/AOh14GiB_fxjvTIkhmNkjjvXiK_Bt-vZ7xIOpwCETDy55w=s64",
      "userId": "03035833066819512937"
     },
     "user_tz": -60
    },
    "id": "vQrhXzZFG08E",
    "outputId": "cf681f6e-be1f-4391-a1b6-0fe0bab10da3"
   },
   "outputs": [
    {
     "data": {
      "text/html": [
       "\n",
       "  <div id=\"df-e3c1ae38-1177-44ec-8c18-15b20bb8ffc2\">\n",
       "    <div class=\"colab-df-container\">\n",
       "      <div>\n",
       "<style scoped>\n",
       "    .dataframe tbody tr th:only-of-type {\n",
       "        vertical-align: middle;\n",
       "    }\n",
       "\n",
       "    .dataframe tbody tr th {\n",
       "        vertical-align: top;\n",
       "    }\n",
       "\n",
       "    .dataframe thead th {\n",
       "        text-align: right;\n",
       "    }\n",
       "</style>\n",
       "<table border=\"1\" class=\"dataframe\">\n",
       "  <thead>\n",
       "    <tr style=\"text-align: right;\">\n",
       "      <th></th>\n",
       "      <th>CLIENTNUM</th>\n",
       "      <th>Attrition_Flag</th>\n",
       "      <th>Customer_Age</th>\n",
       "      <th>Gender</th>\n",
       "      <th>Dependent_count</th>\n",
       "      <th>Education_Level</th>\n",
       "      <th>Marital_Status</th>\n",
       "      <th>Income_Category</th>\n",
       "      <th>Card_Category</th>\n",
       "      <th>Months_on_book</th>\n",
       "      <th>Total_Relationship_Count</th>\n",
       "      <th>Months_Inactive_12_mon</th>\n",
       "      <th>Contacts_Count_12_mon</th>\n",
       "      <th>Credit_Limit</th>\n",
       "      <th>Total_Revolving_Bal</th>\n",
       "      <th>Avg_Open_To_Buy</th>\n",
       "      <th>Total_Amt_Chng_Q4_Q1</th>\n",
       "      <th>Total_Trans_Amt</th>\n",
       "      <th>Total_Trans_Ct</th>\n",
       "      <th>Total_Ct_Chng_Q4_Q1</th>\n",
       "      <th>Avg_Utilization_Ratio</th>\n",
       "      <th>Naive_Bayes_Classifier_Attrition_Flag_Card_Category_Contacts_Count_12_mon_Dependent_count_Education_Level_Months_Inactive_12_mon_1</th>\n",
       "      <th>Naive_Bayes_Classifier_Attrition_Flag_Card_Category_Contacts_Count_12_mon_Dependent_count_Education_Level_Months_Inactive_12_mon_2</th>\n",
       "    </tr>\n",
       "  </thead>\n",
       "  <tbody>\n",
       "  </tbody>\n",
       "</table>\n",
       "</div>\n",
       "      <button class=\"colab-df-convert\" onclick=\"convertToInteractive('df-e3c1ae38-1177-44ec-8c18-15b20bb8ffc2')\"\n",
       "              title=\"Convert this dataframe to an interactive table.\"\n",
       "              style=\"display:none;\">\n",
       "        \n",
       "  <svg xmlns=\"http://www.w3.org/2000/svg\" height=\"24px\"viewBox=\"0 0 24 24\"\n",
       "       width=\"24px\">\n",
       "    <path d=\"M0 0h24v24H0V0z\" fill=\"none\"/>\n",
       "    <path d=\"M18.56 5.44l.94 2.06.94-2.06 2.06-.94-2.06-.94-.94-2.06-.94 2.06-2.06.94zm-11 1L8.5 8.5l.94-2.06 2.06-.94-2.06-.94L8.5 2.5l-.94 2.06-2.06.94zm10 10l.94 2.06.94-2.06 2.06-.94-2.06-.94-.94-2.06-.94 2.06-2.06.94z\"/><path d=\"M17.41 7.96l-1.37-1.37c-.4-.4-.92-.59-1.43-.59-.52 0-1.04.2-1.43.59L10.3 9.45l-7.72 7.72c-.78.78-.78 2.05 0 2.83L4 21.41c.39.39.9.59 1.41.59.51 0 1.02-.2 1.41-.59l7.78-7.78 2.81-2.81c.8-.78.8-2.07 0-2.86zM5.41 20L4 18.59l7.72-7.72 1.47 1.35L5.41 20z\"/>\n",
       "  </svg>\n",
       "      </button>\n",
       "      \n",
       "  <style>\n",
       "    .colab-df-container {\n",
       "      display:flex;\n",
       "      flex-wrap:wrap;\n",
       "      gap: 12px;\n",
       "    }\n",
       "\n",
       "    .colab-df-convert {\n",
       "      background-color: #E8F0FE;\n",
       "      border: none;\n",
       "      border-radius: 50%;\n",
       "      cursor: pointer;\n",
       "      display: none;\n",
       "      fill: #1967D2;\n",
       "      height: 32px;\n",
       "      padding: 0 0 0 0;\n",
       "      width: 32px;\n",
       "    }\n",
       "\n",
       "    .colab-df-convert:hover {\n",
       "      background-color: #E2EBFA;\n",
       "      box-shadow: 0px 1px 2px rgba(60, 64, 67, 0.3), 0px 1px 3px 1px rgba(60, 64, 67, 0.15);\n",
       "      fill: #174EA6;\n",
       "    }\n",
       "\n",
       "    [theme=dark] .colab-df-convert {\n",
       "      background-color: #3B4455;\n",
       "      fill: #D2E3FC;\n",
       "    }\n",
       "\n",
       "    [theme=dark] .colab-df-convert:hover {\n",
       "      background-color: #434B5C;\n",
       "      box-shadow: 0px 1px 3px 1px rgba(0, 0, 0, 0.15);\n",
       "      filter: drop-shadow(0px 1px 2px rgba(0, 0, 0, 0.3));\n",
       "      fill: #FFFFFF;\n",
       "    }\n",
       "  </style>\n",
       "\n",
       "      <script>\n",
       "        const buttonEl =\n",
       "          document.querySelector('#df-e3c1ae38-1177-44ec-8c18-15b20bb8ffc2 button.colab-df-convert');\n",
       "        buttonEl.style.display =\n",
       "          google.colab.kernel.accessAllowed ? 'block' : 'none';\n",
       "\n",
       "        async function convertToInteractive(key) {\n",
       "          const element = document.querySelector('#df-e3c1ae38-1177-44ec-8c18-15b20bb8ffc2');\n",
       "          const dataTable =\n",
       "            await google.colab.kernel.invokeFunction('convertToInteractive',\n",
       "                                                     [key], {});\n",
       "          if (!dataTable) return;\n",
       "\n",
       "          const docLinkHtml = 'Like what you see? Visit the ' +\n",
       "            '<a target=\"_blank\" href=https://colab.research.google.com/notebooks/data_table.ipynb>data table notebook</a>'\n",
       "            + ' to learn more about interactive tables.';\n",
       "          element.innerHTML = '';\n",
       "          dataTable['output_type'] = 'display_data';\n",
       "          await google.colab.output.renderOutput(dataTable, element);\n",
       "          const docLink = document.createElement('div');\n",
       "          docLink.innerHTML = docLinkHtml;\n",
       "          element.appendChild(docLink);\n",
       "        }\n",
       "      </script>\n",
       "    </div>\n",
       "  </div>\n",
       "  "
      ],
      "text/plain": [
       "Empty DataFrame\n",
       "Columns: [CLIENTNUM, Attrition_Flag, Customer_Age, Gender, Dependent_count, Education_Level, Marital_Status, Income_Category, Card_Category, Months_on_book, Total_Relationship_Count, Months_Inactive_12_mon, Contacts_Count_12_mon, Credit_Limit, Total_Revolving_Bal, Avg_Open_To_Buy, Total_Amt_Chng_Q4_Q1, Total_Trans_Amt, Total_Trans_Ct, Total_Ct_Chng_Q4_Q1, Avg_Utilization_Ratio, Naive_Bayes_Classifier_Attrition_Flag_Card_Category_Contacts_Count_12_mon_Dependent_count_Education_Level_Months_Inactive_12_mon_1, Naive_Bayes_Classifier_Attrition_Flag_Card_Category_Contacts_Count_12_mon_Dependent_count_Education_Level_Months_Inactive_12_mon_2]\n",
       "Index: []"
      ]
     },
     "execution_count": 133,
     "metadata": {},
     "output_type": "execute_result"
    }
   ],
   "source": [
    "#Searching for duplicate entries in the dataset\n",
    "bank_churn_df[bank_churn_df.duplicated()] #There are no duplicate entries. "
   ]
  },
  {
   "cell_type": "code",
   "execution_count": null,
   "metadata": {
    "id": "8aXwNCgeHQYl"
   },
   "outputs": [],
   "source": [
    "#Seeing that the first column (Client Number) and the last two columns are irrelivant to our analysis, we can drop them.\n",
    "bank_churn_df = bank_churn_df.iloc[:,1:-2]"
   ]
  },
  {
   "cell_type": "code",
   "execution_count": null,
   "metadata": {
    "colab": {
     "base_uri": "https://localhost:8080/",
     "height": 661
    },
    "executionInfo": {
     "elapsed": 68,
     "status": "ok",
     "timestamp": 1645185497361,
     "user": {
      "displayName": "Solomon Ayanlakin",
      "photoUrl": "https://lh3.googleusercontent.com/a-/AOh14GiB_fxjvTIkhmNkjjvXiK_Bt-vZ7xIOpwCETDy55w=s64",
      "userId": "03035833066819512937"
     },
     "user_tz": -60
    },
    "id": "A4eQeeaDZnD3",
    "outputId": "faa60d55-8300-4a7a-a2d1-adbcb6e3ba57"
   },
   "outputs": [
    {
     "data": {
      "text/html": [
       "\n",
       "  <div id=\"df-853fbc1b-6a11-48a6-ad49-6d4a2ef334f7\">\n",
       "    <div class=\"colab-df-container\">\n",
       "      <div>\n",
       "<style scoped>\n",
       "    .dataframe tbody tr th:only-of-type {\n",
       "        vertical-align: middle;\n",
       "    }\n",
       "\n",
       "    .dataframe tbody tr th {\n",
       "        vertical-align: top;\n",
       "    }\n",
       "\n",
       "    .dataframe thead th {\n",
       "        text-align: right;\n",
       "    }\n",
       "</style>\n",
       "<table border=\"1\" class=\"dataframe\">\n",
       "  <thead>\n",
       "    <tr style=\"text-align: right;\">\n",
       "      <th></th>\n",
       "      <th>Attrition_Flag</th>\n",
       "      <th>Customer_Age</th>\n",
       "      <th>Gender</th>\n",
       "      <th>Dependent_count</th>\n",
       "      <th>Education_Level</th>\n",
       "      <th>Marital_Status</th>\n",
       "      <th>Income_Category</th>\n",
       "      <th>Card_Category</th>\n",
       "      <th>Months_on_book</th>\n",
       "      <th>Total_Relationship_Count</th>\n",
       "      <th>Months_Inactive_12_mon</th>\n",
       "      <th>Contacts_Count_12_mon</th>\n",
       "      <th>Credit_Limit</th>\n",
       "      <th>Total_Revolving_Bal</th>\n",
       "      <th>Avg_Open_To_Buy</th>\n",
       "      <th>Total_Amt_Chng_Q4_Q1</th>\n",
       "      <th>Total_Trans_Amt</th>\n",
       "      <th>Total_Trans_Ct</th>\n",
       "      <th>Total_Ct_Chng_Q4_Q1</th>\n",
       "      <th>Avg_Utilization_Ratio</th>\n",
       "    </tr>\n",
       "  </thead>\n",
       "  <tbody>\n",
       "    <tr>\n",
       "      <th>0</th>\n",
       "      <td>Existing Customer</td>\n",
       "      <td>45</td>\n",
       "      <td>M</td>\n",
       "      <td>3</td>\n",
       "      <td>High School</td>\n",
       "      <td>Married</td>\n",
       "      <td>$60K - $80K</td>\n",
       "      <td>Blue</td>\n",
       "      <td>39</td>\n",
       "      <td>5</td>\n",
       "      <td>1</td>\n",
       "      <td>3</td>\n",
       "      <td>12691.0</td>\n",
       "      <td>777</td>\n",
       "      <td>11914.0</td>\n",
       "      <td>1.335</td>\n",
       "      <td>1144</td>\n",
       "      <td>42</td>\n",
       "      <td>1.625</td>\n",
       "      <td>0.061</td>\n",
       "    </tr>\n",
       "    <tr>\n",
       "      <th>1</th>\n",
       "      <td>Existing Customer</td>\n",
       "      <td>49</td>\n",
       "      <td>F</td>\n",
       "      <td>5</td>\n",
       "      <td>Graduate</td>\n",
       "      <td>Single</td>\n",
       "      <td>Less than $40K</td>\n",
       "      <td>Blue</td>\n",
       "      <td>44</td>\n",
       "      <td>6</td>\n",
       "      <td>1</td>\n",
       "      <td>2</td>\n",
       "      <td>8256.0</td>\n",
       "      <td>864</td>\n",
       "      <td>7392.0</td>\n",
       "      <td>1.541</td>\n",
       "      <td>1291</td>\n",
       "      <td>33</td>\n",
       "      <td>3.714</td>\n",
       "      <td>0.105</td>\n",
       "    </tr>\n",
       "    <tr>\n",
       "      <th>2</th>\n",
       "      <td>Existing Customer</td>\n",
       "      <td>51</td>\n",
       "      <td>M</td>\n",
       "      <td>3</td>\n",
       "      <td>Graduate</td>\n",
       "      <td>Married</td>\n",
       "      <td>$80K - $120K</td>\n",
       "      <td>Blue</td>\n",
       "      <td>36</td>\n",
       "      <td>4</td>\n",
       "      <td>1</td>\n",
       "      <td>0</td>\n",
       "      <td>3418.0</td>\n",
       "      <td>0</td>\n",
       "      <td>3418.0</td>\n",
       "      <td>2.594</td>\n",
       "      <td>1887</td>\n",
       "      <td>20</td>\n",
       "      <td>2.333</td>\n",
       "      <td>0.000</td>\n",
       "    </tr>\n",
       "    <tr>\n",
       "      <th>3</th>\n",
       "      <td>Existing Customer</td>\n",
       "      <td>40</td>\n",
       "      <td>F</td>\n",
       "      <td>4</td>\n",
       "      <td>High School</td>\n",
       "      <td>Unknown</td>\n",
       "      <td>Less than $40K</td>\n",
       "      <td>Blue</td>\n",
       "      <td>34</td>\n",
       "      <td>3</td>\n",
       "      <td>4</td>\n",
       "      <td>1</td>\n",
       "      <td>3313.0</td>\n",
       "      <td>2517</td>\n",
       "      <td>796.0</td>\n",
       "      <td>1.405</td>\n",
       "      <td>1171</td>\n",
       "      <td>20</td>\n",
       "      <td>2.333</td>\n",
       "      <td>0.760</td>\n",
       "    </tr>\n",
       "    <tr>\n",
       "      <th>4</th>\n",
       "      <td>Existing Customer</td>\n",
       "      <td>40</td>\n",
       "      <td>M</td>\n",
       "      <td>3</td>\n",
       "      <td>Uneducated</td>\n",
       "      <td>Married</td>\n",
       "      <td>$60K - $80K</td>\n",
       "      <td>Blue</td>\n",
       "      <td>21</td>\n",
       "      <td>5</td>\n",
       "      <td>1</td>\n",
       "      <td>0</td>\n",
       "      <td>4716.0</td>\n",
       "      <td>0</td>\n",
       "      <td>4716.0</td>\n",
       "      <td>2.175</td>\n",
       "      <td>816</td>\n",
       "      <td>28</td>\n",
       "      <td>2.500</td>\n",
       "      <td>0.000</td>\n",
       "    </tr>\n",
       "    <tr>\n",
       "      <th>...</th>\n",
       "      <td>...</td>\n",
       "      <td>...</td>\n",
       "      <td>...</td>\n",
       "      <td>...</td>\n",
       "      <td>...</td>\n",
       "      <td>...</td>\n",
       "      <td>...</td>\n",
       "      <td>...</td>\n",
       "      <td>...</td>\n",
       "      <td>...</td>\n",
       "      <td>...</td>\n",
       "      <td>...</td>\n",
       "      <td>...</td>\n",
       "      <td>...</td>\n",
       "      <td>...</td>\n",
       "      <td>...</td>\n",
       "      <td>...</td>\n",
       "      <td>...</td>\n",
       "      <td>...</td>\n",
       "      <td>...</td>\n",
       "    </tr>\n",
       "    <tr>\n",
       "      <th>10122</th>\n",
       "      <td>Existing Customer</td>\n",
       "      <td>50</td>\n",
       "      <td>M</td>\n",
       "      <td>2</td>\n",
       "      <td>Graduate</td>\n",
       "      <td>Single</td>\n",
       "      <td>$40K - $60K</td>\n",
       "      <td>Blue</td>\n",
       "      <td>40</td>\n",
       "      <td>3</td>\n",
       "      <td>2</td>\n",
       "      <td>3</td>\n",
       "      <td>4003.0</td>\n",
       "      <td>1851</td>\n",
       "      <td>2152.0</td>\n",
       "      <td>0.703</td>\n",
       "      <td>15476</td>\n",
       "      <td>117</td>\n",
       "      <td>0.857</td>\n",
       "      <td>0.462</td>\n",
       "    </tr>\n",
       "    <tr>\n",
       "      <th>10123</th>\n",
       "      <td>Attrited Customer</td>\n",
       "      <td>41</td>\n",
       "      <td>M</td>\n",
       "      <td>2</td>\n",
       "      <td>Unknown</td>\n",
       "      <td>Divorced</td>\n",
       "      <td>$40K - $60K</td>\n",
       "      <td>Blue</td>\n",
       "      <td>25</td>\n",
       "      <td>4</td>\n",
       "      <td>2</td>\n",
       "      <td>3</td>\n",
       "      <td>4277.0</td>\n",
       "      <td>2186</td>\n",
       "      <td>2091.0</td>\n",
       "      <td>0.804</td>\n",
       "      <td>8764</td>\n",
       "      <td>69</td>\n",
       "      <td>0.683</td>\n",
       "      <td>0.511</td>\n",
       "    </tr>\n",
       "    <tr>\n",
       "      <th>10124</th>\n",
       "      <td>Attrited Customer</td>\n",
       "      <td>44</td>\n",
       "      <td>F</td>\n",
       "      <td>1</td>\n",
       "      <td>High School</td>\n",
       "      <td>Married</td>\n",
       "      <td>Less than $40K</td>\n",
       "      <td>Blue</td>\n",
       "      <td>36</td>\n",
       "      <td>5</td>\n",
       "      <td>3</td>\n",
       "      <td>4</td>\n",
       "      <td>5409.0</td>\n",
       "      <td>0</td>\n",
       "      <td>5409.0</td>\n",
       "      <td>0.819</td>\n",
       "      <td>10291</td>\n",
       "      <td>60</td>\n",
       "      <td>0.818</td>\n",
       "      <td>0.000</td>\n",
       "    </tr>\n",
       "    <tr>\n",
       "      <th>10125</th>\n",
       "      <td>Attrited Customer</td>\n",
       "      <td>30</td>\n",
       "      <td>M</td>\n",
       "      <td>2</td>\n",
       "      <td>Graduate</td>\n",
       "      <td>Unknown</td>\n",
       "      <td>$40K - $60K</td>\n",
       "      <td>Blue</td>\n",
       "      <td>36</td>\n",
       "      <td>4</td>\n",
       "      <td>3</td>\n",
       "      <td>3</td>\n",
       "      <td>5281.0</td>\n",
       "      <td>0</td>\n",
       "      <td>5281.0</td>\n",
       "      <td>0.535</td>\n",
       "      <td>8395</td>\n",
       "      <td>62</td>\n",
       "      <td>0.722</td>\n",
       "      <td>0.000</td>\n",
       "    </tr>\n",
       "    <tr>\n",
       "      <th>10126</th>\n",
       "      <td>Attrited Customer</td>\n",
       "      <td>43</td>\n",
       "      <td>F</td>\n",
       "      <td>2</td>\n",
       "      <td>Graduate</td>\n",
       "      <td>Married</td>\n",
       "      <td>Less than $40K</td>\n",
       "      <td>Silver</td>\n",
       "      <td>25</td>\n",
       "      <td>6</td>\n",
       "      <td>2</td>\n",
       "      <td>4</td>\n",
       "      <td>10388.0</td>\n",
       "      <td>1961</td>\n",
       "      <td>8427.0</td>\n",
       "      <td>0.703</td>\n",
       "      <td>10294</td>\n",
       "      <td>61</td>\n",
       "      <td>0.649</td>\n",
       "      <td>0.189</td>\n",
       "    </tr>\n",
       "  </tbody>\n",
       "</table>\n",
       "<p>10127 rows × 20 columns</p>\n",
       "</div>\n",
       "      <button class=\"colab-df-convert\" onclick=\"convertToInteractive('df-853fbc1b-6a11-48a6-ad49-6d4a2ef334f7')\"\n",
       "              title=\"Convert this dataframe to an interactive table.\"\n",
       "              style=\"display:none;\">\n",
       "        \n",
       "  <svg xmlns=\"http://www.w3.org/2000/svg\" height=\"24px\"viewBox=\"0 0 24 24\"\n",
       "       width=\"24px\">\n",
       "    <path d=\"M0 0h24v24H0V0z\" fill=\"none\"/>\n",
       "    <path d=\"M18.56 5.44l.94 2.06.94-2.06 2.06-.94-2.06-.94-.94-2.06-.94 2.06-2.06.94zm-11 1L8.5 8.5l.94-2.06 2.06-.94-2.06-.94L8.5 2.5l-.94 2.06-2.06.94zm10 10l.94 2.06.94-2.06 2.06-.94-2.06-.94-.94-2.06-.94 2.06-2.06.94z\"/><path d=\"M17.41 7.96l-1.37-1.37c-.4-.4-.92-.59-1.43-.59-.52 0-1.04.2-1.43.59L10.3 9.45l-7.72 7.72c-.78.78-.78 2.05 0 2.83L4 21.41c.39.39.9.59 1.41.59.51 0 1.02-.2 1.41-.59l7.78-7.78 2.81-2.81c.8-.78.8-2.07 0-2.86zM5.41 20L4 18.59l7.72-7.72 1.47 1.35L5.41 20z\"/>\n",
       "  </svg>\n",
       "      </button>\n",
       "      \n",
       "  <style>\n",
       "    .colab-df-container {\n",
       "      display:flex;\n",
       "      flex-wrap:wrap;\n",
       "      gap: 12px;\n",
       "    }\n",
       "\n",
       "    .colab-df-convert {\n",
       "      background-color: #E8F0FE;\n",
       "      border: none;\n",
       "      border-radius: 50%;\n",
       "      cursor: pointer;\n",
       "      display: none;\n",
       "      fill: #1967D2;\n",
       "      height: 32px;\n",
       "      padding: 0 0 0 0;\n",
       "      width: 32px;\n",
       "    }\n",
       "\n",
       "    .colab-df-convert:hover {\n",
       "      background-color: #E2EBFA;\n",
       "      box-shadow: 0px 1px 2px rgba(60, 64, 67, 0.3), 0px 1px 3px 1px rgba(60, 64, 67, 0.15);\n",
       "      fill: #174EA6;\n",
       "    }\n",
       "\n",
       "    [theme=dark] .colab-df-convert {\n",
       "      background-color: #3B4455;\n",
       "      fill: #D2E3FC;\n",
       "    }\n",
       "\n",
       "    [theme=dark] .colab-df-convert:hover {\n",
       "      background-color: #434B5C;\n",
       "      box-shadow: 0px 1px 3px 1px rgba(0, 0, 0, 0.15);\n",
       "      filter: drop-shadow(0px 1px 2px rgba(0, 0, 0, 0.3));\n",
       "      fill: #FFFFFF;\n",
       "    }\n",
       "  </style>\n",
       "\n",
       "      <script>\n",
       "        const buttonEl =\n",
       "          document.querySelector('#df-853fbc1b-6a11-48a6-ad49-6d4a2ef334f7 button.colab-df-convert');\n",
       "        buttonEl.style.display =\n",
       "          google.colab.kernel.accessAllowed ? 'block' : 'none';\n",
       "\n",
       "        async function convertToInteractive(key) {\n",
       "          const element = document.querySelector('#df-853fbc1b-6a11-48a6-ad49-6d4a2ef334f7');\n",
       "          const dataTable =\n",
       "            await google.colab.kernel.invokeFunction('convertToInteractive',\n",
       "                                                     [key], {});\n",
       "          if (!dataTable) return;\n",
       "\n",
       "          const docLinkHtml = 'Like what you see? Visit the ' +\n",
       "            '<a target=\"_blank\" href=https://colab.research.google.com/notebooks/data_table.ipynb>data table notebook</a>'\n",
       "            + ' to learn more about interactive tables.';\n",
       "          element.innerHTML = '';\n",
       "          dataTable['output_type'] = 'display_data';\n",
       "          await google.colab.output.renderOutput(dataTable, element);\n",
       "          const docLink = document.createElement('div');\n",
       "          docLink.innerHTML = docLinkHtml;\n",
       "          element.appendChild(docLink);\n",
       "        }\n",
       "      </script>\n",
       "    </div>\n",
       "  </div>\n",
       "  "
      ],
      "text/plain": [
       "          Attrition_Flag  ...  Avg_Utilization_Ratio\n",
       "0      Existing Customer  ...                  0.061\n",
       "1      Existing Customer  ...                  0.105\n",
       "2      Existing Customer  ...                  0.000\n",
       "3      Existing Customer  ...                  0.760\n",
       "4      Existing Customer  ...                  0.000\n",
       "...                  ...  ...                    ...\n",
       "10122  Existing Customer  ...                  0.462\n",
       "10123  Attrited Customer  ...                  0.511\n",
       "10124  Attrited Customer  ...                  0.000\n",
       "10125  Attrited Customer  ...                  0.000\n",
       "10126  Attrited Customer  ...                  0.189\n",
       "\n",
       "[10127 rows x 20 columns]"
      ]
     },
     "execution_count": 135,
     "metadata": {},
     "output_type": "execute_result"
    }
   ],
   "source": [
    "bank_churn_df"
   ]
  },
  {
   "cell_type": "code",
   "execution_count": null,
   "metadata": {
    "id": "07sApx-WKG84"
   },
   "outputs": [],
   "source": [
    "import jovian"
   ]
  },
  {
   "cell_type": "code",
   "execution_count": 246,
   "metadata": {
    "colab": {
     "base_uri": "https://localhost:8080/",
     "height": 87
    },
    "executionInfo": {
     "elapsed": 2655,
     "status": "ok",
     "timestamp": 1645198286857,
     "user": {
      "displayName": "Solomon Ayanlakin",
      "photoUrl": "https://lh3.googleusercontent.com/a-/AOh14GiB_fxjvTIkhmNkjjvXiK_Bt-vZ7xIOpwCETDy55w=s64",
      "userId": "03035833066819512937"
     },
     "user_tz": -60
    },
    "id": "YPXgMJMeKG86",
    "outputId": "0c5e5d1b-0059-4a2d-a618-ad6f356240e8"
   },
   "outputs": [
    {
     "name": "stdout",
     "output_type": "stream",
     "text": [
      "[jovian] Detected Colab notebook...\u001b[0m\n",
      "[jovian] Uploading colab notebook to Jovian...\u001b[0m\n",
      "Committed successfully! https://jovian.ai/solomon-ayanlakin/credit-card-churn-analysis\n"
     ]
    },
    {
     "data": {
      "application/vnd.google.colaboratory.intrinsic+json": {
       "type": "string"
      },
      "text/plain": [
       "'https://jovian.ai/solomon-ayanlakin/credit-card-churn-analysis'"
      ]
     },
     "execution_count": 246,
     "metadata": {},
     "output_type": "execute_result"
    }
   ],
   "source": [
    "jovian.commit() #Saving a snapshot of my work to Jovian."
   ]
  },
  {
   "cell_type": "markdown",
   "metadata": {
    "id": "wR1Dc_5eKG88"
   },
   "source": [
    "## Exploratory Analysis and Visualization\n",
    "\n",
    "All entries in a data sets are divided into two main data types, numerical and categorical data. To make our exploratory analysis much simpler, I would be dividing the columns into these two types.\n",
    "\n",
    "**Numerical Data:** Numerical data is that which can be counted, for example, weights, number of days in the week, etc. and can be further classified under two types, discrete and continuous data. \n",
    "\n",
    "**Categorical/Qualitative Data:** This on the other usually represents data that cannot be numerically counted. For example: gender, country, etc. There are also sub divided into nominal and ordinal data. \n",
    "\n"
   ]
  },
  {
   "cell_type": "markdown",
   "metadata": {
    "id": "YU_QQ7dkKG8-"
   },
   "source": [
    "Let's begin by importing`matplotlib.pyplot` and `seaborn`."
   ]
  },
  {
   "cell_type": "code",
   "execution_count": null,
   "metadata": {
    "id": "BHL4NunSKG8_"
   },
   "outputs": [],
   "source": [
    "import numpy as np\n",
    "import seaborn as sns\n",
    "import matplotlib\n",
    "import matplotlib.pyplot as plt\n",
    "%matplotlib inline\n",
    "\n",
    "sns.set_style('darkgrid')\n",
    "matplotlib.rcParams['font.size'] = 14\n",
    "matplotlib.rcParams['figure.figsize'] = (9, 5)\n",
    "matplotlib.rcParams['figure.facecolor'] = '#00000000'"
   ]
  },
  {
   "cell_type": "markdown",
   "metadata": {
    "id": "TQnRvVEpOIK7"
   },
   "source": [
    "**Numerical Data:** Looking at the data types, numerical are those which are not objects, they are either of the data type int, or float. Hence to isolate numerical columns, I would be filtering out columns witih data type 'O' (which represents objects in python)"
   ]
  },
  {
   "cell_type": "code",
   "execution_count": null,
   "metadata": {
    "id": "j_McXU1yOGh2"
   },
   "outputs": [],
   "source": [
    "num_data = [num for num in bank_churn_df.columns if bank_churn_df[num].dtypes != 'O'] \n",
    "#!= 'O' is used to pick out the columns whose datatypes are not objects. This leaves out all floats and integers, which are numerical values"
   ]
  },
  {
   "cell_type": "code",
   "execution_count": null,
   "metadata": {
    "colab": {
     "base_uri": "https://localhost:8080/"
    },
    "executionInfo": {
     "elapsed": 69,
     "status": "ok",
     "timestamp": 1645185499933,
     "user": {
      "displayName": "Solomon Ayanlakin",
      "photoUrl": "https://lh3.googleusercontent.com/a-/AOh14GiB_fxjvTIkhmNkjjvXiK_Bt-vZ7xIOpwCETDy55w=s64",
      "userId": "03035833066819512937"
     },
     "user_tz": -60
    },
    "id": "6xk5zLimKG9C",
    "outputId": "d6b5a7f6-401c-4c99-c435-877db697c70c"
   },
   "outputs": [
    {
     "data": {
      "text/plain": [
       "['Customer_Age',\n",
       " 'Dependent_count',\n",
       " 'Months_on_book',\n",
       " 'Total_Relationship_Count',\n",
       " 'Months_Inactive_12_mon',\n",
       " 'Contacts_Count_12_mon',\n",
       " 'Credit_Limit',\n",
       " 'Total_Revolving_Bal',\n",
       " 'Avg_Open_To_Buy',\n",
       " 'Total_Amt_Chng_Q4_Q1',\n",
       " 'Total_Trans_Amt',\n",
       " 'Total_Trans_Ct',\n",
       " 'Total_Ct_Chng_Q4_Q1',\n",
       " 'Avg_Utilization_Ratio']"
      ]
     },
     "execution_count": 140,
     "metadata": {},
     "output_type": "execute_result"
    }
   ],
   "source": [
    "num_data"
   ]
  },
  {
   "cell_type": "markdown",
   "metadata": {
    "id": "MYCn-AKdPGO8"
   },
   "source": [
    "**Categorical Data:** To isolate categorical columns, I would be filtering for columns with data type == 'O'."
   ]
  },
  {
   "cell_type": "code",
   "execution_count": null,
   "metadata": {
    "id": "WlgwCvUoKG9D"
   },
   "outputs": [],
   "source": [
    "cat_data = [cat for cat in bank_churn_df.columns if bank_churn_df[cat].dtypes == 'O'] "
   ]
  },
  {
   "cell_type": "code",
   "execution_count": null,
   "metadata": {
    "colab": {
     "base_uri": "https://localhost:8080/"
    },
    "executionInfo": {
     "elapsed": 65,
     "status": "ok",
     "timestamp": 1645185499937,
     "user": {
      "displayName": "Solomon Ayanlakin",
      "photoUrl": "https://lh3.googleusercontent.com/a-/AOh14GiB_fxjvTIkhmNkjjvXiK_Bt-vZ7xIOpwCETDy55w=s64",
      "userId": "03035833066819512937"
     },
     "user_tz": -60
    },
    "id": "Rj3uMzjvPdhi",
    "outputId": "0b5d7ef0-0635-4ec9-fb9f-e5201863ce6c"
   },
   "outputs": [
    {
     "data": {
      "text/plain": [
       "['Attrition_Flag',\n",
       " 'Gender',\n",
       " 'Education_Level',\n",
       " 'Marital_Status',\n",
       " 'Income_Category',\n",
       " 'Card_Category']"
      ]
     },
     "execution_count": 142,
     "metadata": {},
     "output_type": "execute_result"
    }
   ],
   "source": [
    "cat_data"
   ]
  },
  {
   "cell_type": "markdown",
   "metadata": {
    "id": "IGck9UJxKG9E"
   },
   "source": [
    "**Exploring Numerical Columns**"
   ]
  },
  {
   "cell_type": "code",
   "execution_count": null,
   "metadata": {
    "colab": {
     "base_uri": "https://localhost:8080/",
     "height": 364
    },
    "executionInfo": {
     "elapsed": 62,
     "status": "ok",
     "timestamp": 1645185499939,
     "user": {
      "displayName": "Solomon Ayanlakin",
      "photoUrl": "https://lh3.googleusercontent.com/a-/AOh14GiB_fxjvTIkhmNkjjvXiK_Bt-vZ7xIOpwCETDy55w=s64",
      "userId": "03035833066819512937"
     },
     "user_tz": -60
    },
    "id": "HQbkZkXiKG9G",
    "outputId": "fd4529c1-abaa-4c2b-894c-822b95010c06"
   },
   "outputs": [
    {
     "data": {
      "text/html": [
       "\n",
       "  <div id=\"df-fa7e4800-97aa-4a0a-8d97-b66b2a9b0209\">\n",
       "    <div class=\"colab-df-container\">\n",
       "      <div>\n",
       "<style scoped>\n",
       "    .dataframe tbody tr th:only-of-type {\n",
       "        vertical-align: middle;\n",
       "    }\n",
       "\n",
       "    .dataframe tbody tr th {\n",
       "        vertical-align: top;\n",
       "    }\n",
       "\n",
       "    .dataframe thead th {\n",
       "        text-align: right;\n",
       "    }\n",
       "</style>\n",
       "<table border=\"1\" class=\"dataframe\">\n",
       "  <thead>\n",
       "    <tr style=\"text-align: right;\">\n",
       "      <th></th>\n",
       "      <th>Customer_Age</th>\n",
       "      <th>Dependent_count</th>\n",
       "      <th>Months_on_book</th>\n",
       "      <th>Total_Relationship_Count</th>\n",
       "      <th>Months_Inactive_12_mon</th>\n",
       "      <th>Contacts_Count_12_mon</th>\n",
       "      <th>Credit_Limit</th>\n",
       "      <th>Total_Revolving_Bal</th>\n",
       "      <th>Avg_Open_To_Buy</th>\n",
       "      <th>Total_Amt_Chng_Q4_Q1</th>\n",
       "      <th>Total_Trans_Amt</th>\n",
       "      <th>Total_Trans_Ct</th>\n",
       "      <th>Total_Ct_Chng_Q4_Q1</th>\n",
       "      <th>Avg_Utilization_Ratio</th>\n",
       "    </tr>\n",
       "  </thead>\n",
       "  <tbody>\n",
       "    <tr>\n",
       "      <th>count</th>\n",
       "      <td>10127.00</td>\n",
       "      <td>10127.00</td>\n",
       "      <td>10127.00</td>\n",
       "      <td>10127.00</td>\n",
       "      <td>10127.00</td>\n",
       "      <td>10127.00</td>\n",
       "      <td>10127.00</td>\n",
       "      <td>10127.00</td>\n",
       "      <td>10127.00</td>\n",
       "      <td>10127.00</td>\n",
       "      <td>10127.00</td>\n",
       "      <td>10127.00</td>\n",
       "      <td>10127.00</td>\n",
       "      <td>10127.00</td>\n",
       "    </tr>\n",
       "    <tr>\n",
       "      <th>mean</th>\n",
       "      <td>46.33</td>\n",
       "      <td>2.35</td>\n",
       "      <td>35.93</td>\n",
       "      <td>3.81</td>\n",
       "      <td>2.34</td>\n",
       "      <td>2.46</td>\n",
       "      <td>8631.95</td>\n",
       "      <td>1162.81</td>\n",
       "      <td>7469.14</td>\n",
       "      <td>0.76</td>\n",
       "      <td>4404.09</td>\n",
       "      <td>64.86</td>\n",
       "      <td>0.71</td>\n",
       "      <td>0.27</td>\n",
       "    </tr>\n",
       "    <tr>\n",
       "      <th>std</th>\n",
       "      <td>8.02</td>\n",
       "      <td>1.30</td>\n",
       "      <td>7.99</td>\n",
       "      <td>1.55</td>\n",
       "      <td>1.01</td>\n",
       "      <td>1.11</td>\n",
       "      <td>9088.78</td>\n",
       "      <td>814.99</td>\n",
       "      <td>9090.69</td>\n",
       "      <td>0.22</td>\n",
       "      <td>3397.13</td>\n",
       "      <td>23.47</td>\n",
       "      <td>0.24</td>\n",
       "      <td>0.28</td>\n",
       "    </tr>\n",
       "    <tr>\n",
       "      <th>min</th>\n",
       "      <td>26.00</td>\n",
       "      <td>0.00</td>\n",
       "      <td>13.00</td>\n",
       "      <td>1.00</td>\n",
       "      <td>0.00</td>\n",
       "      <td>0.00</td>\n",
       "      <td>1438.30</td>\n",
       "      <td>0.00</td>\n",
       "      <td>3.00</td>\n",
       "      <td>0.00</td>\n",
       "      <td>510.00</td>\n",
       "      <td>10.00</td>\n",
       "      <td>0.00</td>\n",
       "      <td>0.00</td>\n",
       "    </tr>\n",
       "    <tr>\n",
       "      <th>25%</th>\n",
       "      <td>41.00</td>\n",
       "      <td>1.00</td>\n",
       "      <td>31.00</td>\n",
       "      <td>3.00</td>\n",
       "      <td>2.00</td>\n",
       "      <td>2.00</td>\n",
       "      <td>2555.00</td>\n",
       "      <td>359.00</td>\n",
       "      <td>1324.50</td>\n",
       "      <td>0.63</td>\n",
       "      <td>2155.50</td>\n",
       "      <td>45.00</td>\n",
       "      <td>0.58</td>\n",
       "      <td>0.02</td>\n",
       "    </tr>\n",
       "    <tr>\n",
       "      <th>50%</th>\n",
       "      <td>46.00</td>\n",
       "      <td>2.00</td>\n",
       "      <td>36.00</td>\n",
       "      <td>4.00</td>\n",
       "      <td>2.00</td>\n",
       "      <td>2.00</td>\n",
       "      <td>4549.00</td>\n",
       "      <td>1276.00</td>\n",
       "      <td>3474.00</td>\n",
       "      <td>0.74</td>\n",
       "      <td>3899.00</td>\n",
       "      <td>67.00</td>\n",
       "      <td>0.70</td>\n",
       "      <td>0.18</td>\n",
       "    </tr>\n",
       "    <tr>\n",
       "      <th>75%</th>\n",
       "      <td>52.00</td>\n",
       "      <td>3.00</td>\n",
       "      <td>40.00</td>\n",
       "      <td>5.00</td>\n",
       "      <td>3.00</td>\n",
       "      <td>3.00</td>\n",
       "      <td>11067.50</td>\n",
       "      <td>1784.00</td>\n",
       "      <td>9859.00</td>\n",
       "      <td>0.86</td>\n",
       "      <td>4741.00</td>\n",
       "      <td>81.00</td>\n",
       "      <td>0.82</td>\n",
       "      <td>0.50</td>\n",
       "    </tr>\n",
       "    <tr>\n",
       "      <th>max</th>\n",
       "      <td>73.00</td>\n",
       "      <td>5.00</td>\n",
       "      <td>56.00</td>\n",
       "      <td>6.00</td>\n",
       "      <td>6.00</td>\n",
       "      <td>6.00</td>\n",
       "      <td>34516.00</td>\n",
       "      <td>2517.00</td>\n",
       "      <td>34516.00</td>\n",
       "      <td>3.40</td>\n",
       "      <td>18484.00</td>\n",
       "      <td>139.00</td>\n",
       "      <td>3.71</td>\n",
       "      <td>1.00</td>\n",
       "    </tr>\n",
       "  </tbody>\n",
       "</table>\n",
       "</div>\n",
       "      <button class=\"colab-df-convert\" onclick=\"convertToInteractive('df-fa7e4800-97aa-4a0a-8d97-b66b2a9b0209')\"\n",
       "              title=\"Convert this dataframe to an interactive table.\"\n",
       "              style=\"display:none;\">\n",
       "        \n",
       "  <svg xmlns=\"http://www.w3.org/2000/svg\" height=\"24px\"viewBox=\"0 0 24 24\"\n",
       "       width=\"24px\">\n",
       "    <path d=\"M0 0h24v24H0V0z\" fill=\"none\"/>\n",
       "    <path d=\"M18.56 5.44l.94 2.06.94-2.06 2.06-.94-2.06-.94-.94-2.06-.94 2.06-2.06.94zm-11 1L8.5 8.5l.94-2.06 2.06-.94-2.06-.94L8.5 2.5l-.94 2.06-2.06.94zm10 10l.94 2.06.94-2.06 2.06-.94-2.06-.94-.94-2.06-.94 2.06-2.06.94z\"/><path d=\"M17.41 7.96l-1.37-1.37c-.4-.4-.92-.59-1.43-.59-.52 0-1.04.2-1.43.59L10.3 9.45l-7.72 7.72c-.78.78-.78 2.05 0 2.83L4 21.41c.39.39.9.59 1.41.59.51 0 1.02-.2 1.41-.59l7.78-7.78 2.81-2.81c.8-.78.8-2.07 0-2.86zM5.41 20L4 18.59l7.72-7.72 1.47 1.35L5.41 20z\"/>\n",
       "  </svg>\n",
       "      </button>\n",
       "      \n",
       "  <style>\n",
       "    .colab-df-container {\n",
       "      display:flex;\n",
       "      flex-wrap:wrap;\n",
       "      gap: 12px;\n",
       "    }\n",
       "\n",
       "    .colab-df-convert {\n",
       "      background-color: #E8F0FE;\n",
       "      border: none;\n",
       "      border-radius: 50%;\n",
       "      cursor: pointer;\n",
       "      display: none;\n",
       "      fill: #1967D2;\n",
       "      height: 32px;\n",
       "      padding: 0 0 0 0;\n",
       "      width: 32px;\n",
       "    }\n",
       "\n",
       "    .colab-df-convert:hover {\n",
       "      background-color: #E2EBFA;\n",
       "      box-shadow: 0px 1px 2px rgba(60, 64, 67, 0.3), 0px 1px 3px 1px rgba(60, 64, 67, 0.15);\n",
       "      fill: #174EA6;\n",
       "    }\n",
       "\n",
       "    [theme=dark] .colab-df-convert {\n",
       "      background-color: #3B4455;\n",
       "      fill: #D2E3FC;\n",
       "    }\n",
       "\n",
       "    [theme=dark] .colab-df-convert:hover {\n",
       "      background-color: #434B5C;\n",
       "      box-shadow: 0px 1px 3px 1px rgba(0, 0, 0, 0.15);\n",
       "      filter: drop-shadow(0px 1px 2px rgba(0, 0, 0, 0.3));\n",
       "      fill: #FFFFFF;\n",
       "    }\n",
       "  </style>\n",
       "\n",
       "      <script>\n",
       "        const buttonEl =\n",
       "          document.querySelector('#df-fa7e4800-97aa-4a0a-8d97-b66b2a9b0209 button.colab-df-convert');\n",
       "        buttonEl.style.display =\n",
       "          google.colab.kernel.accessAllowed ? 'block' : 'none';\n",
       "\n",
       "        async function convertToInteractive(key) {\n",
       "          const element = document.querySelector('#df-fa7e4800-97aa-4a0a-8d97-b66b2a9b0209');\n",
       "          const dataTable =\n",
       "            await google.colab.kernel.invokeFunction('convertToInteractive',\n",
       "                                                     [key], {});\n",
       "          if (!dataTable) return;\n",
       "\n",
       "          const docLinkHtml = 'Like what you see? Visit the ' +\n",
       "            '<a target=\"_blank\" href=https://colab.research.google.com/notebooks/data_table.ipynb>data table notebook</a>'\n",
       "            + ' to learn more about interactive tables.';\n",
       "          element.innerHTML = '';\n",
       "          dataTable['output_type'] = 'display_data';\n",
       "          await google.colab.output.renderOutput(dataTable, element);\n",
       "          const docLink = document.createElement('div');\n",
       "          docLink.innerHTML = docLinkHtml;\n",
       "          element.appendChild(docLink);\n",
       "        }\n",
       "      </script>\n",
       "    </div>\n",
       "  </div>\n",
       "  "
      ],
      "text/plain": [
       "       Customer_Age  ...  Avg_Utilization_Ratio\n",
       "count      10127.00  ...               10127.00\n",
       "mean          46.33  ...                   0.27\n",
       "std            8.02  ...                   0.28\n",
       "min           26.00  ...                   0.00\n",
       "25%           41.00  ...                   0.02\n",
       "50%           46.00  ...                   0.18\n",
       "75%           52.00  ...                   0.50\n",
       "max           73.00  ...                   1.00\n",
       "\n",
       "[8 rows x 14 columns]"
      ]
     },
     "execution_count": 143,
     "metadata": {},
     "output_type": "execute_result"
    }
   ],
   "source": [
    "#Basic Statistics on only numerical columns.\n",
    "round(bank_churn_df.describe(exclude = 'object'), 2)"
   ]
  },
  {
   "cell_type": "markdown",
   "metadata": {
    "id": "DbyOvmJE3mQd"
   },
   "source": [
    "**Exploring Categorical Columns**"
   ]
  },
  {
   "cell_type": "code",
   "execution_count": null,
   "metadata": {
    "colab": {
     "base_uri": "https://localhost:8080/",
     "height": 175
    },
    "executionInfo": {
     "elapsed": 61,
     "status": "ok",
     "timestamp": 1645185499940,
     "user": {
      "displayName": "Solomon Ayanlakin",
      "photoUrl": "https://lh3.googleusercontent.com/a-/AOh14GiB_fxjvTIkhmNkjjvXiK_Bt-vZ7xIOpwCETDy55w=s64",
      "userId": "03035833066819512937"
     },
     "user_tz": -60
    },
    "id": "9Un3oHyWKG9H",
    "outputId": "ab3c1fb9-4982-4646-87ed-11edf4284e6a"
   },
   "outputs": [
    {
     "data": {
      "text/html": [
       "\n",
       "  <div id=\"df-bd2a0682-2670-40c6-a132-70a18b0591ac\">\n",
       "    <div class=\"colab-df-container\">\n",
       "      <div>\n",
       "<style scoped>\n",
       "    .dataframe tbody tr th:only-of-type {\n",
       "        vertical-align: middle;\n",
       "    }\n",
       "\n",
       "    .dataframe tbody tr th {\n",
       "        vertical-align: top;\n",
       "    }\n",
       "\n",
       "    .dataframe thead th {\n",
       "        text-align: right;\n",
       "    }\n",
       "</style>\n",
       "<table border=\"1\" class=\"dataframe\">\n",
       "  <thead>\n",
       "    <tr style=\"text-align: right;\">\n",
       "      <th></th>\n",
       "      <th>Attrition_Flag</th>\n",
       "      <th>Gender</th>\n",
       "      <th>Education_Level</th>\n",
       "      <th>Marital_Status</th>\n",
       "      <th>Income_Category</th>\n",
       "      <th>Card_Category</th>\n",
       "    </tr>\n",
       "  </thead>\n",
       "  <tbody>\n",
       "    <tr>\n",
       "      <th>count</th>\n",
       "      <td>10127</td>\n",
       "      <td>10127</td>\n",
       "      <td>10127</td>\n",
       "      <td>10127</td>\n",
       "      <td>10127</td>\n",
       "      <td>10127</td>\n",
       "    </tr>\n",
       "    <tr>\n",
       "      <th>unique</th>\n",
       "      <td>2</td>\n",
       "      <td>2</td>\n",
       "      <td>7</td>\n",
       "      <td>4</td>\n",
       "      <td>6</td>\n",
       "      <td>4</td>\n",
       "    </tr>\n",
       "    <tr>\n",
       "      <th>top</th>\n",
       "      <td>Existing Customer</td>\n",
       "      <td>F</td>\n",
       "      <td>Graduate</td>\n",
       "      <td>Married</td>\n",
       "      <td>Less than $40K</td>\n",
       "      <td>Blue</td>\n",
       "    </tr>\n",
       "    <tr>\n",
       "      <th>freq</th>\n",
       "      <td>8500</td>\n",
       "      <td>5358</td>\n",
       "      <td>3128</td>\n",
       "      <td>4687</td>\n",
       "      <td>3561</td>\n",
       "      <td>9436</td>\n",
       "    </tr>\n",
       "  </tbody>\n",
       "</table>\n",
       "</div>\n",
       "      <button class=\"colab-df-convert\" onclick=\"convertToInteractive('df-bd2a0682-2670-40c6-a132-70a18b0591ac')\"\n",
       "              title=\"Convert this dataframe to an interactive table.\"\n",
       "              style=\"display:none;\">\n",
       "        \n",
       "  <svg xmlns=\"http://www.w3.org/2000/svg\" height=\"24px\"viewBox=\"0 0 24 24\"\n",
       "       width=\"24px\">\n",
       "    <path d=\"M0 0h24v24H0V0z\" fill=\"none\"/>\n",
       "    <path d=\"M18.56 5.44l.94 2.06.94-2.06 2.06-.94-2.06-.94-.94-2.06-.94 2.06-2.06.94zm-11 1L8.5 8.5l.94-2.06 2.06-.94-2.06-.94L8.5 2.5l-.94 2.06-2.06.94zm10 10l.94 2.06.94-2.06 2.06-.94-2.06-.94-.94-2.06-.94 2.06-2.06.94z\"/><path d=\"M17.41 7.96l-1.37-1.37c-.4-.4-.92-.59-1.43-.59-.52 0-1.04.2-1.43.59L10.3 9.45l-7.72 7.72c-.78.78-.78 2.05 0 2.83L4 21.41c.39.39.9.59 1.41.59.51 0 1.02-.2 1.41-.59l7.78-7.78 2.81-2.81c.8-.78.8-2.07 0-2.86zM5.41 20L4 18.59l7.72-7.72 1.47 1.35L5.41 20z\"/>\n",
       "  </svg>\n",
       "      </button>\n",
       "      \n",
       "  <style>\n",
       "    .colab-df-container {\n",
       "      display:flex;\n",
       "      flex-wrap:wrap;\n",
       "      gap: 12px;\n",
       "    }\n",
       "\n",
       "    .colab-df-convert {\n",
       "      background-color: #E8F0FE;\n",
       "      border: none;\n",
       "      border-radius: 50%;\n",
       "      cursor: pointer;\n",
       "      display: none;\n",
       "      fill: #1967D2;\n",
       "      height: 32px;\n",
       "      padding: 0 0 0 0;\n",
       "      width: 32px;\n",
       "    }\n",
       "\n",
       "    .colab-df-convert:hover {\n",
       "      background-color: #E2EBFA;\n",
       "      box-shadow: 0px 1px 2px rgba(60, 64, 67, 0.3), 0px 1px 3px 1px rgba(60, 64, 67, 0.15);\n",
       "      fill: #174EA6;\n",
       "    }\n",
       "\n",
       "    [theme=dark] .colab-df-convert {\n",
       "      background-color: #3B4455;\n",
       "      fill: #D2E3FC;\n",
       "    }\n",
       "\n",
       "    [theme=dark] .colab-df-convert:hover {\n",
       "      background-color: #434B5C;\n",
       "      box-shadow: 0px 1px 3px 1px rgba(0, 0, 0, 0.15);\n",
       "      filter: drop-shadow(0px 1px 2px rgba(0, 0, 0, 0.3));\n",
       "      fill: #FFFFFF;\n",
       "    }\n",
       "  </style>\n",
       "\n",
       "      <script>\n",
       "        const buttonEl =\n",
       "          document.querySelector('#df-bd2a0682-2670-40c6-a132-70a18b0591ac button.colab-df-convert');\n",
       "        buttonEl.style.display =\n",
       "          google.colab.kernel.accessAllowed ? 'block' : 'none';\n",
       "\n",
       "        async function convertToInteractive(key) {\n",
       "          const element = document.querySelector('#df-bd2a0682-2670-40c6-a132-70a18b0591ac');\n",
       "          const dataTable =\n",
       "            await google.colab.kernel.invokeFunction('convertToInteractive',\n",
       "                                                     [key], {});\n",
       "          if (!dataTable) return;\n",
       "\n",
       "          const docLinkHtml = 'Like what you see? Visit the ' +\n",
       "            '<a target=\"_blank\" href=https://colab.research.google.com/notebooks/data_table.ipynb>data table notebook</a>'\n",
       "            + ' to learn more about interactive tables.';\n",
       "          element.innerHTML = '';\n",
       "          dataTable['output_type'] = 'display_data';\n",
       "          await google.colab.output.renderOutput(dataTable, element);\n",
       "          const docLink = document.createElement('div');\n",
       "          docLink.innerHTML = docLinkHtml;\n",
       "          element.appendChild(docLink);\n",
       "        }\n",
       "      </script>\n",
       "    </div>\n",
       "  </div>\n",
       "  "
      ],
      "text/plain": [
       "           Attrition_Flag Gender  ... Income_Category Card_Category\n",
       "count               10127  10127  ...           10127         10127\n",
       "unique                  2      2  ...               6             4\n",
       "top     Existing Customer      F  ...  Less than $40K          Blue\n",
       "freq                 8500   5358  ...            3561          9436\n",
       "\n",
       "[4 rows x 6 columns]"
      ]
     },
     "execution_count": 144,
     "metadata": {},
     "output_type": "execute_result"
    }
   ],
   "source": [
    "#Basic Statistics on Categorical Columns\n",
    "round(bank_churn_df.describe(exclude = ['float', 'int64']), 2)"
   ]
  },
  {
   "cell_type": "markdown",
   "metadata": {
    "id": "Xy3vY-31KG9I"
   },
   "source": [
    "**Exploring the Attrition Column** - Attrition shows which customers have churned or not."
   ]
  },
  {
   "cell_type": "code",
   "execution_count": null,
   "metadata": {
    "colab": {
     "base_uri": "https://localhost:8080/"
    },
    "executionInfo": {
     "elapsed": 60,
     "status": "ok",
     "timestamp": 1645185499941,
     "user": {
      "displayName": "Solomon Ayanlakin",
      "photoUrl": "https://lh3.googleusercontent.com/a-/AOh14GiB_fxjvTIkhmNkjjvXiK_Bt-vZ7xIOpwCETDy55w=s64",
      "userId": "03035833066819512937"
     },
     "user_tz": -60
    },
    "id": "FRQBURXaS4X8",
    "outputId": "ce8fd636-8162-41b5-d15b-59406f5f2d1f"
   },
   "outputs": [
    {
     "data": {
      "text/plain": [
       "Existing Customer    8500\n",
       "Attrited Customer    1627\n",
       "Name: Attrition_Flag, dtype: int64"
      ]
     },
     "execution_count": 145,
     "metadata": {},
     "output_type": "execute_result"
    }
   ],
   "source": [
    "# Looking at a distinct count of the Attrition flag column.\n",
    "bank_churn_df['Attrition_Flag'].value_counts() "
   ]
  },
  {
   "cell_type": "code",
   "execution_count": null,
   "metadata": {
    "colab": {
     "base_uri": "https://localhost:8080/",
     "height": 416
    },
    "executionInfo": {
     "elapsed": 55,
     "status": "ok",
     "timestamp": 1645185499942,
     "user": {
      "displayName": "Solomon Ayanlakin",
      "photoUrl": "https://lh3.googleusercontent.com/a-/AOh14GiB_fxjvTIkhmNkjjvXiK_Bt-vZ7xIOpwCETDy55w=s64",
      "userId": "03035833066819512937"
     },
     "user_tz": -60
    },
    "id": "NULXUpFlFZme",
    "outputId": "d6ac2767-40e7-4b32-b0aa-4744f9836fec"
   },
   "outputs": [
    {
     "name": "stderr",
     "output_type": "stream",
     "text": [
      "/usr/local/lib/python3.7/dist-packages/ipykernel_launcher.py:4: MatplotlibDeprecationWarning: Using a string of single character colors as a color sequence is deprecated. Use an explicit list instead.\n",
      "  after removing the cwd from sys.path.\n",
      "No handles with labels found to put in legend.\n"
     ]
    },
    {
     "data": {
      "image/png": "[encoded data removed]",
      "text/plain": [
       "<Figure size 648x360 with 1 Axes>"
      ]
     },
     "metadata": {
      "needs_background": "light"
     },
     "output_type": "display_data"
    }
   ],
   "source": [
    "plt.bar(bank_churn_df.Attrition_Flag.unique(), \n",
    "        bank_churn_df['Attrition_Flag'].value_counts(), \n",
    "        color = 'rb', \n",
    "        edgecolor = 'k')\n",
    "# bank_churn_df.Attrition_Flag.unique() ### This line of code in the plt.bar() function was used as the x-axis of the plot. It picks out the Attition flag column and displays the unique values. \n",
    "# bank_churn_df['Attrition_Flag'].value_counts() ### This was to count the number of unique values in the Attrition Flag column, and was used as the values for the y-axis.\n",
    "\n",
    "# Styling\n",
    "plt.ylabel('Count of Customer Group') \n",
    "plt.title('Customer Groups')\n",
    "sns.set_style('whitegrid')\n",
    "plt.legend()\n",
    "# Annotating the Plot\n",
    "y_axis = bank_churn_df['Attrition_Flag'].value_counts()\n",
    "x_axis = bank_churn_df.Attrition_Flag.unique()\n",
    "for i in range(len(y_axis)):  \n",
    "    plt.annotate(str(y_axis[i]), xy=(x_axis[i],y_axis[i]), ha='center', va='bottom')"
   ]
  },
  {
   "cell_type": "markdown",
   "metadata": {
    "id": "lx0Om3wYKG9L"
   },
   "source": [
    "**Analyzing Customer Age**"
   ]
  },
  {
   "cell_type": "code",
   "execution_count": null,
   "metadata": {
    "id": "4hSH9BBEh6rO"
   },
   "outputs": [],
   "source": [
    "bank_churn_df['Age_bin'] = 0 # Creating a new column in the data frame and populating it with zero\n",
    "\n",
    "bank_churn_df.loc[(bank_churn_df.Customer_Age>25)&(bank_churn_df.Customer_Age<=35), 'Age_bin'] = 0\n",
    "bank_churn_df.loc[(bank_churn_df.Customer_Age>35)&(bank_churn_df.Customer_Age<=45), 'Age_bin'] = 1\n",
    "bank_churn_df.loc[(bank_churn_df.Customer_Age>45)&(bank_churn_df.Customer_Age<=55), 'Age_bin'] = 2\n",
    "bank_churn_df.loc[(bank_churn_df.Customer_Age>55)&(bank_churn_df.Customer_Age<=65), 'Age_bin'] = 3\n",
    "bank_churn_df.loc[bank_churn_df.Customer_Age>65, 'Age_bin'] = 4\n",
    "#bank_churn_df['Age_bin'] = bank_churn_df['Age_bin'].astype(int)\n"
   ]
  },
  {
   "cell_type": "code",
   "execution_count": null,
   "metadata": {
    "colab": {
     "base_uri": "https://localhost:8080/"
    },
    "executionInfo": {
     "elapsed": 910,
     "status": "ok",
     "timestamp": 1645185500804,
     "user": {
      "displayName": "Solomon Ayanlakin",
      "photoUrl": "https://lh3.googleusercontent.com/a-/AOh14GiB_fxjvTIkhmNkjjvXiK_Bt-vZ7xIOpwCETDy55w=s64",
      "userId": "03035833066819512937"
     },
     "user_tz": -60
    },
    "id": "bcQInIwIE6Lk",
    "outputId": "7a08a58f-939d-438c-e1eb-ae34e8d72b61"
   },
   "outputs": [
    {
     "data": {
      "text/plain": [
       "2    4135\n",
       "1    3742\n",
       "3    1321\n",
       "0     919\n",
       "4      10\n",
       "Name: Age_bin, dtype: int64"
      ]
     },
     "execution_count": 148,
     "metadata": {},
     "output_type": "execute_result"
    }
   ],
   "source": [
    "bank_churn_df['Age_bin'].value_counts()"
   ]
  },
  {
   "cell_type": "code",
   "execution_count": null,
   "metadata": {
    "colab": {
     "base_uri": "https://localhost:8080/"
    },
    "executionInfo": {
     "elapsed": 51,
     "status": "ok",
     "timestamp": 1645185500807,
     "user": {
      "displayName": "Solomon Ayanlakin",
      "photoUrl": "https://lh3.googleusercontent.com/a-/AOh14GiB_fxjvTIkhmNkjjvXiK_Bt-vZ7xIOpwCETDy55w=s64",
      "userId": "03035833066819512937"
     },
     "user_tz": -60
    },
    "id": "hj91N1OWdPNF",
    "outputId": "cd9462a1-4072-492a-9c19-712974e7603d"
   },
   "outputs": [
    {
     "data": {
      "text/plain": [
       "Int64Index([2, 1, 3, 0, 4], dtype='int64')"
      ]
     },
     "execution_count": 149,
     "metadata": {},
     "output_type": "execute_result"
    }
   ],
   "source": [
    "bank_churn_df['Age_bin'].value_counts().index"
   ]
  },
  {
   "cell_type": "code",
   "execution_count": null,
   "metadata": {
    "colab": {
     "base_uri": "https://localhost:8080/"
    },
    "executionInfo": {
     "elapsed": 42,
     "status": "ok",
     "timestamp": 1645185500808,
     "user": {
      "displayName": "Solomon Ayanlakin",
      "photoUrl": "https://lh3.googleusercontent.com/a-/AOh14GiB_fxjvTIkhmNkjjvXiK_Bt-vZ7xIOpwCETDy55w=s64",
      "userId": "03035833066819512937"
     },
     "user_tz": -60
    },
    "id": "olhnUvKkwtLD",
    "outputId": "0f0afc4d-842a-4940-dc49-d76702a1b5ff"
   },
   "outputs": [
    {
     "data": {
      "text/plain": [
       "[4135, 3742, 1321, 919, 10]"
      ]
     },
     "execution_count": 150,
     "metadata": {},
     "output_type": "execute_result"
    }
   ],
   "source": [
    "list(bank_churn_df['Age_bin'].value_counts())"
   ]
  },
  {
   "cell_type": "code",
   "execution_count": null,
   "metadata": {
    "id": "FqeDDKpRGVPK"
   },
   "outputs": [],
   "source": [
    "import seaborn as sns"
   ]
  },
  {
   "cell_type": "code",
   "execution_count": null,
   "metadata": {
    "colab": {
     "base_uri": "https://localhost:8080/",
     "height": 325
    },
    "executionInfo": {
     "elapsed": 34,
     "status": "ok",
     "timestamp": 1645185500810,
     "user": {
      "displayName": "Solomon Ayanlakin",
      "photoUrl": "https://lh3.googleusercontent.com/a-/AOh14GiB_fxjvTIkhmNkjjvXiK_Bt-vZ7xIOpwCETDy55w=s64",
      "userId": "03035833066819512937"
     },
     "user_tz": -60
    },
    "id": "hRZxZR7yGYyE",
    "outputId": "5671dc93-7c93-45d0-f01b-af21cab794d6"
   },
   "outputs": [
    {
     "data": {
      "image/png": "[encoded data removed]",
      "text/plain": [
       "<Figure size 648x360 with 1 Axes>"
      ]
     },
     "metadata": {},
     "output_type": "display_data"
    }
   ],
   "source": [
    "sns.barplot(x=bank_churn_df['Age_bin'].value_counts().index,y=bank_churn_df['Age_bin'].value_counts())\n",
    "\n",
    "xaxis = bank_churn_df['Age_bin'].value_counts().index\n",
    "yaxis = list(bank_churn_df['Age_bin'].value_counts())\n",
    "\n",
    "# Annotating the plot\n",
    "for i in range(len(yaxis)):  \n",
    "    plt.annotate(str(yaxis[i]), xy=(xaxis[i],yaxis[i]), ha='center', va='bottom')"
   ]
  },
  {
   "cell_type": "markdown",
   "metadata": {
    "id": "vXXt1kKNKG9N"
   },
   "source": [
    "### Income Category Analysis\n",
    "Looking at the income category by Gender"
   ]
  },
  {
   "cell_type": "code",
   "execution_count": null,
   "metadata": {
    "id": "mQwWOKzXDwy4"
   },
   "outputs": [],
   "source": [
    "bank_churn_df['Counter'] = 1"
   ]
  },
  {
   "cell_type": "code",
   "execution_count": null,
   "metadata": {
    "colab": {
     "base_uri": "https://localhost:8080/",
     "height": 359
    },
    "executionInfo": {
     "elapsed": 457,
     "status": "ok",
     "timestamp": 1645185501237,
     "user": {
      "displayName": "Solomon Ayanlakin",
      "photoUrl": "https://lh3.googleusercontent.com/a-/AOh14GiB_fxjvTIkhmNkjjvXiK_Bt-vZ7xIOpwCETDy55w=s64",
      "userId": "03035833066819512937"
     },
     "user_tz": -60
    },
    "id": "Jdr8rK8_Dktg",
    "outputId": "76348d7c-d67e-4eb8-f036-c7a2f8117cba"
   },
   "outputs": [
    {
     "data": {
      "text/plain": [
       "<matplotlib.axes._subplots.AxesSubplot at 0x7f44819e7050>"
      ]
     },
     "execution_count": 154,
     "metadata": {},
     "output_type": "execute_result"
    },
    {
     "data": {
      "image/png": "[encoded data removed]",
      "text/plain": [
       "<Figure size 648x360 with 1 Axes>"
      ]
     },
     "metadata": {},
     "output_type": "display_data"
    }
   ],
   "source": [
    "df = bank_churn_df[['Income_Category', 'Gender', 'Counter']]\n",
    "df\n",
    "\n",
    "# perform groupby\n",
    "df = df.groupby(['Income_Category', 'Gender']).agg(count=(\"Counter\", 'sum'))\n",
    "df = df.reset_index() \n",
    "\n",
    "# plot barplot\n",
    "sns.barplot(x=\"Income_Category\",\n",
    "           y=\"count\",\n",
    "           hue=\"Gender\",\n",
    "           data=df)"
   ]
  },
  {
   "cell_type": "markdown",
   "metadata": {
    "id": "qnjWJxChFXks"
   },
   "source": [
    "### **Analyzing Gender Distribution**"
   ]
  },
  {
   "cell_type": "code",
   "execution_count": null,
   "metadata": {
    "colab": {
     "base_uri": "https://localhost:8080/"
    },
    "executionInfo": {
     "elapsed": 28,
     "status": "ok",
     "timestamp": 1645185501238,
     "user": {
      "displayName": "Solomon Ayanlakin",
      "photoUrl": "https://lh3.googleusercontent.com/a-/AOh14GiB_fxjvTIkhmNkjjvXiK_Bt-vZ7xIOpwCETDy55w=s64",
      "userId": "03035833066819512937"
     },
     "user_tz": -60
    },
    "id": "OX-aExFVKG9P",
    "outputId": "953407f8-6f9b-4349-fff0-a72acdace785"
   },
   "outputs": [
    {
     "data": {
      "text/plain": [
       "M    4769\n",
       "F    5358\n",
       "Name: Gender, dtype: int64"
      ]
     },
     "execution_count": 155,
     "metadata": {},
     "output_type": "execute_result"
    }
   ],
   "source": [
    "bank_churn_df['Gender'].value_counts().sort_values(ascending = True)"
   ]
  },
  {
   "cell_type": "code",
   "execution_count": null,
   "metadata": {
    "colab": {
     "base_uri": "https://localhost:8080/"
    },
    "executionInfo": {
     "elapsed": 28,
     "status": "ok",
     "timestamp": 1645185501240,
     "user": {
      "displayName": "Solomon Ayanlakin",
      "photoUrl": "https://lh3.googleusercontent.com/a-/AOh14GiB_fxjvTIkhmNkjjvXiK_Bt-vZ7xIOpwCETDy55w=s64",
      "userId": "03035833066819512937"
     },
     "user_tz": -60
    },
    "id": "yinSio_EKURF",
    "outputId": "497c27e5-3bef-4c15-80f3-a141ef48c93b"
   },
   "outputs": [
    {
     "data": {
      "text/plain": [
       "array(['M', 'F'], dtype=object)"
      ]
     },
     "execution_count": 156,
     "metadata": {},
     "output_type": "execute_result"
    }
   ],
   "source": [
    "bank_churn_df['Gender'].unique()"
   ]
  },
  {
   "cell_type": "code",
   "execution_count": null,
   "metadata": {
    "colab": {
     "base_uri": "https://localhost:8080/",
     "height": 448
    },
    "executionInfo": {
     "elapsed": 25,
     "status": "ok",
     "timestamp": 1645185501242,
     "user": {
      "displayName": "Solomon Ayanlakin",
      "photoUrl": "https://lh3.googleusercontent.com/a-/AOh14GiB_fxjvTIkhmNkjjvXiK_Bt-vZ7xIOpwCETDy55w=s64",
      "userId": "03035833066819512937"
     },
     "user_tz": -60
    },
    "id": "Yw4PEz3IEf20",
    "outputId": "0190d3e3-4a69-4c27-a7d6-452a47375d50"
   },
   "outputs": [
    {
     "data": {
      "text/plain": [
       "Text(0.5, 1.0, 'Gender Distribution')"
      ]
     },
     "execution_count": 157,
     "metadata": {},
     "output_type": "execute_result"
    },
    {
     "data": {
      "image/png": "[encoded data removed]",
      "text/plain": [
       "<Figure size 504x504 with 1 Axes>"
      ]
     },
     "metadata": {},
     "output_type": "display_data"
    }
   ],
   "source": [
    "plt.figure(figsize=(7, 7))\n",
    "\n",
    "# Using the unique values in the 'Gender' column as the labels.\n",
    "label = bank_churn_df['Gender'].unique()\n",
    "data = bank_churn_df['Gender'].value_counts().sort_values(ascending = True)\n",
    "\n",
    "\n",
    "# Annotating the Pie chart to show the percentage as well as the values of each wedge\n",
    "def make_autopct(data):\n",
    "    def autopct(pct):\n",
    "        total = sum(data)\n",
    "        val = int(round(pct*total/100.0))\n",
    "        return '{p:.2f}%  ({v:d})'.format(p=pct,v=val)\n",
    "    return autopct\n",
    "\n",
    "# Specifying the width and color of the outline\n",
    "wp = { 'linewidth' : 1, \n",
    "      'edgecolor' : \"black\" \n",
    "      }\n",
    "\n",
    "plt.pie(data, \n",
    "        labels = label, \n",
    "        wedgeprops = wp,\n",
    "        autopct=make_autopct(data)\n",
    "        )\n",
    "\n",
    "# Legend and Title\n",
    "plt.legend()\n",
    "plt.title('Gender Distribution')"
   ]
  },
  {
   "cell_type": "markdown",
   "metadata": {
    "id": "Tw6Wka8AKG9Q"
   },
   "source": [
    "Let us save and upload our work to Jovian before continuing"
   ]
  },
  {
   "cell_type": "code",
   "execution_count": null,
   "metadata": {
    "colab": {
     "base_uri": "https://localhost:8080/",
     "height": 105
    },
    "executionInfo": {
     "elapsed": 1650,
     "status": "ok",
     "timestamp": 1645185502876,
     "user": {
      "displayName": "Solomon Ayanlakin",
      "photoUrl": "https://lh3.googleusercontent.com/a-/AOh14GiB_fxjvTIkhmNkjjvXiK_Bt-vZ7xIOpwCETDy55w=s64",
      "userId": "03035833066819512937"
     },
     "user_tz": -60
    },
    "id": "zVCMW1heOMmF",
    "outputId": "85f71364-384f-45fa-f78d-366aae0d09da"
   },
   "outputs": [
    {
     "name": "stdout",
     "output_type": "stream",
     "text": [
      "[jovian] Detected Colab notebook...\u001b[0m\n",
      "[jovian] Uploading colab notebook to Jovian...\u001b[0m\n"
     ]
    },
    {
     "name": "stderr",
     "output_type": "stream",
     "text": [
      "\u001b[31m[jovian] Error: Looks like the notebook is missing output cells, please save the notebook and try jovian.commit again.\u001b[0m\n"
     ]
    },
    {
     "name": "stdout",
     "output_type": "stream",
     "text": [
      "Committed successfully! https://jovian.ai/solomon-ayanlakin/credit-card-churn-analysis\n"
     ]
    },
    {
     "data": {
      "application/vnd.google.colaboratory.intrinsic+json": {
       "type": "string"
      },
      "text/plain": [
       "'https://jovian.ai/solomon-ayanlakin/credit-card-churn-analysis'"
      ]
     },
     "execution_count": 158,
     "metadata": {},
     "output_type": "execute_result"
    }
   ],
   "source": [
    "jovian.commit()"
   ]
  },
  {
   "cell_type": "markdown",
   "metadata": {
    "id": "TaOXeRhZmasS"
   },
   "source": [
    "### **Analyzing Education Level**"
   ]
  },
  {
   "cell_type": "code",
   "execution_count": null,
   "metadata": {
    "colab": {
     "base_uri": "https://localhost:8080/",
     "height": 359
    },
    "executionInfo": {
     "elapsed": 1173,
     "status": "ok",
     "timestamp": 1645185504037,
     "user": {
      "displayName": "Solomon Ayanlakin",
      "photoUrl": "https://lh3.googleusercontent.com/a-/AOh14GiB_fxjvTIkhmNkjjvXiK_Bt-vZ7xIOpwCETDy55w=s64",
      "userId": "03035833066819512937"
     },
     "user_tz": -60
    },
    "id": "oE6KoSO2MUBh",
    "outputId": "a82a0c5f-6b52-4de8-b047-5c4836557ea4"
   },
   "outputs": [
    {
     "data": {
      "text/plain": [
       "<matplotlib.axes._subplots.AxesSubplot at 0x7f44818ef150>"
      ]
     },
     "execution_count": 159,
     "metadata": {},
     "output_type": "execute_result"
    },
    {
     "data": {
      "image/png": "[encoded data removed]",
      "text/plain": [
       "<Figure size 648x360 with 1 Axes>"
      ]
     },
     "metadata": {},
     "output_type": "display_data"
    }
   ],
   "source": [
    "df = bank_churn_df[['Education_Level', 'Gender', 'Counter']]\n",
    "df\n",
    "\n",
    "# perform groupby\n",
    "df = df.groupby(['Education_Level', 'Gender']).agg(count=(\"Counter\", 'sum'))\n",
    "df = df.reset_index() \n",
    "\n",
    "# plot barplot\n",
    "sns.barplot(x=\"Education_Level\",\n",
    "           y=\"count\",\n",
    "           hue=\"Gender\",\n",
    "           data=df)"
   ]
  },
  {
   "cell_type": "markdown",
   "metadata": {
    "id": "XfCrU0xG-FkF"
   },
   "source": [
    "**Scatter Plot of Transaction Amount and Credit Limit**\n",
    "Looking at a scatter plof of Total transaction amount against the credit limit issued. \n",
    "\n",
    "We clearly see that males are generally given a higher credit limit"
   ]
  },
  {
   "cell_type": "code",
   "execution_count": null,
   "metadata": {
    "colab": {
     "base_uri": "https://localhost:8080/",
     "height": 379
    },
    "executionInfo": {
     "elapsed": 2644,
     "status": "ok",
     "timestamp": 1645185506665,
     "user": {
      "displayName": "Solomon Ayanlakin",
      "photoUrl": "https://lh3.googleusercontent.com/a-/AOh14GiB_fxjvTIkhmNkjjvXiK_Bt-vZ7xIOpwCETDy55w=s64",
      "userId": "03035833066819512937"
     },
     "user_tz": -60
    },
    "id": "MgZ-dlhVyLz8",
    "outputId": "10302795-be2a-444d-aa9f-3f5f398fd371"
   },
   "outputs": [
    {
     "data": {
      "text/plain": [
       "Text(0.5, 1.0, 'Credit Limit VS. Total Transaction Amount')"
      ]
     },
     "execution_count": 160,
     "metadata": {},
     "output_type": "execute_result"
    },
    {
     "data": {
      "image/png": "[encoded data removed]",
      "text/plain": [
       "<Figure size 648x360 with 1 Axes>"
      ]
     },
     "metadata": {},
     "output_type": "display_data"
    }
   ],
   "source": [
    "x=sns.scatterplot(x=\"Total_Trans_Amt\",\n",
    "                y=\"Credit_Limit\",\n",
    "                data=bank_churn_df,\n",
    "                hue= \"Gender\"\n",
    "                )\n",
    "\n",
    "x.set_title(\"Credit Limit VS. Total Transaction Amount\")"
   ]
  },
  {
   "cell_type": "code",
   "execution_count": null,
   "metadata": {
    "id": "GYr3xdn5KG9R"
   },
   "outputs": [],
   "source": [
    "import jovian"
   ]
  },
  {
   "cell_type": "code",
   "execution_count": null,
   "metadata": {
    "colab": {
     "base_uri": "https://localhost:8080/",
     "height": 105
    },
    "executionInfo": {
     "elapsed": 528,
     "status": "ok",
     "timestamp": 1645185507179,
     "user": {
      "displayName": "Solomon Ayanlakin",
      "photoUrl": "https://lh3.googleusercontent.com/a-/AOh14GiB_fxjvTIkhmNkjjvXiK_Bt-vZ7xIOpwCETDy55w=s64",
      "userId": "03035833066819512937"
     },
     "user_tz": -60
    },
    "id": "v9cAW7Q_KG9S",
    "outputId": "3da166db-ea6d-4606-d1a3-661319a7436b"
   },
   "outputs": [
    {
     "name": "stdout",
     "output_type": "stream",
     "text": [
      "[jovian] Detected Colab notebook...\u001b[0m\n",
      "[jovian] Uploading colab notebook to Jovian...\u001b[0m\n"
     ]
    },
    {
     "name": "stderr",
     "output_type": "stream",
     "text": [
      "\u001b[31m[jovian] Error: Looks like the notebook is missing output cells, please save the notebook and try jovian.commit again.\u001b[0m\n"
     ]
    },
    {
     "name": "stdout",
     "output_type": "stream",
     "text": [
      "Committed successfully! https://jovian.ai/solomon-ayanlakin/credit-card-churn-analysis\n"
     ]
    },
    {
     "data": {
      "application/vnd.google.colaboratory.intrinsic+json": {
       "type": "string"
      },
      "text/plain": [
       "'https://jovian.ai/solomon-ayanlakin/credit-card-churn-analysis'"
      ]
     },
     "execution_count": 162,
     "metadata": {},
     "output_type": "execute_result"
    }
   ],
   "source": [
    "jovian.commit()"
   ]
  },
  {
   "cell_type": "markdown",
   "metadata": {
    "id": "cD4XrMSgKG9U"
   },
   "source": [
    "## Asking and Answering Questions\n",
    "\n"
   ]
  },
  {
   "cell_type": "markdown",
   "metadata": {
    "id": "epd4Xj_8KG9X"
   },
   "source": [
    "#### Q1: Who are the top 10 customers with the highest credit limit.\n",
    "\n"
   ]
  },
  {
   "cell_type": "code",
   "execution_count": 232,
   "metadata": {
    "colab": {
     "base_uri": "https://localhost:8080/",
     "height": 601
    },
    "executionInfo": {
     "elapsed": 409,
     "status": "ok",
     "timestamp": 1645190264025,
     "user": {
      "displayName": "Solomon Ayanlakin",
      "photoUrl": "https://lh3.googleusercontent.com/a-/AOh14GiB_fxjvTIkhmNkjjvXiK_Bt-vZ7xIOpwCETDy55w=s64",
      "userId": "03035833066819512937"
     },
     "user_tz": -60
    },
    "id": "HQ7l619PKG9Z",
    "outputId": "57edc30a-a9a6-4c72-8e69-b381d2a36e45"
   },
   "outputs": [
    {
     "data": {
      "text/html": [
       "\n",
       "  <div id=\"df-affc9945-a848-440d-977d-4d58ea150df6\">\n",
       "    <div class=\"colab-df-container\">\n",
       "      <div>\n",
       "<style scoped>\n",
       "    .dataframe tbody tr th:only-of-type {\n",
       "        vertical-align: middle;\n",
       "    }\n",
       "\n",
       "    .dataframe tbody tr th {\n",
       "        vertical-align: top;\n",
       "    }\n",
       "\n",
       "    .dataframe thead th {\n",
       "        text-align: right;\n",
       "    }\n",
       "</style>\n",
       "<table border=\"1\" class=\"dataframe\">\n",
       "  <thead>\n",
       "    <tr style=\"text-align: right;\">\n",
       "      <th></th>\n",
       "      <th>Attrition_Flag</th>\n",
       "      <th>Customer_Age</th>\n",
       "      <th>Gender</th>\n",
       "      <th>Dependent_count</th>\n",
       "      <th>Education_Level</th>\n",
       "      <th>Marital_Status</th>\n",
       "      <th>Income_Category</th>\n",
       "      <th>Card_Category</th>\n",
       "      <th>Months_on_book</th>\n",
       "      <th>Total_Relationship_Count</th>\n",
       "      <th>Months_Inactive_12_mon</th>\n",
       "      <th>Contacts_Count_12_mon</th>\n",
       "      <th>Credit_Limit</th>\n",
       "      <th>Total_Revolving_Bal</th>\n",
       "      <th>Avg_Open_To_Buy</th>\n",
       "      <th>Total_Amt_Chng_Q4_Q1</th>\n",
       "      <th>Total_Trans_Amt</th>\n",
       "      <th>Total_Trans_Ct</th>\n",
       "      <th>Total_Ct_Chng_Q4_Q1</th>\n",
       "      <th>Avg_Utilization_Ratio</th>\n",
       "      <th>Age_bin</th>\n",
       "      <th>Counter</th>\n",
       "    </tr>\n",
       "  </thead>\n",
       "  <tbody>\n",
       "    <tr>\n",
       "      <th>7032</th>\n",
       "      <td>Existing Customer</td>\n",
       "      <td>45</td>\n",
       "      <td>M</td>\n",
       "      <td>3</td>\n",
       "      <td>Graduate</td>\n",
       "      <td>Single</td>\n",
       "      <td>$60K - $80K</td>\n",
       "      <td>Silver</td>\n",
       "      <td>34</td>\n",
       "      <td>5</td>\n",
       "      <td>1</td>\n",
       "      <td>1</td>\n",
       "      <td>34516.0</td>\n",
       "      <td>1664</td>\n",
       "      <td>32852.0</td>\n",
       "      <td>0.730</td>\n",
       "      <td>4912</td>\n",
       "      <td>80</td>\n",
       "      <td>0.739</td>\n",
       "      <td>0.048</td>\n",
       "      <td>1</td>\n",
       "      <td>1</td>\n",
       "    </tr>\n",
       "    <tr>\n",
       "      <th>6411</th>\n",
       "      <td>Attrited Customer</td>\n",
       "      <td>44</td>\n",
       "      <td>F</td>\n",
       "      <td>2</td>\n",
       "      <td>High School</td>\n",
       "      <td>Unknown</td>\n",
       "      <td>Unknown</td>\n",
       "      <td>Gold</td>\n",
       "      <td>35</td>\n",
       "      <td>3</td>\n",
       "      <td>3</td>\n",
       "      <td>3</td>\n",
       "      <td>34516.0</td>\n",
       "      <td>0</td>\n",
       "      <td>34516.0</td>\n",
       "      <td>0.767</td>\n",
       "      <td>2227</td>\n",
       "      <td>44</td>\n",
       "      <td>0.630</td>\n",
       "      <td>0.000</td>\n",
       "      <td>1</td>\n",
       "      <td>1</td>\n",
       "    </tr>\n",
       "    <tr>\n",
       "      <th>1437</th>\n",
       "      <td>Existing Customer</td>\n",
       "      <td>35</td>\n",
       "      <td>M</td>\n",
       "      <td>4</td>\n",
       "      <td>Graduate</td>\n",
       "      <td>Married</td>\n",
       "      <td>$120K +</td>\n",
       "      <td>Blue</td>\n",
       "      <td>30</td>\n",
       "      <td>4</td>\n",
       "      <td>3</td>\n",
       "      <td>4</td>\n",
       "      <td>34516.0</td>\n",
       "      <td>1018</td>\n",
       "      <td>33498.0</td>\n",
       "      <td>1.129</td>\n",
       "      <td>2350</td>\n",
       "      <td>55</td>\n",
       "      <td>0.774</td>\n",
       "      <td>0.029</td>\n",
       "      <td>0</td>\n",
       "      <td>1</td>\n",
       "    </tr>\n",
       "    <tr>\n",
       "      <th>9474</th>\n",
       "      <td>Attrited Customer</td>\n",
       "      <td>50</td>\n",
       "      <td>M</td>\n",
       "      <td>1</td>\n",
       "      <td>Graduate</td>\n",
       "      <td>Single</td>\n",
       "      <td>$80K - $120K</td>\n",
       "      <td>Silver</td>\n",
       "      <td>43</td>\n",
       "      <td>6</td>\n",
       "      <td>3</td>\n",
       "      <td>3</td>\n",
       "      <td>34516.0</td>\n",
       "      <td>432</td>\n",
       "      <td>34084.0</td>\n",
       "      <td>0.807</td>\n",
       "      <td>9045</td>\n",
       "      <td>72</td>\n",
       "      <td>1.000</td>\n",
       "      <td>0.013</td>\n",
       "      <td>2</td>\n",
       "      <td>1</td>\n",
       "    </tr>\n",
       "    <tr>\n",
       "      <th>9473</th>\n",
       "      <td>Attrited Customer</td>\n",
       "      <td>55</td>\n",
       "      <td>F</td>\n",
       "      <td>2</td>\n",
       "      <td>Unknown</td>\n",
       "      <td>Single</td>\n",
       "      <td>Unknown</td>\n",
       "      <td>Silver</td>\n",
       "      <td>37</td>\n",
       "      <td>2</td>\n",
       "      <td>2</td>\n",
       "      <td>3</td>\n",
       "      <td>34516.0</td>\n",
       "      <td>1783</td>\n",
       "      <td>32733.0</td>\n",
       "      <td>0.821</td>\n",
       "      <td>8472</td>\n",
       "      <td>80</td>\n",
       "      <td>0.739</td>\n",
       "      <td>0.052</td>\n",
       "      <td>2</td>\n",
       "      <td>1</td>\n",
       "    </tr>\n",
       "    <tr>\n",
       "      <th>9471</th>\n",
       "      <td>Attrited Customer</td>\n",
       "      <td>40</td>\n",
       "      <td>M</td>\n",
       "      <td>4</td>\n",
       "      <td>Uneducated</td>\n",
       "      <td>Single</td>\n",
       "      <td>$80K - $120K</td>\n",
       "      <td>Blue</td>\n",
       "      <td>36</td>\n",
       "      <td>6</td>\n",
       "      <td>3</td>\n",
       "      <td>2</td>\n",
       "      <td>34516.0</td>\n",
       "      <td>572</td>\n",
       "      <td>33944.0</td>\n",
       "      <td>1.050</td>\n",
       "      <td>8659</td>\n",
       "      <td>81</td>\n",
       "      <td>1.077</td>\n",
       "      <td>0.017</td>\n",
       "      <td>1</td>\n",
       "      <td>1</td>\n",
       "    </tr>\n",
       "    <tr>\n",
       "      <th>6408</th>\n",
       "      <td>Existing Customer</td>\n",
       "      <td>53</td>\n",
       "      <td>M</td>\n",
       "      <td>4</td>\n",
       "      <td>College</td>\n",
       "      <td>Single</td>\n",
       "      <td>$80K - $120K</td>\n",
       "      <td>Silver</td>\n",
       "      <td>48</td>\n",
       "      <td>5</td>\n",
       "      <td>1</td>\n",
       "      <td>2</td>\n",
       "      <td>34516.0</td>\n",
       "      <td>800</td>\n",
       "      <td>33716.0</td>\n",
       "      <td>0.804</td>\n",
       "      <td>3819</td>\n",
       "      <td>72</td>\n",
       "      <td>0.600</td>\n",
       "      <td>0.023</td>\n",
       "      <td>2</td>\n",
       "      <td>1</td>\n",
       "    </tr>\n",
       "    <tr>\n",
       "      <th>480</th>\n",
       "      <td>Existing Customer</td>\n",
       "      <td>46</td>\n",
       "      <td>M</td>\n",
       "      <td>2</td>\n",
       "      <td>Uneducated</td>\n",
       "      <td>Divorced</td>\n",
       "      <td>$80K - $120K</td>\n",
       "      <td>Blue</td>\n",
       "      <td>36</td>\n",
       "      <td>6</td>\n",
       "      <td>3</td>\n",
       "      <td>3</td>\n",
       "      <td>34516.0</td>\n",
       "      <td>1597</td>\n",
       "      <td>32919.0</td>\n",
       "      <td>0.858</td>\n",
       "      <td>1628</td>\n",
       "      <td>51</td>\n",
       "      <td>1.217</td>\n",
       "      <td>0.046</td>\n",
       "      <td>2</td>\n",
       "      <td>1</td>\n",
       "    </tr>\n",
       "    <tr>\n",
       "      <th>9463</th>\n",
       "      <td>Existing Customer</td>\n",
       "      <td>31</td>\n",
       "      <td>M</td>\n",
       "      <td>0</td>\n",
       "      <td>Graduate</td>\n",
       "      <td>Divorced</td>\n",
       "      <td>$80K - $120K</td>\n",
       "      <td>Silver</td>\n",
       "      <td>19</td>\n",
       "      <td>1</td>\n",
       "      <td>3</td>\n",
       "      <td>3</td>\n",
       "      <td>34516.0</td>\n",
       "      <td>1984</td>\n",
       "      <td>32532.0</td>\n",
       "      <td>0.757</td>\n",
       "      <td>14969</td>\n",
       "      <td>96</td>\n",
       "      <td>0.811</td>\n",
       "      <td>0.057</td>\n",
       "      <td>0</td>\n",
       "      <td>1</td>\n",
       "    </tr>\n",
       "    <tr>\n",
       "      <th>9462</th>\n",
       "      <td>Existing Customer</td>\n",
       "      <td>48</td>\n",
       "      <td>M</td>\n",
       "      <td>3</td>\n",
       "      <td>Unknown</td>\n",
       "      <td>Unknown</td>\n",
       "      <td>$80K - $120K</td>\n",
       "      <td>Platinum</td>\n",
       "      <td>40</td>\n",
       "      <td>1</td>\n",
       "      <td>2</td>\n",
       "      <td>3</td>\n",
       "      <td>34516.0</td>\n",
       "      <td>1723</td>\n",
       "      <td>32793.0</td>\n",
       "      <td>0.628</td>\n",
       "      <td>13853</td>\n",
       "      <td>98</td>\n",
       "      <td>0.782</td>\n",
       "      <td>0.050</td>\n",
       "      <td>2</td>\n",
       "      <td>1</td>\n",
       "    </tr>\n",
       "  </tbody>\n",
       "</table>\n",
       "</div>\n",
       "      <button class=\"colab-df-convert\" onclick=\"convertToInteractive('df-affc9945-a848-440d-977d-4d58ea150df6')\"\n",
       "              title=\"Convert this dataframe to an interactive table.\"\n",
       "              style=\"display:none;\">\n",
       "        \n",
       "  <svg xmlns=\"http://www.w3.org/2000/svg\" height=\"24px\"viewBox=\"0 0 24 24\"\n",
       "       width=\"24px\">\n",
       "    <path d=\"M0 0h24v24H0V0z\" fill=\"none\"/>\n",
       "    <path d=\"M18.56 5.44l.94 2.06.94-2.06 2.06-.94-2.06-.94-.94-2.06-.94 2.06-2.06.94zm-11 1L8.5 8.5l.94-2.06 2.06-.94-2.06-.94L8.5 2.5l-.94 2.06-2.06.94zm10 10l.94 2.06.94-2.06 2.06-.94-2.06-.94-.94-2.06-.94 2.06-2.06.94z\"/><path d=\"M17.41 7.96l-1.37-1.37c-.4-.4-.92-.59-1.43-.59-.52 0-1.04.2-1.43.59L10.3 9.45l-7.72 7.72c-.78.78-.78 2.05 0 2.83L4 21.41c.39.39.9.59 1.41.59.51 0 1.02-.2 1.41-.59l7.78-7.78 2.81-2.81c.8-.78.8-2.07 0-2.86zM5.41 20L4 18.59l7.72-7.72 1.47 1.35L5.41 20z\"/>\n",
       "  </svg>\n",
       "      </button>\n",
       "      \n",
       "  <style>\n",
       "    .colab-df-container {\n",
       "      display:flex;\n",
       "      flex-wrap:wrap;\n",
       "      gap: 12px;\n",
       "    }\n",
       "\n",
       "    .colab-df-convert {\n",
       "      background-color: #E8F0FE;\n",
       "      border: none;\n",
       "      border-radius: 50%;\n",
       "      cursor: pointer;\n",
       "      display: none;\n",
       "      fill: #1967D2;\n",
       "      height: 32px;\n",
       "      padding: 0 0 0 0;\n",
       "      width: 32px;\n",
       "    }\n",
       "\n",
       "    .colab-df-convert:hover {\n",
       "      background-color: #E2EBFA;\n",
       "      box-shadow: 0px 1px 2px rgba(60, 64, 67, 0.3), 0px 1px 3px 1px rgba(60, 64, 67, 0.15);\n",
       "      fill: #174EA6;\n",
       "    }\n",
       "\n",
       "    [theme=dark] .colab-df-convert {\n",
       "      background-color: #3B4455;\n",
       "      fill: #D2E3FC;\n",
       "    }\n",
       "\n",
       "    [theme=dark] .colab-df-convert:hover {\n",
       "      background-color: #434B5C;\n",
       "      box-shadow: 0px 1px 3px 1px rgba(0, 0, 0, 0.15);\n",
       "      filter: drop-shadow(0px 1px 2px rgba(0, 0, 0, 0.3));\n",
       "      fill: #FFFFFF;\n",
       "    }\n",
       "  </style>\n",
       "\n",
       "      <script>\n",
       "        const buttonEl =\n",
       "          document.querySelector('#df-affc9945-a848-440d-977d-4d58ea150df6 button.colab-df-convert');\n",
       "        buttonEl.style.display =\n",
       "          google.colab.kernel.accessAllowed ? 'block' : 'none';\n",
       "\n",
       "        async function convertToInteractive(key) {\n",
       "          const element = document.querySelector('#df-affc9945-a848-440d-977d-4d58ea150df6');\n",
       "          const dataTable =\n",
       "            await google.colab.kernel.invokeFunction('convertToInteractive',\n",
       "                                                     [key], {});\n",
       "          if (!dataTable) return;\n",
       "\n",
       "          const docLinkHtml = 'Like what you see? Visit the ' +\n",
       "            '<a target=\"_blank\" href=https://colab.research.google.com/notebooks/data_table.ipynb>data table notebook</a>'\n",
       "            + ' to learn more about interactive tables.';\n",
       "          element.innerHTML = '';\n",
       "          dataTable['output_type'] = 'display_data';\n",
       "          await google.colab.output.renderOutput(dataTable, element);\n",
       "          const docLink = document.createElement('div');\n",
       "          docLink.innerHTML = docLinkHtml;\n",
       "          element.appendChild(docLink);\n",
       "        }\n",
       "      </script>\n",
       "    </div>\n",
       "  </div>\n",
       "  "
      ],
      "text/plain": [
       "         Attrition_Flag  Customer_Age  ... Age_bin  Counter\n",
       "7032  Existing Customer            45  ...       1        1\n",
       "6411  Attrited Customer            44  ...       1        1\n",
       "1437  Existing Customer            35  ...       0        1\n",
       "9474  Attrited Customer            50  ...       2        1\n",
       "9473  Attrited Customer            55  ...       2        1\n",
       "9471  Attrited Customer            40  ...       1        1\n",
       "6408  Existing Customer            53  ...       2        1\n",
       "480   Existing Customer            46  ...       2        1\n",
       "9463  Existing Customer            31  ...       0        1\n",
       "9462  Existing Customer            48  ...       2        1\n",
       "\n",
       "[10 rows x 22 columns]"
      ]
     },
     "execution_count": 232,
     "metadata": {},
     "output_type": "execute_result"
    }
   ],
   "source": [
    "bank_churn_df.sort_values([\"Credit_Limit\"], ascending=False).iloc[0:10, :]"
   ]
  },
  {
   "cell_type": "markdown",
   "metadata": {
    "id": "c9ksiau7KG9b"
   },
   "source": [
    "#### Q2: What type of credit card do Men use the most?\n",
    "\n",
    "From analysis below, we easily see some trends:\n",
    "\n",
    "1.   Both men and women have a preference for the Blue cards \n",
    "2.   Only the blue card category have more female holders than males."
   ]
  },
  {
   "cell_type": "code",
   "execution_count": null,
   "metadata": {
    "colab": {
     "base_uri": "https://localhost:8080/",
     "height": 332
    },
    "executionInfo": {
     "elapsed": 17,
     "status": "ok",
     "timestamp": 1645185507673,
     "user": {
      "displayName": "Solomon Ayanlakin",
      "photoUrl": "https://lh3.googleusercontent.com/a-/AOh14GiB_fxjvTIkhmNkjjvXiK_Bt-vZ7xIOpwCETDy55w=s64",
      "userId": "03035833066819512937"
     },
     "user_tz": -60
    },
    "id": "Qx0kQmRMCgPL",
    "outputId": "d5bd60af-7730-49c8-843d-0290a61f7877"
   },
   "outputs": [
    {
     "data": {
      "text/html": [
       "\n",
       "  <div id=\"df-e6420e1e-9562-45af-83c8-20f3bf19e022\">\n",
       "    <div class=\"colab-df-container\">\n",
       "      <div>\n",
       "<style scoped>\n",
       "    .dataframe tbody tr th:only-of-type {\n",
       "        vertical-align: middle;\n",
       "    }\n",
       "\n",
       "    .dataframe tbody tr th {\n",
       "        vertical-align: top;\n",
       "    }\n",
       "\n",
       "    .dataframe thead th {\n",
       "        text-align: right;\n",
       "    }\n",
       "</style>\n",
       "<table border=\"1\" class=\"dataframe\">\n",
       "  <thead>\n",
       "    <tr style=\"text-align: right;\">\n",
       "      <th></th>\n",
       "      <th></th>\n",
       "      <th>count</th>\n",
       "    </tr>\n",
       "    <tr>\n",
       "      <th>Card_Category</th>\n",
       "      <th>Gender</th>\n",
       "      <th></th>\n",
       "    </tr>\n",
       "  </thead>\n",
       "  <tbody>\n",
       "    <tr>\n",
       "      <th rowspan=\"2\" valign=\"top\">Blue</th>\n",
       "      <th>F</th>\n",
       "      <td>5101</td>\n",
       "    </tr>\n",
       "    <tr>\n",
       "      <th>M</th>\n",
       "      <td>4335</td>\n",
       "    </tr>\n",
       "    <tr>\n",
       "      <th rowspan=\"2\" valign=\"top\">Gold</th>\n",
       "      <th>F</th>\n",
       "      <td>38</td>\n",
       "    </tr>\n",
       "    <tr>\n",
       "      <th>M</th>\n",
       "      <td>78</td>\n",
       "    </tr>\n",
       "    <tr>\n",
       "      <th rowspan=\"2\" valign=\"top\">Platinum</th>\n",
       "      <th>F</th>\n",
       "      <td>9</td>\n",
       "    </tr>\n",
       "    <tr>\n",
       "      <th>M</th>\n",
       "      <td>11</td>\n",
       "    </tr>\n",
       "    <tr>\n",
       "      <th rowspan=\"2\" valign=\"top\">Silver</th>\n",
       "      <th>F</th>\n",
       "      <td>210</td>\n",
       "    </tr>\n",
       "    <tr>\n",
       "      <th>M</th>\n",
       "      <td>345</td>\n",
       "    </tr>\n",
       "  </tbody>\n",
       "</table>\n",
       "</div>\n",
       "      <button class=\"colab-df-convert\" onclick=\"convertToInteractive('df-e6420e1e-9562-45af-83c8-20f3bf19e022')\"\n",
       "              title=\"Convert this dataframe to an interactive table.\"\n",
       "              style=\"display:none;\">\n",
       "        \n",
       "  <svg xmlns=\"http://www.w3.org/2000/svg\" height=\"24px\"viewBox=\"0 0 24 24\"\n",
       "       width=\"24px\">\n",
       "    <path d=\"M0 0h24v24H0V0z\" fill=\"none\"/>\n",
       "    <path d=\"M18.56 5.44l.94 2.06.94-2.06 2.06-.94-2.06-.94-.94-2.06-.94 2.06-2.06.94zm-11 1L8.5 8.5l.94-2.06 2.06-.94-2.06-.94L8.5 2.5l-.94 2.06-2.06.94zm10 10l.94 2.06.94-2.06 2.06-.94-2.06-.94-.94-2.06-.94 2.06-2.06.94z\"/><path d=\"M17.41 7.96l-1.37-1.37c-.4-.4-.92-.59-1.43-.59-.52 0-1.04.2-1.43.59L10.3 9.45l-7.72 7.72c-.78.78-.78 2.05 0 2.83L4 21.41c.39.39.9.59 1.41.59.51 0 1.02-.2 1.41-.59l7.78-7.78 2.81-2.81c.8-.78.8-2.07 0-2.86zM5.41 20L4 18.59l7.72-7.72 1.47 1.35L5.41 20z\"/>\n",
       "  </svg>\n",
       "      </button>\n",
       "      \n",
       "  <style>\n",
       "    .colab-df-container {\n",
       "      display:flex;\n",
       "      flex-wrap:wrap;\n",
       "      gap: 12px;\n",
       "    }\n",
       "\n",
       "    .colab-df-convert {\n",
       "      background-color: #E8F0FE;\n",
       "      border: none;\n",
       "      border-radius: 50%;\n",
       "      cursor: pointer;\n",
       "      display: none;\n",
       "      fill: #1967D2;\n",
       "      height: 32px;\n",
       "      padding: 0 0 0 0;\n",
       "      width: 32px;\n",
       "    }\n",
       "\n",
       "    .colab-df-convert:hover {\n",
       "      background-color: #E2EBFA;\n",
       "      box-shadow: 0px 1px 2px rgba(60, 64, 67, 0.3), 0px 1px 3px 1px rgba(60, 64, 67, 0.15);\n",
       "      fill: #174EA6;\n",
       "    }\n",
       "\n",
       "    [theme=dark] .colab-df-convert {\n",
       "      background-color: #3B4455;\n",
       "      fill: #D2E3FC;\n",
       "    }\n",
       "\n",
       "    [theme=dark] .colab-df-convert:hover {\n",
       "      background-color: #434B5C;\n",
       "      box-shadow: 0px 1px 3px 1px rgba(0, 0, 0, 0.15);\n",
       "      filter: drop-shadow(0px 1px 2px rgba(0, 0, 0, 0.3));\n",
       "      fill: #FFFFFF;\n",
       "    }\n",
       "  </style>\n",
       "\n",
       "      <script>\n",
       "        const buttonEl =\n",
       "          document.querySelector('#df-e6420e1e-9562-45af-83c8-20f3bf19e022 button.colab-df-convert');\n",
       "        buttonEl.style.display =\n",
       "          google.colab.kernel.accessAllowed ? 'block' : 'none';\n",
       "\n",
       "        async function convertToInteractive(key) {\n",
       "          const element = document.querySelector('#df-e6420e1e-9562-45af-83c8-20f3bf19e022');\n",
       "          const dataTable =\n",
       "            await google.colab.kernel.invokeFunction('convertToInteractive',\n",
       "                                                     [key], {});\n",
       "          if (!dataTable) return;\n",
       "\n",
       "          const docLinkHtml = 'Like what you see? Visit the ' +\n",
       "            '<a target=\"_blank\" href=https://colab.research.google.com/notebooks/data_table.ipynb>data table notebook</a>'\n",
       "            + ' to learn more about interactive tables.';\n",
       "          element.innerHTML = '';\n",
       "          dataTable['output_type'] = 'display_data';\n",
       "          await google.colab.output.renderOutput(dataTable, element);\n",
       "          const docLink = document.createElement('div');\n",
       "          docLink.innerHTML = docLinkHtml;\n",
       "          element.appendChild(docLink);\n",
       "        }\n",
       "      </script>\n",
       "    </div>\n",
       "  </div>\n",
       "  "
      ],
      "text/plain": [
       "                      count\n",
       "Card_Category Gender       \n",
       "Blue          F        5101\n",
       "              M        4335\n",
       "Gold          F          38\n",
       "              M          78\n",
       "Platinum      F           9\n",
       "              M          11\n",
       "Silver        F         210\n",
       "              M         345"
      ]
     },
     "execution_count": 164,
     "metadata": {},
     "output_type": "execute_result"
    }
   ],
   "source": [
    "card_df = bank_churn_df[['Card_Category', 'Gender','Counter']]\n",
    "card_df = card_df.groupby(['Card_Category', 'Gender']).agg(count=(\"Counter\", 'sum'))\n",
    "card_df"
   ]
  },
  {
   "cell_type": "code",
   "execution_count": null,
   "metadata": {
    "colab": {
     "base_uri": "https://localhost:8080/",
     "height": 359
    },
    "executionInfo": {
     "elapsed": 427,
     "status": "ok",
     "timestamp": 1645185508085,
     "user": {
      "displayName": "Solomon Ayanlakin",
      "photoUrl": "https://lh3.googleusercontent.com/a-/AOh14GiB_fxjvTIkhmNkjjvXiK_Bt-vZ7xIOpwCETDy55w=s64",
      "userId": "03035833066819512937"
     },
     "user_tz": -60
    },
    "id": "hmpXRrk1aUKe",
    "outputId": "a4f35a87-494a-4279-f7d5-b9c3d8f815c6"
   },
   "outputs": [
    {
     "data": {
      "text/plain": [
       "<matplotlib.axes._subplots.AxesSubplot at 0x7f44817a56d0>"
      ]
     },
     "execution_count": 165,
     "metadata": {},
     "output_type": "execute_result"
    },
    {
     "data": {
      "image/png": "[encoded data removed]",
      "text/plain": [
       "<Figure size 648x360 with 1 Axes>"
      ]
     },
     "metadata": {},
     "output_type": "display_data"
    }
   ],
   "source": [
    "card_df = bank_churn_df[['Card_Category', 'Gender','Counter']]\n",
    "\n",
    "# perform groupby\n",
    "card_df = card_df.groupby(['Card_Category', 'Gender']).agg(count=(\"Counter\", 'sum'))\n",
    "card_df = card_df.reset_index() \n",
    "\n",
    "# plot barplot\n",
    "sns.barplot(x=\"Card_Category\",\n",
    "           y=\"count\",\n",
    "           hue=\"Gender\",\n",
    "           data=card_df)"
   ]
  },
  {
   "cell_type": "code",
   "execution_count": null,
   "metadata": {
    "colab": {
     "base_uri": "https://localhost:8080/"
    },
    "executionInfo": {
     "elapsed": 28,
     "status": "ok",
     "timestamp": 1645185508087,
     "user": {
      "displayName": "Solomon Ayanlakin",
      "photoUrl": "https://lh3.googleusercontent.com/a-/AOh14GiB_fxjvTIkhmNkjjvXiK_Bt-vZ7xIOpwCETDy55w=s64",
      "userId": "03035833066819512937"
     },
     "user_tz": -60
    },
    "id": "gwsVQIZIKG9d",
    "outputId": "d69c2426-111d-4c7b-ad2f-1b5142859147"
   },
   "outputs": [
    {
     "data": {
      "text/plain": [
       "Blue        4335\n",
       "Silver       345\n",
       "Gold          78\n",
       "Platinum      11\n",
       "Name: Card_Category, dtype: int64"
      ]
     },
     "execution_count": 166,
     "metadata": {},
     "output_type": "execute_result"
    }
   ],
   "source": [
    "bank_churn_df['Card_Category'][bank_churn_df.Gender == 'M'].value_counts()"
   ]
  },
  {
   "cell_type": "markdown",
   "metadata": {
    "id": "puhoxW7qLaoM"
   },
   "source": [
    "**Answer**: We can easily see that male customers like to make use of the blue card"
   ]
  },
  {
   "cell_type": "markdown",
   "metadata": {
    "id": "kFDzZrdQKG9f"
   },
   "source": [
    "#### Q3: What is the Average Transaction amount and Credit Limit by Gender"
   ]
  },
  {
   "cell_type": "code",
   "execution_count": null,
   "metadata": {
    "colab": {
     "base_uri": "https://localhost:8080/",
     "height": 143
    },
    "executionInfo": {
     "elapsed": 333,
     "status": "ok",
     "timestamp": 1645187718392,
     "user": {
      "displayName": "Solomon Ayanlakin",
      "photoUrl": "https://lh3.googleusercontent.com/a-/AOh14GiB_fxjvTIkhmNkjjvXiK_Bt-vZ7xIOpwCETDy55w=s64",
      "userId": "03035833066819512937"
     },
     "user_tz": -60
    },
    "id": "Gsph9Uvid4l_",
    "outputId": "4810c301-4ac2-45b3-cc50-781824f2312f"
   },
   "outputs": [
    {
     "data": {
      "text/html": [
       "\n",
       "  <div id=\"df-427389d9-3cd0-419d-a7b7-c689ef0bc782\">\n",
       "    <div class=\"colab-df-container\">\n",
       "      <div>\n",
       "<style scoped>\n",
       "    .dataframe tbody tr th:only-of-type {\n",
       "        vertical-align: middle;\n",
       "    }\n",
       "\n",
       "    .dataframe tbody tr th {\n",
       "        vertical-align: top;\n",
       "    }\n",
       "\n",
       "    .dataframe thead th {\n",
       "        text-align: right;\n",
       "    }\n",
       "</style>\n",
       "<table border=\"1\" class=\"dataframe\">\n",
       "  <thead>\n",
       "    <tr style=\"text-align: right;\">\n",
       "      <th></th>\n",
       "      <th>avg_trans</th>\n",
       "      <th>avg_credit_limit</th>\n",
       "    </tr>\n",
       "    <tr>\n",
       "      <th>Gender</th>\n",
       "      <th></th>\n",
       "      <th></th>\n",
       "    </tr>\n",
       "  </thead>\n",
       "  <tbody>\n",
       "    <tr>\n",
       "      <th>F</th>\n",
       "      <td>4324.318216</td>\n",
       "      <td>5023.854274</td>\n",
       "    </tr>\n",
       "    <tr>\n",
       "      <th>M</th>\n",
       "      <td>4493.706228</td>\n",
       "      <td>12685.674963</td>\n",
       "    </tr>\n",
       "  </tbody>\n",
       "</table>\n",
       "</div>\n",
       "      <button class=\"colab-df-convert\" onclick=\"convertToInteractive('df-427389d9-3cd0-419d-a7b7-c689ef0bc782')\"\n",
       "              title=\"Convert this dataframe to an interactive table.\"\n",
       "              style=\"display:none;\">\n",
       "        \n",
       "  <svg xmlns=\"http://www.w3.org/2000/svg\" height=\"24px\"viewBox=\"0 0 24 24\"\n",
       "       width=\"24px\">\n",
       "    <path d=\"M0 0h24v24H0V0z\" fill=\"none\"/>\n",
       "    <path d=\"M18.56 5.44l.94 2.06.94-2.06 2.06-.94-2.06-.94-.94-2.06-.94 2.06-2.06.94zm-11 1L8.5 8.5l.94-2.06 2.06-.94-2.06-.94L8.5 2.5l-.94 2.06-2.06.94zm10 10l.94 2.06.94-2.06 2.06-.94-2.06-.94-.94-2.06-.94 2.06-2.06.94z\"/><path d=\"M17.41 7.96l-1.37-1.37c-.4-.4-.92-.59-1.43-.59-.52 0-1.04.2-1.43.59L10.3 9.45l-7.72 7.72c-.78.78-.78 2.05 0 2.83L4 21.41c.39.39.9.59 1.41.59.51 0 1.02-.2 1.41-.59l7.78-7.78 2.81-2.81c.8-.78.8-2.07 0-2.86zM5.41 20L4 18.59l7.72-7.72 1.47 1.35L5.41 20z\"/>\n",
       "  </svg>\n",
       "      </button>\n",
       "      \n",
       "  <style>\n",
       "    .colab-df-container {\n",
       "      display:flex;\n",
       "      flex-wrap:wrap;\n",
       "      gap: 12px;\n",
       "    }\n",
       "\n",
       "    .colab-df-convert {\n",
       "      background-color: #E8F0FE;\n",
       "      border: none;\n",
       "      border-radius: 50%;\n",
       "      cursor: pointer;\n",
       "      display: none;\n",
       "      fill: #1967D2;\n",
       "      height: 32px;\n",
       "      padding: 0 0 0 0;\n",
       "      width: 32px;\n",
       "    }\n",
       "\n",
       "    .colab-df-convert:hover {\n",
       "      background-color: #E2EBFA;\n",
       "      box-shadow: 0px 1px 2px rgba(60, 64, 67, 0.3), 0px 1px 3px 1px rgba(60, 64, 67, 0.15);\n",
       "      fill: #174EA6;\n",
       "    }\n",
       "\n",
       "    [theme=dark] .colab-df-convert {\n",
       "      background-color: #3B4455;\n",
       "      fill: #D2E3FC;\n",
       "    }\n",
       "\n",
       "    [theme=dark] .colab-df-convert:hover {\n",
       "      background-color: #434B5C;\n",
       "      box-shadow: 0px 1px 3px 1px rgba(0, 0, 0, 0.15);\n",
       "      filter: drop-shadow(0px 1px 2px rgba(0, 0, 0, 0.3));\n",
       "      fill: #FFFFFF;\n",
       "    }\n",
       "  </style>\n",
       "\n",
       "      <script>\n",
       "        const buttonEl =\n",
       "          document.querySelector('#df-427389d9-3cd0-419d-a7b7-c689ef0bc782 button.colab-df-convert');\n",
       "        buttonEl.style.display =\n",
       "          google.colab.kernel.accessAllowed ? 'block' : 'none';\n",
       "\n",
       "        async function convertToInteractive(key) {\n",
       "          const element = document.querySelector('#df-427389d9-3cd0-419d-a7b7-c689ef0bc782');\n",
       "          const dataTable =\n",
       "            await google.colab.kernel.invokeFunction('convertToInteractive',\n",
       "                                                     [key], {});\n",
       "          if (!dataTable) return;\n",
       "\n",
       "          const docLinkHtml = 'Like what you see? Visit the ' +\n",
       "            '<a target=\"_blank\" href=https://colab.research.google.com/notebooks/data_table.ipynb>data table notebook</a>'\n",
       "            + ' to learn more about interactive tables.';\n",
       "          element.innerHTML = '';\n",
       "          dataTable['output_type'] = 'display_data';\n",
       "          await google.colab.output.renderOutput(dataTable, element);\n",
       "          const docLink = document.createElement('div');\n",
       "          docLink.innerHTML = docLinkHtml;\n",
       "          element.appendChild(docLink);\n",
       "        }\n",
       "      </script>\n",
       "    </div>\n",
       "  </div>\n",
       "  "
      ],
      "text/plain": [
       "          avg_trans  avg_credit_limit\n",
       "Gender                               \n",
       "F       4324.318216       5023.854274\n",
       "M       4493.706228      12685.674963"
      ]
     },
     "execution_count": 208,
     "metadata": {},
     "output_type": "execute_result"
    }
   ],
   "source": [
    "q3 = bank_churn_df[['Gender', \n",
    "                    'Total_Trans_Amt', \n",
    "                    'Credit_Limit']]\n",
    "q3 = q3.groupby(['Gender']).agg(avg_trans=(\"Total_Trans_Amt\", 'mean'), \n",
    "                                avg_credit_limit=(\"Credit_Limit\", 'mean'))\n",
    "q3"
   ]
  },
  {
   "cell_type": "code",
   "execution_count": null,
   "metadata": {
    "id": "JxBxs71G1Ezy"
   },
   "outputs": [],
   "source": [
    "q3 = q3.reset_index()"
   ]
  },
  {
   "cell_type": "code",
   "execution_count": 227,
   "metadata": {
    "colab": {
     "base_uri": "https://localhost:8080/",
     "height": 470
    },
    "executionInfo": {
     "elapsed": 1322,
     "status": "ok",
     "timestamp": 1645189781430,
     "user": {
      "displayName": "Solomon Ayanlakin",
      "photoUrl": "https://lh3.googleusercontent.com/a-/AOh14GiB_fxjvTIkhmNkjjvXiK_Bt-vZ7xIOpwCETDy55w=s64",
      "userId": "03035833066819512937"
     },
     "user_tz": -60
    },
    "id": "VmYCXPk7vVgX",
    "outputId": "4fbbaebf-b8ae-430b-b5a3-1318c8a9139d"
   },
   "outputs": [
    {
     "data": {
      "image/png": "[encoded data removed]",
      "text/plain": [
       "<Figure size 1440x504 with 2 Axes>"
      ]
     },
     "metadata": {},
     "output_type": "display_data"
    }
   ],
   "source": [
    "fig, axs = plt.subplots(1,2, figsize=(20, 7))\n",
    "a = sns.barplot(x=\"Gender\", \n",
    "            y=\"avg_trans\",\n",
    "            data=q3, ax = axs[0]\n",
    "            )\n",
    "#a.set_axis_labels(\"Gender\", \"Average Transaction Amount ($)\")\n",
    "\n",
    "b = sns.barplot(x=\"Gender\", \n",
    "            y=\"avg_credit_limit\",\n",
    "            data=q3, ax = axs[1]\n",
    "            )\n",
    "\n",
    "#b.set_axis_labels(\"Gender\", \"Average Credit Limit ($)\")"
   ]
  },
  {
   "cell_type": "markdown",
   "metadata": {
    "id": "avaFn8Yl_26j"
   },
   "source": [
    "#### Q4: What is the education level of all attrited customers?\n"
   ]
  },
  {
   "cell_type": "code",
   "execution_count": 245,
   "metadata": {
    "colab": {
     "base_uri": "https://localhost:8080/"
    },
    "executionInfo": {
     "elapsed": 328,
     "status": "ok",
     "timestamp": 1645192651150,
     "user": {
      "displayName": "Solomon Ayanlakin",
      "photoUrl": "https://lh3.googleusercontent.com/a-/AOh14GiB_fxjvTIkhmNkjjvXiK_Bt-vZ7xIOpwCETDy55w=s64",
      "userId": "03035833066819512937"
     },
     "user_tz": -60
    },
    "id": "Ax5HYHI0HI5_",
    "outputId": "94417049-895f-439c-dcbf-d916ff8ab861"
   },
   "outputs": [
    {
     "name": "stdout",
     "output_type": "stream",
     "text": [
      "Education_Level\n",
      "Graduate         487\n",
      "High School      306\n",
      "Unknown          256\n",
      "Uneducated       237\n",
      "College          154\n",
      "Doctorate         95\n",
      "Post-Graduate     92\n",
      "dtype: int64\n"
     ]
    }
   ],
   "source": [
    "q4=bank_churn_df[bank_churn_df.Attrition_Flag == 'Attrited Customer'].groupby('Education_Level').size().sort_values(ascending=False)\n",
    "print(q4)"
   ]
  },
  {
   "cell_type": "markdown",
   "metadata": {
    "id": "OvSwcMcFKG9s"
   },
   "source": [
    "## Inferences and Conclusion\n",
    "\n",
    "**TODO** - Write some explanation here: a summary of all the inferences drawn from the analysis, and any conclusions you may have drawn by answering various questions."
   ]
  },
  {
   "cell_type": "code",
   "execution_count": 228,
   "metadata": {
    "executionInfo": {
     "elapsed": 582,
     "status": "ok",
     "timestamp": 1645190153594,
     "user": {
      "displayName": "Solomon Ayanlakin",
      "photoUrl": "https://lh3.googleusercontent.com/a-/AOh14GiB_fxjvTIkhmNkjjvXiK_Bt-vZ7xIOpwCETDy55w=s64",
      "userId": "03035833066819512937"
     },
     "user_tz": -60
    },
    "id": "DtHkyxBxKG9t"
   },
   "outputs": [],
   "source": [
    "import jovian"
   ]
  },
  {
   "cell_type": "code",
   "execution_count": 229,
   "metadata": {
    "colab": {
     "base_uri": "https://localhost:8080/",
     "height": 87
    },
    "executionInfo": {
     "elapsed": 2300,
     "status": "ok",
     "timestamp": 1645190156500,
     "user": {
      "displayName": "Solomon Ayanlakin",
      "photoUrl": "https://lh3.googleusercontent.com/a-/AOh14GiB_fxjvTIkhmNkjjvXiK_Bt-vZ7xIOpwCETDy55w=s64",
      "userId": "03035833066819512937"
     },
     "user_tz": -60
    },
    "id": "X03KDhNuKG9u",
    "outputId": "9cca24b6-27fe-4002-9fac-cc66e784f65c"
   },
   "outputs": [
    {
     "name": "stdout",
     "output_type": "stream",
     "text": [
      "[jovian] Detected Colab notebook...\u001b[0m\n",
      "[jovian] Uploading colab notebook to Jovian...\u001b[0m\n",
      "Committed successfully! https://jovian.ai/solomon-ayanlakin/credit-card-churn-analysis\n"
     ]
    },
    {
     "data": {
      "application/vnd.google.colaboratory.intrinsic+json": {
       "type": "string"
      },
      "text/plain": [
       "'https://jovian.ai/solomon-ayanlakin/credit-card-churn-analysis'"
      ]
     },
     "execution_count": 229,
     "metadata": {},
     "output_type": "execute_result"
    }
   ],
   "source": [
    "jovian.commit()"
   ]
  },
  {
   "cell_type": "markdown",
   "metadata": {
    "id": "lQQuPg_iKG9x"
   },
   "source": [
    "## References and Future Work\n",
    "\n",
    "To build upon the credit card exploratory data analysis, I would be building a model to predict credit card churn with up to 90% accuracy. \n",
    "\n",
    "By splitting the data into test and train, I can train my written model."
   ]
  },
  {
   "cell_type": "markdown",
   "metadata": {
    "id": "QcnbY10IKG9z"
   },
   "source": [
    "> Submission Instructions (delete this cell)\n",
    "> \n",
    "> - Upload your notebook to your Jovian.ml profile using `jovian.commit`.\n",
    "> - **Make a submission here**: https://jovian.ml/learn/data-analysis-with-python-zero-to-pandas/assignment/course-project\n",
    "> - Share your work on the forum: https://jovian.ml/forum/t/course-project-on-exploratory-data-analysis-discuss-and-share-your-work/11684\n",
    "> - Share your work on social media (Twitter, LinkedIn, Telegram etc.) and tag [@JovianML](https://twitter.com/jovianml)\n",
    ">\n",
    "> (Optional) Write a blog post\n",
    "> \n",
    "> - A blog post is a great way to present and showcase your work.  \n",
    "> - Sign up on [Medium.com](https://medium.com) to write a blog post for your project.\n",
    "> - Copy over the explanations from your Jupyter notebook into your blog post, and [embed code cells & outputs](https://medium.com/jovianml/share-and-embed-jupyter-notebooks-online-with-jovian-ml-df709a03064e)\n",
    "> - Check out the Jovian.ml Medium publication for inspiration: https://medium.com/jovianml\n",
    "\n",
    "\n",
    " "
   ]
  },
  {
   "cell_type": "code",
   "execution_count": 230,
   "metadata": {
    "executionInfo": {
     "elapsed": 326,
     "status": "ok",
     "timestamp": 1645190176470,
     "user": {
      "displayName": "Solomon Ayanlakin",
      "photoUrl": "https://lh3.googleusercontent.com/a-/AOh14GiB_fxjvTIkhmNkjjvXiK_Bt-vZ7xIOpwCETDy55w=s64",
      "userId": "03035833066819512937"
     },
     "user_tz": -60
    },
    "id": "Pgn8ATqJKG90"
   },
   "outputs": [],
   "source": [
    "import jovian"
   ]
  },
  {
   "cell_type": "code",
   "execution_count": 231,
   "metadata": {
    "colab": {
     "base_uri": "https://localhost:8080/",
     "height": 87
    },
    "executionInfo": {
     "elapsed": 2238,
     "status": "ok",
     "timestamp": 1645190179210,
     "user": {
      "displayName": "Solomon Ayanlakin",
      "photoUrl": "https://lh3.googleusercontent.com/a-/AOh14GiB_fxjvTIkhmNkjjvXiK_Bt-vZ7xIOpwCETDy55w=s64",
      "userId": "03035833066819512937"
     },
     "user_tz": -60
    },
    "id": "TfrIFGgRKG92",
    "outputId": "2ca7b9c6-0a4c-4ee0-94fb-9a1773ab9312",
    "scrolled": true
   },
   "outputs": [
    {
     "name": "stdout",
     "output_type": "stream",
     "text": [
      "[jovian] Detected Colab notebook...\u001b[0m\n",
      "[jovian] Uploading colab notebook to Jovian...\u001b[0m\n",
      "Committed successfully! https://jovian.ai/solomon-ayanlakin/credit-card-churn-analysis\n"
     ]
    },
    {
     "data": {
      "application/vnd.google.colaboratory.intrinsic+json": {
       "type": "string"
      },
      "text/plain": [
       "'https://jovian.ai/solomon-ayanlakin/credit-card-churn-analysis'"
      ]
     },
     "execution_count": 231,
     "metadata": {},
     "output_type": "execute_result"
    }
   ],
   "source": [
    "jovian.commit()"
   ]
  }
 ],
 "metadata": {
  "colab": {
   "collapsed_sections": [
    "epd4Xj_8KG9X",
    "nZvy92A1KG9m",
    "OvSwcMcFKG9s",
    "lQQuPg_iKG9x"
   ],
   "name": "zerotopandas-course-project.ipynb",
   "provenance": []
  },
  "language_info": {
   "codemirror_mode": {
    "name": "ipython",
    "version": 3
   },
   "file_extension": ".py",
   "mimetype": "text/x-python",
   "name": "python",
   "nbconvert_exporter": "python",
   "pygments_lexer": "ipython3",
   "version": "3.9.7"
  }
 },
 "nbformat": 4,
 "nbformat_minor": 0
}